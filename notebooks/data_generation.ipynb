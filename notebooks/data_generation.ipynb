{
 "cells": [
  {
   "cell_type": "markdown",
   "metadata": {},
   "source": [
    "# Generates the following files:\n",
    "* See commented out `to_pickle` lines.\n",
    "\n",
    "1. route_geoms_df.pkl\n",
    "2. lxlgrids_davison.pkl\n",
    "3. XDSegIds_for_all_trips.pkl\n",
    "\n",
    "### Requires `inrix_grouped.pkl`  \n",
    "    * This is an external file that lists all the road segment information covered by inrix.  \n",
    "\n",
    "### These 2 are just variations of the `triplevel_df.parquet`, which is generated in the `day_ahead` and `any_day` files.\n",
    "    1. triplevel_df_processed_time_window_with_IDs.pickle\n",
    "    2. triplevel_df_processed_MAIN_NOTEBOOK.pickle"
   ]
  },
  {
   "cell_type": "code",
   "execution_count": 1,
   "metadata": {},
   "outputs": [
    {
     "name": "stderr",
     "output_type": "stream",
     "text": [
      "/home/jptalusan/anaconda3/envs/py39/lib/python3.9/site-packages/geopandas/_compat.py:112: UserWarning: The Shapely GEOS version (3.10.2-CAPI-1.16.0) is incompatible with the GEOS version PyGEOS was compiled with (3.10.1-CAPI-1.16.0). Conversions between both will be slow.\n",
      "  warnings.warn(\n"
     ]
    },
    {
     "name": "stdout",
     "output_type": "stream",
     "text": [
      "22/08/25 13:49:42 WARN Utils: Your hostname, scope-vanderbilt resolves to a loopback address: 127.0.1.1; using 10.2.218.69 instead (on interface enp8s0)\n",
      "22/08/25 13:49:42 WARN Utils: Set SPARK_LOCAL_IP if you need to bind to another address\n"
     ]
    },
    {
     "name": "stderr",
     "output_type": "stream",
     "text": [
      "Setting default log level to \"WARN\".\n",
      "To adjust logging level use sc.setLogLevel(newLevel). For SparkR, use setLogLevel(newLevel).\n"
     ]
    },
    {
     "name": "stdout",
     "output_type": "stream",
     "text": [
      "22/08/25 13:49:43 WARN NativeCodeLoader: Unable to load native-hadoop library for your platform... using builtin-java classes where applicable\n",
      "22/08/25 13:49:43 WARN Utils: Service 'SparkUI' could not bind on port 4040. Attempting port 4041.\n",
      "22/08/25 13:49:43 WARN Utils: Service 'SparkUI' could not bind on port 4041. Attempting port 4042.\n"
     ]
    }
   ],
   "source": [
    "import os\n",
    "os.chdir(\"/media/seconddrive/mta_stationing_problem\")\n",
    "\n",
    "import matplotlib.pyplot as plt\n",
    "import geopandas as gpd\n",
    "import pandas as pd\n",
    "import numpy as np\n",
    "\n",
    "from tqdm import tqdm\n",
    "from shapely.geometry import Polygon, LineString\n",
    "import warnings\n",
    "warnings.filterwarnings('ignore')\n",
    "from pyspark import SparkContext,SparkConf\n",
    "from pyspark.sql import SQLContext\n",
    "from pyspark.sql import Row, SparkSession\n",
    "from pyspark.sql.types import IntegerType\n",
    "from pyspark.sql import functions as F\n",
    "from pyspark import SparkConf\n",
    "import pandas as pd\n",
    "import pickle\n",
    "from tqdm import tqdm\n",
    "spark = SparkSession.builder.config('spark.executor.cores', '8').config('spark.executor.memory', '80g')\\\n",
    "        .config(\"spark.sql.session.timeZone\", \"UTC\").config('spark.driver.memory', '80g').master(\"local[26]\")\\\n",
    "        .appName(\"wego-daily\").config('spark.driver.extraJavaOptions', '-Duser.timezone=UTC').config('spark.executor.extraJavaOptions', '-Duser.timezone=UTC')\\\n",
    "        .config(\"spark.sql.datetime.java8API.enabled\", \"true\").config(\"spark.sql.execution.arrow.pyspark.enabled\", \"true\")\\\n",
    "        .config(\"spark.sql.autoBroadcastJoinThreshold\", -1)\\\n",
    "        .config(\"spark.driver.maxResultSize\", 0)\\\n",
    "        .config(\"spark.shuffle.spill\", \"true\")\\\n",
    "        .config(\"spark.driver.extraJavaOptions\", \"-Dio.netty.tryReflectionSetAccessible=true\")\\\n",
    "        .config(\"spark.executor.extraJavaOptions\", \"-Dio.netty.tryReflectionSetAccessible=true\")\\\n",
    "        .config(\"spark.ui.showConsoleProgress\", \"false\")\\\n",
    "        .getOrCreate()\n",
    "spark.sparkContext.setLogLevel(\"ERROR\")"
   ]
  },
  {
   "cell_type": "code",
   "execution_count": 2,
   "metadata": {},
   "outputs": [
    {
     "data": {
      "text/plain": [
       "'/media/seconddrive/mta_stationing_problem'"
      ]
     },
     "execution_count": 2,
     "metadata": {},
     "output_type": "execute_result"
    }
   ],
   "source": [
    "os.getcwd()"
   ]
  },
  {
   "cell_type": "markdown",
   "metadata": {},
   "source": [
    "# Generates 1x1 mile^2 grids across Nashville"
   ]
  },
  {
   "cell_type": "code",
   "execution_count": null,
   "metadata": {},
   "outputs": [],
   "source": [
    "fp = os.path.join('data', 'shapefiles', \"tncounty\")\n",
    "gdf_county = gpd.read_file(fp)\n",
    "gdf_county.plot()\n",
    "gdf_dav = gdf_county[gdf_county[\"NAME\"] == \"Davidson\"]\n",
    "gdf_david = gdf_dav.to_crs(\"EPSG:4326\")\n",
    "gdf_david.crs\n",
    "xmin, ymin, xmax, ymax = gdf_dav.total_bounds\n",
    "gdf_dav.total_bounds\n",
    "length = 5280\n",
    "wide = 5280\n",
    "\n",
    "cols = list(np.arange(xmin, xmax + wide, wide))\n",
    "rows = list(np.arange(ymin, ymax + length, length))\n",
    "\n",
    "polygons = []\n",
    "for x in cols[:-1]:\n",
    "    for y in rows[:-1]:\n",
    "        polygons.append(Polygon([(x,y), (x+wide, y), (x+wide, y+length), (x, y+length)]))\n",
    "\n",
    "grid = gpd.GeoDataFrame({'geometry':polygons})\n",
    "fp = os.path.join('data', 'shapefiles', 'grid_shapes.shp')\n",
    "grid.to_file(fp)\n",
    "grid.plot(ax = gdf_dav.plot(color='blue'), color='none', edgecolor='red')\n",
    "grids = grid.set_crs(\"EPSG:2274\")\n",
    "dav_grids = gpd.overlay(gdf_dav, grids, how='intersection')\n",
    "\n",
    "\n",
    "dav_grids['row_num'] = np.arange(len(dav_grids))\n",
    "dav_grids2 = dav_grids.to_crs(\"EPSG:4326\")\n",
    "\n",
    "# fp = os.path.join('data', '1x1grids_davidson.pkl')\n",
    "# dav_grids2.to_pickle(fp)"
   ]
  },
  {
   "cell_type": "markdown",
   "metadata": {},
   "source": [
    "# Gets all route geometries, probably easier from GTFS but it did not have all files i need (or i missed it)"
   ]
  },
  {
   "cell_type": "code",
   "execution_count": null,
   "metadata": {},
   "outputs": [],
   "source": [
    "f = os.path.join('..', '..', 'data', 'processed_parquet_JP_all')\n",
    "apcdata = spark.read.load(f)\n",
    "apcdata = apcdata.sort(\"arrival_time\")\\\n",
    "            .select(\"transit_date\", \"trip_id\", \"map_longitude\", \"map_latitude\")\\\n",
    "            .groupby('transit_date', 'trip_id')\\\n",
    "            .agg(F.collect_list(\"map_longitude\").alias(\"map_longitude\"), F.collect_list(\"map_latitude\").alias(\"map_latitude\"))\n",
    "\n",
    "apcdata = apcdata.drop(\"transit_date\")\n",
    "apcdata = apcdata.dropDuplicates(['trip_id'])\n",
    "def create_lineString(x):\n",
    "    geometry = [xy for xy in zip(x.map_longitude, x.map_latitude)]\n",
    "    return LineString(geometry)\n",
    "\n",
    "apcdf = apcdata.toPandas()\n",
    "apcdf['geometry'] = apcdf.apply(lambda x: create_lineString(x), axis=1)\n",
    "apcdf = apcdf.set_geometry('geometry')\n",
    "apcdf = apcdf.drop(columns=['map_longitude', 'map_latitude'], axis=1)\n",
    "# fp = os.path.join('data', 'route_geoms_df.pkl')\n",
    "# apcdf.to_pickle(fp)"
   ]
  },
  {
   "cell_type": "markdown",
   "metadata": {},
   "source": [
    "# Gets all XDSegIDs (Inrix segments) used in the trips"
   ]
  },
  {
   "cell_type": "code",
   "execution_count": null,
   "metadata": {},
   "outputs": [],
   "source": [
    "# Load inrix segment data\n",
    "fp = os.path.join('data', 'inrix_grouped.pkl')\n",
    "with open(fp, \"rb\") as fh:\n",
    "  inrix_segment_df = pickle.load(fh)\n",
    "\n",
    "inrix_segment_df = inrix_segment_df.set_geometry('geometry')\n",
    "inrix_segment_df = inrix_segment_df[inrix_segment_df['County_inrix'] == 'davidson']\n",
    "davidson_segs = inrix_segment_df.XDSegID.unique().tolist()"
   ]
  },
  {
   "cell_type": "code",
   "execution_count": null,
   "metadata": {},
   "outputs": [],
   "source": [
    "# Rtree would be faster\n",
    "def find_grids_intersecting(gdf, linestring):\n",
    "    spatial_index = gdf.sindex\n",
    "    possible_matches_index = list(spatial_index.intersection(linestring.bounds))\n",
    "    possible_matches = gdf.iloc[possible_matches_index]\n",
    "    precise_matches = possible_matches[possible_matches.intersects(linestring)]\n",
    "    return precise_matches"
   ]
  },
  {
   "cell_type": "code",
   "execution_count": null,
   "metadata": {},
   "outputs": [],
   "source": [
    "# Generate/load 1x1 mile grids\n",
    "fp = os.path.join('data', '1x1grids_davidson.pkl')\n",
    "grids_df = pd.read_pickle(fp)\n",
    "grids_df = grids_df.set_geometry('geometry')"
   ]
  },
  {
   "cell_type": "code",
   "execution_count": null,
   "metadata": {},
   "outputs": [],
   "source": [
    "# Get route linestring data\n",
    "fp = os.path.join('data', 'route_geoms_df.pkl')\n",
    "trip_id_geom_data = pd.read_pickle(fp)\n",
    "trip_id_geom_data.head(1)"
   ]
  },
  {
   "cell_type": "code",
   "execution_count": null,
   "metadata": {},
   "outputs": [],
   "source": [
    "# Getting segments in trips\n",
    "from concurrent.futures import ThreadPoolExecutor\n",
    "from multiprocessing import cpu_count\n",
    "# Get APC data\n",
    "fp = os.path.join('data', 'triplevel_df_processed_MAIN_NOTEBOOK.pickle')\n",
    "df = pd.read_pickle(fp)\n",
    "df = df.dropna()\n",
    "df = df.drop_duplicates(subset=['trip_id', 'route_id_direction'], keep='first')\n",
    "df = df.reset_index(drop=True)\n",
    "\n",
    "CORES = cpu_count()\n",
    "\n",
    "def merge_cluster(idx):\n",
    "    trip_ids = df.iloc[idx].trip_id.tolist()\n",
    "    all_used_segments = []\n",
    "    for trip_id in trip_ids:\n",
    "        route_linestring = trip_id_geom_data[trip_id_geom_data['trip_id'] == trip_id]['geometry'].values[0]\n",
    "        if route_linestring is None: \n",
    "            print(\"trip id LS not found.\")\n",
    "        \n",
    "        route_grids = find_grids_intersecting(grids_df, route_linestring)\n",
    "        if route_grids.empty: \n",
    "            print(\"route grids for trip not found.\")\n",
    "        \n",
    "        route_segments = inrix_segment_df[inrix_segment_df['geometry'].within(route_grids.unary_union)]['XDSegID'].tolist()\n",
    "        if len(route_segments) == 0: \n",
    "            print(\"route segments for trip not found.\")\n",
    "        \n",
    "        all_used_segments = list(set(all_used_segments + route_segments))\n",
    "    return all_used_segments\n",
    "o_index_group = np.array_split(df.index, CORES)\n",
    "\n",
    "with ThreadPoolExecutor(max_workers=CORES) as pool:\n",
    "    results = pool.map(merge_cluster, o_index_group)\n",
    "results = list(results)\n",
    "out = []\n",
    "[out.extend(r) for r in results]\n",
    "results = list(set(out))\n",
    "fp = os.path.join('data', 'XDSegIDs_for_all_trips.pkl')\n",
    "with open(fp, 'wb') as f:\n",
    "    pickle.dump(results, f)"
   ]
  },
  {
   "cell_type": "markdown",
   "metadata": {},
   "source": [
    "# For the simulator"
   ]
  },
  {
   "cell_type": "code",
   "execution_count": 6,
   "metadata": {},
   "outputs": [
    {
     "name": "stdout",
     "output_type": "stream",
     "text": [
      "\n",
      "SELECT trip_id, transit_date, arrival_time, block_abbr, stop_sequence, stop_id_original, load, ons, route_direction_name, route_id, dayofweek\n",
      "FROM apc\n",
      "\n"
     ]
    }
   ],
   "source": [
    "f = os.path.join('/home/jptalusan/mta_stationing_problem/data/processed/apc_weather_gtfs.parquet')\n",
    "apcdata = spark.read.load(f)\n",
    "todelete = apcdata.filter('(load < 0) OR (load IS NULL)').select('transit_date','trip_id','overload_id').distinct()\n",
    "todelete=todelete.withColumn('marker',F.lit(1))\n",
    "\n",
    "#joining and whereever the records are not found in sync error table the marker will be null\n",
    "apcdataafternegdelete=apcdata.join(todelete,on=['trip_id','transit_date','overload_id'],how='left').filter('marker is null').drop('marker')\n",
    "apcdataafternegdelete = apcdataafternegdelete.sort(['trip_id', 'overload_id'])\n",
    "\n",
    "get_columns = ['trip_id', 'transit_date', 'arrival_time', \n",
    "               'block_abbr', 'stop_sequence', 'stop_id_original',\n",
    "               'load', 'ons',\n",
    "               'route_direction_name', 'route_id',\n",
    "               'dayofweek']\n",
    "get_str = \", \".join([c for c in get_columns])\n",
    "\n",
    "apcdataafternegdelete.createOrReplaceTempView(\"apc\")\n",
    "\n",
    "# # filter subset\n",
    "query = f\"\"\"\n",
    "SELECT {get_str}\n",
    "FROM apc\n",
    "\"\"\"\n",
    "print(query)\n",
    "\n",
    "apcdataafternegdelete = spark.sql(query)\n",
    "df = apcdataafternegdelete.toPandas()\n",
    "df['route_id_direction'] = df['route_id'].astype('str') + '_' + df['route_direction_name']"
   ]
  },
  {
   "cell_type": "code",
   "execution_count": 7,
   "metadata": {},
   "outputs": [],
   "source": [
    "f = os.path.join('/home/jptalusan/mta_stationing_problem/data/processed/simulator_baseline.pkl')\n",
    "df.to_pickle(f)"
   ]
  },
  {
   "cell_type": "code",
   "execution_count": 19,
   "metadata": {},
   "outputs": [],
   "source": [
    "TIMEWINDOW = 60"
   ]
  },
  {
   "cell_type": "markdown",
   "metadata": {},
   "source": [
    "## Occupancy Distribution"
   ]
  },
  {
   "cell_type": "code",
   "execution_count": 10,
   "metadata": {},
   "outputs": [],
   "source": [
    "# df['route_id_direction'] = df['route_id'].astype('str') + '_' + df['route_direction_name']\n",
    "df = df.dropna(subset=['arrival_time'])"
   ]
  },
  {
   "cell_type": "code",
   "execution_count": 34,
   "metadata": {},
   "outputs": [],
   "source": [
    "from statsmodels.distributions.empirical_distribution import ECDF, monotone_fn_inverter\n",
    "\n",
    "def get_ecdf(tdf, route_id_direction, stop, param='ons', window=60):\n",
    "    tdf = tdf[(tdf['route_id_direction'] == route_id_direction) & \n",
    "            (tdf['stop_id_original'] == stop)]\n",
    "    tdf.index = tdf['arrival_time']\n",
    "    tdf = tdf.resample(f\"{window}min\").agg(np.sum).reset_index()\n",
    "    tdf['hour'] = tdf['arrival_time'].dt.hour\n",
    "    tdf['dow'] = tdf['arrival_time'].dt.dayofweek\n",
    "    tdf = tdf[(tdf['hour'] == 12) & (tdf['dow'] == 5)].sort_values(param)\n",
    "    plt.plot(np.sort(tdf[param].to_numpy()), np.linspace(0, 1, len(tdf), endpoint=False))\n",
    "    ecdf = ECDF(tdf[param].to_numpy())\n",
    "    mfi = monotone_fn_inverter(ecdf, tdf[param].to_numpy())\n",
    "    return ecdf, mfi"
   ]
  },
  {
   "cell_type": "code",
   "execution_count": 39,
   "metadata": {},
   "outputs": [
    {
     "data": {
      "text/plain": [
       "Timestamp('2020-03-26 05:05:48')"
      ]
     },
     "execution_count": 39,
     "metadata": {},
     "output_type": "execute_result"
    }
   ],
   "source": [
    "max(pd.Timestamp('2020-02-04 05:09:42'), pd.Timestamp('2020-03-26 05:05:48'))"
   ]
  },
  {
   "cell_type": "code",
   "execution_count": 50,
   "metadata": {},
   "outputs": [
    {
     "data": {
      "text/html": [
       "<div>\n",
       "<style scoped>\n",
       "    .dataframe tbody tr th:only-of-type {\n",
       "        vertical-align: middle;\n",
       "    }\n",
       "\n",
       "    .dataframe tbody tr th {\n",
       "        vertical-align: top;\n",
       "    }\n",
       "\n",
       "    .dataframe thead th {\n",
       "        text-align: right;\n",
       "    }\n",
       "</style>\n",
       "<table border=\"1\" class=\"dataframe\">\n",
       "  <thead>\n",
       "    <tr style=\"text-align: right;\">\n",
       "      <th></th>\n",
       "      <th>block_abbr</th>\n",
       "      <th>stop_sequence</th>\n",
       "      <th>load</th>\n",
       "      <th>ons</th>\n",
       "      <th>route_id</th>\n",
       "      <th>dayofweek</th>\n",
       "      <th>hour</th>\n",
       "    </tr>\n",
       "    <tr>\n",
       "      <th>transit_date</th>\n",
       "      <th></th>\n",
       "      <th></th>\n",
       "      <th></th>\n",
       "      <th></th>\n",
       "      <th></th>\n",
       "      <th></th>\n",
       "      <th></th>\n",
       "    </tr>\n",
       "  </thead>\n",
       "  <tbody>\n",
       "    <tr>\n",
       "      <th>2020-01-02</th>\n",
       "      <td>1400.0</td>\n",
       "      <td>1.5</td>\n",
       "      <td>3.0</td>\n",
       "      <td>1.0</td>\n",
       "      <td>19.0</td>\n",
       "      <td>5.0</td>\n",
       "      <td>5.0</td>\n",
       "    </tr>\n",
       "    <tr>\n",
       "      <th>2020-01-09</th>\n",
       "      <td>1400.0</td>\n",
       "      <td>1.5</td>\n",
       "      <td>7.0</td>\n",
       "      <td>3.0</td>\n",
       "      <td>19.0</td>\n",
       "      <td>5.0</td>\n",
       "      <td>5.0</td>\n",
       "    </tr>\n",
       "    <tr>\n",
       "      <th>2020-01-16</th>\n",
       "      <td>1400.0</td>\n",
       "      <td>1.5</td>\n",
       "      <td>4.0</td>\n",
       "      <td>1.5</td>\n",
       "      <td>19.0</td>\n",
       "      <td>5.0</td>\n",
       "      <td>5.0</td>\n",
       "    </tr>\n",
       "    <tr>\n",
       "      <th>2020-02-27</th>\n",
       "      <td>1400.0</td>\n",
       "      <td>1.5</td>\n",
       "      <td>1.0</td>\n",
       "      <td>0.5</td>\n",
       "      <td>19.0</td>\n",
       "      <td>5.0</td>\n",
       "      <td>5.0</td>\n",
       "    </tr>\n",
       "    <tr>\n",
       "      <th>2020-03-05</th>\n",
       "      <td>1400.0</td>\n",
       "      <td>1.5</td>\n",
       "      <td>1.0</td>\n",
       "      <td>0.5</td>\n",
       "      <td>19.0</td>\n",
       "      <td>5.0</td>\n",
       "      <td>5.0</td>\n",
       "    </tr>\n",
       "    <tr>\n",
       "      <th>2020-03-12</th>\n",
       "      <td>1400.0</td>\n",
       "      <td>1.5</td>\n",
       "      <td>5.0</td>\n",
       "      <td>2.5</td>\n",
       "      <td>19.0</td>\n",
       "      <td>5.0</td>\n",
       "      <td>5.0</td>\n",
       "    </tr>\n",
       "    <tr>\n",
       "      <th>2020-03-26</th>\n",
       "      <td>1400.0</td>\n",
       "      <td>1.5</td>\n",
       "      <td>1.0</td>\n",
       "      <td>0.0</td>\n",
       "      <td>19.0</td>\n",
       "      <td>5.0</td>\n",
       "      <td>5.0</td>\n",
       "    </tr>\n",
       "  </tbody>\n",
       "</table>\n",
       "</div>"
      ],
      "text/plain": [
       "              block_abbr  stop_sequence  load  ons  route_id  dayofweek  hour\n",
       "transit_date                                                                 \n",
       "2020-01-02        1400.0            1.5   3.0  1.0      19.0        5.0   5.0\n",
       "2020-01-09        1400.0            1.5   7.0  3.0      19.0        5.0   5.0\n",
       "2020-01-16        1400.0            1.5   4.0  1.5      19.0        5.0   5.0\n",
       "2020-02-27        1400.0            1.5   1.0  0.5      19.0        5.0   5.0\n",
       "2020-03-05        1400.0            1.5   1.0  0.5      19.0        5.0   5.0\n",
       "2020-03-12        1400.0            1.5   5.0  2.5      19.0        5.0   5.0\n",
       "2020-03-26        1400.0            1.5   1.0  0.0      19.0        5.0   5.0"
      ]
     },
     "execution_count": 50,
     "metadata": {},
     "output_type": "execute_result"
    }
   ],
   "source": [
    "import datetime as dt\n",
    "\n",
    "tdf = df[(df['route_id_direction'] == '19_FROM DOWNTOWN') &\n",
    "         (df['stop_sequence'].isin([1, 2])) &\n",
    "         (df['block_abbr'] == 1400)].sort_values('arrival_time')\n",
    "tdf['hour'] = tdf.arrival_time.dt.hour\n",
    "tdf = tdf[(tdf['hour'] == 5) & (tdf['dayofweek'] == 5)]\n",
    "tdf['scheduled_timestamp'] = (tdf['arrival_time'] - dt.datetime(1970,1,1)).dt.total_seconds()\n",
    "tdf['time_to_next_stop'] = tdf['scheduled_timestamp'].shift(-1) - tdf['scheduled_timestamp']\n",
    "tdf.groupby('transit_date').mean()"
   ]
  },
  {
   "cell_type": "code",
   "execution_count": 36,
   "metadata": {},
   "outputs": [
    {
     "data": {
      "text/plain": [
       "(0.3553719008264463, array(14.97))"
      ]
     },
     "execution_count": 36,
     "metadata": {},
     "output_type": "execute_result"
    },
    {
     "data": {
      "image/png": "[encoded data removed]",
      "text/plain": [
       "<Figure size 432x288 with 1 Axes>"
      ]
     },
     "metadata": {
      "needs_background": "light"
     },
     "output_type": "display_data"
    }
   ],
   "source": [
    "ecdf, mfi = get_ecdf(df, '19_FROM DOWNTOWN', 'MCC5_4', 'ons')\n",
    "ecdf(0), mfi(0.85)"
   ]
  },
  {
   "cell_type": "code",
   "execution_count": null,
   "metadata": {},
   "outputs": [],
   "source": [
    "\n"
   ]
  },
  {
   "cell_type": "markdown",
   "metadata": {},
   "source": [
    "## Boarding Distribution"
   ]
  },
  {
   "cell_type": "markdown",
   "metadata": {},
   "source": [
    "## Accident Probability"
   ]
  }
 ],
 "metadata": {
  "kernelspec": {
   "display_name": "Python 3.9.13 ('py39')",
   "language": "python",
   "name": "python3"
  },
  "language_info": {
   "codemirror_mode": {
    "name": "ipython",
    "version": 3
   },
   "file_extension": ".py",
   "mimetype": "text/x-python",
   "name": "python",
   "nbconvert_exporter": "python",
   "pygments_lexer": "ipython3",
   "version": "3.9.13"
  },
  "orig_nbformat": 4,
  "vscode": {
   "interpreter": {
    "hash": "88d12193eb5d2fbe298f9bb9e457ac6a535b56551d0f537fc14a1636657a2895"
   }
  }
 },
 "nbformat": 4,
 "nbformat_minor": 2
}
