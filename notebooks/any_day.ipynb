{
 "cells": [
  {
   "cell_type": "markdown",
   "metadata": {},
   "source": [
    "# Imports and setup"
   ]
  },
  {
   "cell_type": "code",
   "execution_count": 1,
   "metadata": {},
   "outputs": [],
   "source": [
    "import os\n",
    "os.chdir(\"/home/jptalusan/mta_stationing_problem\")"
   ]
  },
  {
   "cell_type": "code",
   "execution_count": 112,
   "metadata": {},
   "outputs": [],
   "source": [
    "from copy import deepcopy\n",
    "from src.config import *\n",
    "from pandas.core.common import SettingWithCopyWarning\n",
    "from src import data_utils, triplevel_utils\n",
    "from pyspark.sql import SparkSession\n",
    "import swifter\n",
    "import numpy as np\n",
    "import datetime as dt\n",
    "import seaborn as sns\n",
    "import joblib\n",
    "import plotly.express as px\n",
    "import warnings\n",
    "\n",
    "warnings.simplefilter(action=\"ignore\", category=pd.errors.PerformanceWarning)\n",
    "warnings.simplefilter(action=\"ignore\", category=SettingWithCopyWarning)\n",
    "warnings.simplefilter(action='ignore', category=FutureWarning)\n",
    "import pandas as pd\n",
    "pd.set_option('display.max_columns', None)\n",
    "import xgboost as xgb"
   ]
  },
  {
   "cell_type": "code",
   "execution_count": 26,
   "metadata": {},
   "outputs": [
    {
     "data": {
      "text/plain": [
       "<module 'src.triplevel_utils' from '/media/seconddrive/JP/mta_stationing_problem/src/triplevel_utils.py'>"
      ]
     },
     "execution_count": 26,
     "metadata": {},
     "output_type": "execute_result"
    }
   ],
   "source": [
    "import importlib\n",
    "importlib.reload(data_utils)\n",
    "importlib.reload(triplevel_utils)"
   ]
  },
  {
   "cell_type": "code",
   "execution_count": 4,
   "metadata": {},
   "outputs": [
    {
     "name": "stdout",
     "output_type": "stream",
     "text": [
      "22/09/22 17:41:12 WARN Utils: Your hostname, scope-vanderbilt resolves to a loopback address: 127.0.1.1; using 10.2.218.69 instead (on interface enp8s0)\n",
      "22/09/22 17:41:12 WARN Utils: Set SPARK_LOCAL_IP if you need to bind to another address\n"
     ]
    },
    {
     "name": "stderr",
     "output_type": "stream",
     "text": [
      "Setting default log level to \"WARN\".\n",
      "To adjust logging level use sc.setLogLevel(newLevel). For SparkR, use setLogLevel(newLevel).\n"
     ]
    },
    {
     "name": "stdout",
     "output_type": "stream",
     "text": [
      "22/09/22 17:41:12 WARN NativeCodeLoader: Unable to load native-hadoop library for your platform... using builtin-java classes where applicable\n"
     ]
    }
   ],
   "source": [
    "spark = SparkSession.builder.config('spark.executor.cores', '8').config('spark.executor.memory', '40g')\\\n",
    "        .config(\"spark.sql.session.timeZone\", \"UTC\").config('spark.driver.memory', '20g').master(\"local[26]\")\\\n",
    "        .appName(\"wego-daily\").config('spark.driver.extraJavaOptions', '-Duser.timezone=UTC').config('spark.executor.extraJavaOptions', '-Duser.timezone=UTC')\\\n",
    "        .config(\"spark.sql.datetime.java8API.enabled\", \"true\").config(\"spark.sql.execution.arrow.pyspark.enabled\", \"true\")\\\n",
    "        .getOrCreate()"
   ]
  },
  {
   "cell_type": "code",
   "execution_count": 5,
   "metadata": {},
   "outputs": [],
   "source": [
    "# load the APC data from a prepared file\n",
    "processed_triplevel = os.path.join('data', 'processed', 'triplevel_df.parquet')\n",
    "if not os.path.exists(processed_triplevel):\n",
    "# if True:\n",
    "    filepath = os.path.join(os.getcwd(), \"data\", \"processed\", \"apc_weather_gtfs_20220921.parquet\")\n",
    "    apcdata = spark.read.load(filepath)\n",
    "    apcdata.createOrReplaceTempView(\"apc\")\n",
    "\n",
    "    # filter subset\n",
    "    query = f\"\"\"\n",
    "                SELECT *\n",
    "                FROM apc\n",
    "            \"\"\"\n",
    "    apcdata=spark.sql(query)\n",
    "    apcdata = data_utils.remove_nulls_from_apc(apcdata)\n",
    "    apcdata.createOrReplaceTempView('apcdata')\n",
    "    apcdata_per_trip = data_utils.get_apc_per_trip_sparkview(spark)\n",
    "    df = apcdata_per_trip.toPandas()\n",
    "    \n",
    "    # Adding extra features\n",
    "    # Holidays\n",
    "    fp = os.path.join('data', 'others', 'US Holiday Dates (2004-2021).csv')\n",
    "    holidays_df = pd.read_csv(fp)\n",
    "    holidays_df['Date'] = pd.to_datetime(holidays_df['Date'])\n",
    "    holidays_df['is_holiday'] = True\n",
    "    df = df.merge(holidays_df[['Date', 'is_holiday']], left_on='transit_date', right_on='Date', how='left')\n",
    "    df['is_holiday'] = df['is_holiday'].fillna(False)\n",
    "    df = df.drop(columns=['Date'])\n",
    "    \n",
    "    # School breaks\n",
    "    fp = os.path.join('data', 'others', 'School Breaks (2019-2022).pkl')\n",
    "    school_break_df = pd.read_pickle(fp)\n",
    "    school_break_df['is_school_break'] = True\n",
    "    df = df.merge(school_break_df[['Date', 'is_school_break']], left_on='transit_date', right_on='Date', how='left')\n",
    "    df['is_school_break'] = df['is_school_break'].fillna(False)\n",
    "    df = df.drop(columns=['Date'])\n",
    "\n",
    "    # Traffic\n",
    "    # fp = os.path.join('data', 'traffic', 'triplevel_speed.pickle')\n",
    "    # speed_df = pd.read_pickle(fp)\n",
    "    # speed_df = speed_df[['transit_date', 'trip_id', 'route_id_direction', 'traffic_speed']]\n",
    "    # df = df.merge(speed_df, how='left', \n",
    "    #               left_on =['transit_date', 'trip_id', 'route_id_direction'], \n",
    "    #               right_on=['transit_date', 'trip_id', 'route_id_direction'])\n",
    "    # df = df[~df['traffic_speed'].isna()]\n",
    "    df.to_parquet(processed_triplevel, engine='auto', compression='gzip')\n",
    "else:\n",
    "    df = pd.read_parquet(processed_triplevel, engine='auto')\n",
    "    df = df.dropna()\n",
    "    # Removing time_window in case a different one will be used\n",
    "df = df.drop(['time_window', 'load'], axis=1)\n",
    "df = df.reset_index(drop=True)"
   ]
  },
  {
   "cell_type": "markdown",
   "metadata": {},
   "source": [
    "## Feature Analysis (used features)\n",
    "* Datetime: `year`, `month`, `dayofweek`, `hour`, `day`\n",
    "* GTFS: `scheduled_headway`, `route_direction_name`, `route_id`, `block_abbr`\n",
    "* Weather: `temperature`, `humidity`, `precipitation_intensity`\n",
    "* APC data on a stop level is grouped into trips and data is gathered by using the first instance (route_id, route_direction_name) or the average of the numerical values (scheduled headay, weather data)"
   ]
  },
  {
   "cell_type": "code",
   "execution_count": 6,
   "metadata": {},
   "outputs": [
    {
     "name": "stdout",
     "output_type": "stream",
     "text": [
      "(643004, 20)\n"
     ]
    },
    {
     "data": {
      "text/html": [
       "<div>\n",
       "<style scoped>\n",
       "    .dataframe tbody tr th:only-of-type {\n",
       "        vertical-align: middle;\n",
       "    }\n",
       "\n",
       "    .dataframe tbody tr th {\n",
       "        vertical-align: top;\n",
       "    }\n",
       "\n",
       "    .dataframe thead th {\n",
       "        text-align: right;\n",
       "    }\n",
       "</style>\n",
       "<table border=\"1\" class=\"dataframe\">\n",
       "  <thead>\n",
       "    <tr style=\"text-align: right;\">\n",
       "      <th></th>\n",
       "      <th>trip_id</th>\n",
       "      <th>transit_date</th>\n",
       "      <th>arrival_time</th>\n",
       "      <th>year</th>\n",
       "      <th>month</th>\n",
       "      <th>route_id</th>\n",
       "      <th>route_direction_name</th>\n",
       "      <th>block_abbr</th>\n",
       "      <th>dayofweek</th>\n",
       "      <th>hour</th>\n",
       "      <th>temperature</th>\n",
       "      <th>humidity</th>\n",
       "      <th>precipitation_intensity</th>\n",
       "      <th>scheduled_headway</th>\n",
       "      <th>actual_headways</th>\n",
       "      <th>y_reg100</th>\n",
       "      <th>y_reg095</th>\n",
       "      <th>route_id_direction</th>\n",
       "      <th>is_holiday</th>\n",
       "      <th>is_school_break</th>\n",
       "    </tr>\n",
       "  </thead>\n",
       "  <tbody>\n",
       "    <tr>\n",
       "      <th>0</th>\n",
       "      <td>193715</td>\n",
       "      <td>2020-01-01</td>\n",
       "      <td>2020-01-01 17:24:14</td>\n",
       "      <td>2020</td>\n",
       "      <td>1</td>\n",
       "      <td>14</td>\n",
       "      <td>FROM DOWNTOWN</td>\n",
       "      <td>1400</td>\n",
       "      <td>4</td>\n",
       "      <td>17</td>\n",
       "      <td>49.390999</td>\n",
       "      <td>0.467</td>\n",
       "      <td>0.0</td>\n",
       "      <td>3600.0</td>\n",
       "      <td>3654.976744</td>\n",
       "      <td>9.0</td>\n",
       "      <td>9.0</td>\n",
       "      <td>14_FROM DOWNTOWN</td>\n",
       "      <td>True</td>\n",
       "      <td>True</td>\n",
       "    </tr>\n",
       "  </tbody>\n",
       "</table>\n",
       "</div>"
      ],
      "text/plain": [
       "  trip_id transit_date        arrival_time  year  month  route_id  \\\n",
       "0  193715   2020-01-01 2020-01-01 17:24:14  2020      1        14   \n",
       "\n",
       "  route_direction_name  block_abbr  dayofweek  hour  temperature  humidity  \\\n",
       "0        FROM DOWNTOWN        1400          4    17    49.390999     0.467   \n",
       "\n",
       "   precipitation_intensity  scheduled_headway  actual_headways  y_reg100  \\\n",
       "0                      0.0             3600.0      3654.976744       9.0   \n",
       "\n",
       "   y_reg095 route_id_direction  is_holiday  is_school_break  \n",
       "0       9.0   14_FROM DOWNTOWN        True             True  "
      ]
     },
     "execution_count": 6,
     "metadata": {},
     "output_type": "execute_result"
    }
   ],
   "source": [
    "print(df.shape)\n",
    "df.head(1)"
   ]
  },
  {
   "cell_type": "code",
   "execution_count": 7,
   "metadata": {},
   "outputs": [
    {
     "data": {
      "text/plain": [
       "Timestamp('2022-09-19 00:00:00')"
      ]
     },
     "execution_count": 7,
     "metadata": {},
     "output_type": "execute_result"
    }
   ],
   "source": [
    "df.transit_date.max()"
   ]
  },
  {
   "cell_type": "markdown",
   "metadata": {},
   "source": [
    "## Feature Generation\n",
    "Generated features, $y_t = f(x_{t-1})$, are always generated using past information.\n",
    "* `time_window`: Assigning the arrival times into time windows (30 minutes by default).\n",
    "* `window_of_day`: Just a larger time window (could probably remove)\n",
    "* `actual_headways`: On a stop level, actual headways are given using the arrival times of the bus to the bus stop. On a trip level, this was averaged over the multiple bus stops across a single trip.\n",
    "* `congestion_surrogate`: Generated by a model trained on the scheduled and actual headways. (tentatively included, surrogate model is not yet that accurate)\n",
    "* `route_id_direction`: Combined route_id and route_direction into one feature and then one hot encoded.\n",
    "* Other categorical values are converted to ordinal integers."
   ]
  },
  {
   "cell_type": "code",
   "execution_count": 8,
   "metadata": {},
   "outputs": [],
   "source": [
    "RANDOM_SEED = 100\n",
    "WINDOW = 30\n",
    "PAST_TRIPS = 5\n",
    "TARGET = 'y_reg100'"
   ]
  },
  {
   "cell_type": "code",
   "execution_count": 9,
   "metadata": {},
   "outputs": [],
   "source": [
    "cat_features = ['route_id_direction', 'is_holiday', 'dayofweek', 'is_school_break', 'time_window']\n",
    "ord_features = ['year', 'month', 'hour', 'day']\n",
    "# num_features = ['temperature', 'humidity', 'precipitation_intensity', 'avg_sched_headway', 'traffic_speed']\n",
    "num_features = ['temperature', 'humidity', 'precipitation_intensity', 'avg_sched_headway']"
   ]
  },
  {
   "cell_type": "code",
   "execution_count": 10,
   "metadata": {},
   "outputs": [],
   "source": [
    "df = df.query(\"transit_date <= '2022-06-30'\")"
   ]
  },
  {
   "cell_type": "code",
   "execution_count": 11,
   "metadata": {},
   "outputs": [],
   "source": [
    "# In the interest of time\n",
    "tdf = deepcopy(df)"
   ]
  },
  {
   "cell_type": "code",
   "execution_count": 12,
   "metadata": {},
   "outputs": [],
   "source": [
    "tdf = triplevel_utils.generate_new_features(df, time_window=WINDOW, past_trips=PAST_TRIPS, target=TARGET)"
   ]
  },
  {
   "cell_type": "code",
   "execution_count": 13,
   "metadata": {},
   "outputs": [],
   "source": [
    "# Group by time windows and get the maximum of the aggregate load/class/sched\n",
    "# Get mean of temperature (mostly going to be equal)\n",
    "tdf = tdf.groupby(['transit_date', 'route_id_direction', 'time_window']).agg({\"year\":\"first\", \n",
    "                                                                              \"month\":\"first\",\n",
    "                                                                              \"day\": \"first\",\n",
    "                                                                              \"dayofweek\":\"first\", \n",
    "                                                                              \"hour\":\"first\",\n",
    "                                                                              \"is_holiday\": \"first\",\n",
    "                                                                              \"is_school_break\": \"first\",\n",
    "                                                                              \"temperature\":\"mean\", \n",
    "                                                                              \"humidity\":\"mean\",\n",
    "                                                                              \"precipitation_intensity\": \"mean\",\n",
    "                                                                              \"scheduled_headway\": \"max\",\n",
    "                                                                              TARGET: \"max\"})\n",
    "                                                                            #   \"traffic_speed\":\"mean\",\n",
    "tdf = tdf.reset_index(level=[0,1,2])"
   ]
  },
  {
   "cell_type": "code",
   "execution_count": 14,
   "metadata": {},
   "outputs": [
    {
     "data": {
      "text/html": [
       "<div>\n",
       "<style scoped>\n",
       "    .dataframe tbody tr th:only-of-type {\n",
       "        vertical-align: middle;\n",
       "    }\n",
       "\n",
       "    .dataframe tbody tr th {\n",
       "        vertical-align: top;\n",
       "    }\n",
       "\n",
       "    .dataframe thead th {\n",
       "        text-align: right;\n",
       "    }\n",
       "</style>\n",
       "<table border=\"1\" class=\"dataframe\">\n",
       "  <thead>\n",
       "    <tr style=\"text-align: right;\">\n",
       "      <th></th>\n",
       "      <th>transit_date</th>\n",
       "      <th>route_id_direction</th>\n",
       "      <th>time_window</th>\n",
       "      <th>year</th>\n",
       "      <th>month</th>\n",
       "      <th>day</th>\n",
       "      <th>dayofweek</th>\n",
       "      <th>hour</th>\n",
       "      <th>is_holiday</th>\n",
       "      <th>is_school_break</th>\n",
       "      <th>temperature</th>\n",
       "      <th>humidity</th>\n",
       "      <th>precipitation_intensity</th>\n",
       "      <th>scheduled_headway</th>\n",
       "      <th>y_reg100</th>\n",
       "    </tr>\n",
       "  </thead>\n",
       "  <tbody>\n",
       "    <tr>\n",
       "      <th>0</th>\n",
       "      <td>2020-01-01</td>\n",
       "      <td>14_FROM DOWNTOWN</td>\n",
       "      <td>15</td>\n",
       "      <td>2020</td>\n",
       "      <td>1</td>\n",
       "      <td>1</td>\n",
       "      <td>4</td>\n",
       "      <td>7</td>\n",
       "      <td>True</td>\n",
       "      <td>True</td>\n",
       "      <td>33.528999</td>\n",
       "      <td>0.73800</td>\n",
       "      <td>0.0</td>\n",
       "      <td>3420.00000</td>\n",
       "      <td>4.0</td>\n",
       "    </tr>\n",
       "    <tr>\n",
       "      <th>1</th>\n",
       "      <td>2020-01-01</td>\n",
       "      <td>14_FROM DOWNTOWN</td>\n",
       "      <td>16</td>\n",
       "      <td>2020</td>\n",
       "      <td>1</td>\n",
       "      <td>1</td>\n",
       "      <td>4</td>\n",
       "      <td>8</td>\n",
       "      <td>True</td>\n",
       "      <td>True</td>\n",
       "      <td>34.879002</td>\n",
       "      <td>0.71000</td>\n",
       "      <td>0.0</td>\n",
       "      <td>3701.40625</td>\n",
       "      <td>3.0</td>\n",
       "    </tr>\n",
       "    <tr>\n",
       "      <th>2</th>\n",
       "      <td>2020-01-01</td>\n",
       "      <td>14_FROM DOWNTOWN</td>\n",
       "      <td>34</td>\n",
       "      <td>2020</td>\n",
       "      <td>1</td>\n",
       "      <td>1</td>\n",
       "      <td>4</td>\n",
       "      <td>17</td>\n",
       "      <td>True</td>\n",
       "      <td>True</td>\n",
       "      <td>49.390999</td>\n",
       "      <td>0.46700</td>\n",
       "      <td>0.0</td>\n",
       "      <td>3600.00000</td>\n",
       "      <td>9.0</td>\n",
       "    </tr>\n",
       "    <tr>\n",
       "      <th>3</th>\n",
       "      <td>2020-01-01</td>\n",
       "      <td>14_FROM DOWNTOWN</td>\n",
       "      <td>36</td>\n",
       "      <td>2020</td>\n",
       "      <td>1</td>\n",
       "      <td>1</td>\n",
       "      <td>4</td>\n",
       "      <td>18</td>\n",
       "      <td>True</td>\n",
       "      <td>True</td>\n",
       "      <td>45.983002</td>\n",
       "      <td>0.55000</td>\n",
       "      <td>0.0</td>\n",
       "      <td>3600.00000</td>\n",
       "      <td>13.0</td>\n",
       "    </tr>\n",
       "    <tr>\n",
       "      <th>4</th>\n",
       "      <td>2020-01-01</td>\n",
       "      <td>14_TO DOWNTOWN</td>\n",
       "      <td>15</td>\n",
       "      <td>2020</td>\n",
       "      <td>1</td>\n",
       "      <td>1</td>\n",
       "      <td>4</td>\n",
       "      <td>7</td>\n",
       "      <td>True</td>\n",
       "      <td>True</td>\n",
       "      <td>33.691000</td>\n",
       "      <td>0.73464</td>\n",
       "      <td>0.0</td>\n",
       "      <td>3600.00000</td>\n",
       "      <td>10.0</td>\n",
       "    </tr>\n",
       "  </tbody>\n",
       "</table>\n",
       "</div>"
      ],
      "text/plain": [
       "  transit_date route_id_direction  time_window  year  month  day  dayofweek  \\\n",
       "0   2020-01-01   14_FROM DOWNTOWN           15  2020      1    1          4   \n",
       "1   2020-01-01   14_FROM DOWNTOWN           16  2020      1    1          4   \n",
       "2   2020-01-01   14_FROM DOWNTOWN           34  2020      1    1          4   \n",
       "3   2020-01-01   14_FROM DOWNTOWN           36  2020      1    1          4   \n",
       "4   2020-01-01     14_TO DOWNTOWN           15  2020      1    1          4   \n",
       "\n",
       "   hour  is_holiday  is_school_break  temperature  humidity  \\\n",
       "0     7        True             True    33.528999   0.73800   \n",
       "1     8        True             True    34.879002   0.71000   \n",
       "2    17        True             True    49.390999   0.46700   \n",
       "3    18        True             True    45.983002   0.55000   \n",
       "4     7        True             True    33.691000   0.73464   \n",
       "\n",
       "   precipitation_intensity  scheduled_headway  y_reg100  \n",
       "0                      0.0         3420.00000       4.0  \n",
       "1                      0.0         3701.40625       3.0  \n",
       "2                      0.0         3600.00000       9.0  \n",
       "3                      0.0         3600.00000      13.0  \n",
       "4                      0.0         3600.00000      10.0  "
      ]
     },
     "metadata": {},
     "output_type": "display_data"
    }
   ],
   "source": [
    "display(tdf.head())"
   ]
  },
  {
   "cell_type": "code",
   "execution_count": 15,
   "metadata": {},
   "outputs": [
    {
     "name": "stdout",
     "output_type": "stream",
     "text": [
      "ohe_encoder is for the following column order: ['route_id_direction', 'is_holiday', 'dayofweek', 'is_school_break', 'time_window']\n"
     ]
    },
    {
     "data": {
      "text/plain": [
       "[(0.0, 9.0), (10.0, 16.0), (17.0, 99.0)]"
      ]
     },
     "execution_count": 15,
     "metadata": {},
     "output_type": "execute_result"
    }
   ],
   "source": [
    "print(\"ohe_encoder is for the following column order:\", cat_features)\n",
    "rf_df, ix_map, ohe_encoder, percentiles = triplevel_utils.prepare_df_for_training(tdf, cat_features, ord_features, target=TARGET)\n",
    "percentiles"
   ]
  },
  {
   "cell_type": "code",
   "execution_count": 16,
   "metadata": {},
   "outputs": [
    {
     "data": {
      "text/plain": [
       "0    173308\n",
       "1    153960\n",
       "2    151922\n",
       "Name: y_class, dtype: int64"
      ]
     },
     "metadata": {},
     "output_type": "display_data"
    }
   ],
   "source": [
    "drop_cols = ['route_id', 'route_direction_name', 'block_abbr', 'y_reg100', 'y_reg095', 'transit_date', 'is_holiday', 'route_id_direction', 'actual_headways', 'trip_id', 'arrival_time']\n",
    "drop_cols = [col for col in drop_cols if col in rf_df.columns]\n",
    "rf_df = rf_df.drop(drop_cols, axis=1)\n",
    "\n",
    "display(rf_df['y_class'].value_counts())\n",
    "\n",
    "y = rf_df.pop('y_class')\n",
    "X = rf_df"
   ]
  },
  {
   "cell_type": "code",
   "execution_count": 17,
   "metadata": {},
   "outputs": [
    {
     "name": "stdout",
     "output_type": "stream",
     "text": [
      "(479190, 136)\n"
     ]
    },
    {
     "data": {
      "text/html": [
       "<style type=\"text/css\">\n",
       "</style>\n",
       "<table id=\"T_45b79\">\n",
       "  <thead>\n",
       "    <tr>\n",
       "      <th class=\"blank level0\" >&nbsp;</th>\n",
       "      <th id=\"T_45b79_level0_col0\" class=\"col_heading level0 col0\" >temperature</th>\n",
       "      <th id=\"T_45b79_level0_col1\" class=\"col_heading level0 col1\" >humidity</th>\n",
       "      <th id=\"T_45b79_level0_col2\" class=\"col_heading level0 col2\" >precipitation_intensity</th>\n",
       "      <th id=\"T_45b79_level0_col3\" class=\"col_heading level0 col3\" >scheduled_headway</th>\n",
       "      <th id=\"T_45b79_level0_col4\" class=\"col_heading level0 col4\" >year_ix</th>\n",
       "      <th id=\"T_45b79_level0_col5\" class=\"col_heading level0 col5\" >month_ix</th>\n",
       "      <th id=\"T_45b79_level0_col6\" class=\"col_heading level0 col6\" >hour_ix</th>\n",
       "      <th id=\"T_45b79_level0_col7\" class=\"col_heading level0 col7\" >day_ix</th>\n",
       "      <th id=\"T_45b79_level0_col8\" class=\"col_heading level0 col8\" >route_id_direction_14_FROM DOWNTOWN</th>\n",
       "      <th id=\"T_45b79_level0_col9\" class=\"col_heading level0 col9\" >route_id_direction_14_TO DOWNTOWN</th>\n",
       "      <th id=\"T_45b79_level0_col10\" class=\"col_heading level0 col10\" >route_id_direction_17_FROM DOWNTOWN</th>\n",
       "      <th id=\"T_45b79_level0_col11\" class=\"col_heading level0 col11\" >route_id_direction_17_TO DOWNTOWN</th>\n",
       "      <th id=\"T_45b79_level0_col12\" class=\"col_heading level0 col12\" >route_id_direction_18_FROM DOWNTOWN</th>\n",
       "      <th id=\"T_45b79_level0_col13\" class=\"col_heading level0 col13\" >route_id_direction_18_TO DOWNTOWN</th>\n",
       "      <th id=\"T_45b79_level0_col14\" class=\"col_heading level0 col14\" >route_id_direction_19_FROM DOWNTOWN</th>\n",
       "      <th id=\"T_45b79_level0_col15\" class=\"col_heading level0 col15\" >route_id_direction_19_TO DOWNTOWN</th>\n",
       "      <th id=\"T_45b79_level0_col16\" class=\"col_heading level0 col16\" >route_id_direction_21_NORTHBOUND</th>\n",
       "      <th id=\"T_45b79_level0_col17\" class=\"col_heading level0 col17\" >route_id_direction_21_SOUTHBOUND</th>\n",
       "      <th id=\"T_45b79_level0_col18\" class=\"col_heading level0 col18\" >route_id_direction_22_FROM DOWNTOWN</th>\n",
       "      <th id=\"T_45b79_level0_col19\" class=\"col_heading level0 col19\" >route_id_direction_22_TO DOWNTOWN</th>\n",
       "      <th id=\"T_45b79_level0_col20\" class=\"col_heading level0 col20\" >route_id_direction_23_FROM DOWNTOWN</th>\n",
       "      <th id=\"T_45b79_level0_col21\" class=\"col_heading level0 col21\" >route_id_direction_23_TO DOWNTOWN</th>\n",
       "      <th id=\"T_45b79_level0_col22\" class=\"col_heading level0 col22\" >route_id_direction_24_FROM DOWNTOWN</th>\n",
       "      <th id=\"T_45b79_level0_col23\" class=\"col_heading level0 col23\" >route_id_direction_24_TO DOWNTOWN</th>\n",
       "      <th id=\"T_45b79_level0_col24\" class=\"col_heading level0 col24\" >route_id_direction_25_NORTHBOUND</th>\n",
       "      <th id=\"T_45b79_level0_col25\" class=\"col_heading level0 col25\" >route_id_direction_25_SOUTHBOUND</th>\n",
       "      <th id=\"T_45b79_level0_col26\" class=\"col_heading level0 col26\" >route_id_direction_28_FROM DOWNTOWN</th>\n",
       "      <th id=\"T_45b79_level0_col27\" class=\"col_heading level0 col27\" >route_id_direction_28_TO DOWNTOWN</th>\n",
       "      <th id=\"T_45b79_level0_col28\" class=\"col_heading level0 col28\" >route_id_direction_29_FROM DOWNTOWN</th>\n",
       "      <th id=\"T_45b79_level0_col29\" class=\"col_heading level0 col29\" >route_id_direction_29_TO DOWNTOWN</th>\n",
       "      <th id=\"T_45b79_level0_col30\" class=\"col_heading level0 col30\" >route_id_direction_34_FROM DOWNTOWN</th>\n",
       "      <th id=\"T_45b79_level0_col31\" class=\"col_heading level0 col31\" >route_id_direction_34_TO DOWNTOWN</th>\n",
       "      <th id=\"T_45b79_level0_col32\" class=\"col_heading level0 col32\" >route_id_direction_35_FROM DOWNTOWN</th>\n",
       "      <th id=\"T_45b79_level0_col33\" class=\"col_heading level0 col33\" >route_id_direction_35_TO DOWNTOWN</th>\n",
       "      <th id=\"T_45b79_level0_col34\" class=\"col_heading level0 col34\" >route_id_direction_38_FROM DOWNTOWN</th>\n",
       "      <th id=\"T_45b79_level0_col35\" class=\"col_heading level0 col35\" >route_id_direction_38_TO DOWNTOWN</th>\n",
       "      <th id=\"T_45b79_level0_col36\" class=\"col_heading level0 col36\" >route_id_direction_3_FROM DOWNTOWN</th>\n",
       "      <th id=\"T_45b79_level0_col37\" class=\"col_heading level0 col37\" >route_id_direction_3_TO DOWNTOWN</th>\n",
       "      <th id=\"T_45b79_level0_col38\" class=\"col_heading level0 col38\" >route_id_direction_41_FROM DOWNTOWN</th>\n",
       "      <th id=\"T_45b79_level0_col39\" class=\"col_heading level0 col39\" >route_id_direction_41_TO DOWNTOWN</th>\n",
       "      <th id=\"T_45b79_level0_col40\" class=\"col_heading level0 col40\" >route_id_direction_42_FROM DOWNTOWN</th>\n",
       "      <th id=\"T_45b79_level0_col41\" class=\"col_heading level0 col41\" >route_id_direction_42_TO DOWNTOWN</th>\n",
       "      <th id=\"T_45b79_level0_col42\" class=\"col_heading level0 col42\" >route_id_direction_43_FROM DOWNTOWN</th>\n",
       "      <th id=\"T_45b79_level0_col43\" class=\"col_heading level0 col43\" >route_id_direction_43_TO DOWNTOWN</th>\n",
       "      <th id=\"T_45b79_level0_col44\" class=\"col_heading level0 col44\" >route_id_direction_4_FROM DOWNTOWN</th>\n",
       "      <th id=\"T_45b79_level0_col45\" class=\"col_heading level0 col45\" >route_id_direction_4_TO DOWNTOWN</th>\n",
       "      <th id=\"T_45b79_level0_col46\" class=\"col_heading level0 col46\" >route_id_direction_50_FROM DOWNTOWN</th>\n",
       "      <th id=\"T_45b79_level0_col47\" class=\"col_heading level0 col47\" >route_id_direction_50_TO DOWNTOWN</th>\n",
       "      <th id=\"T_45b79_level0_col48\" class=\"col_heading level0 col48\" >route_id_direction_52_FROM DOWNTOWN</th>\n",
       "      <th id=\"T_45b79_level0_col49\" class=\"col_heading level0 col49\" >route_id_direction_52_TO DOWNTOWN</th>\n",
       "      <th id=\"T_45b79_level0_col50\" class=\"col_heading level0 col50\" >route_id_direction_55_FROM DOWNTOWN</th>\n",
       "      <th id=\"T_45b79_level0_col51\" class=\"col_heading level0 col51\" >route_id_direction_55_TO DOWNTOWN</th>\n",
       "      <th id=\"T_45b79_level0_col52\" class=\"col_heading level0 col52\" >route_id_direction_56_FROM DOWNTOWN</th>\n",
       "      <th id=\"T_45b79_level0_col53\" class=\"col_heading level0 col53\" >route_id_direction_56_TO DOWNTOWN</th>\n",
       "      <th id=\"T_45b79_level0_col54\" class=\"col_heading level0 col54\" >route_id_direction_5_FROM DOWNTOWN</th>\n",
       "      <th id=\"T_45b79_level0_col55\" class=\"col_heading level0 col55\" >route_id_direction_5_TO DOWNTOWN</th>\n",
       "      <th id=\"T_45b79_level0_col56\" class=\"col_heading level0 col56\" >route_id_direction_64_FROM RIVERFRONT</th>\n",
       "      <th id=\"T_45b79_level0_col57\" class=\"col_heading level0 col57\" >route_id_direction_64_TO RIVERFRONT</th>\n",
       "      <th id=\"T_45b79_level0_col58\" class=\"col_heading level0 col58\" >route_id_direction_6_FROM DOWNTOWN</th>\n",
       "      <th id=\"T_45b79_level0_col59\" class=\"col_heading level0 col59\" >route_id_direction_6_TO DOWNTOWN</th>\n",
       "      <th id=\"T_45b79_level0_col60\" class=\"col_heading level0 col60\" >route_id_direction_72_EDMONDSON</th>\n",
       "      <th id=\"T_45b79_level0_col61\" class=\"col_heading level0 col61\" >route_id_direction_72_GRASSMERE</th>\n",
       "      <th id=\"T_45b79_level0_col62\" class=\"col_heading level0 col62\" >route_id_direction_75_NORTHBOUND</th>\n",
       "      <th id=\"T_45b79_level0_col63\" class=\"col_heading level0 col63\" >route_id_direction_75_SOUTHBOUND</th>\n",
       "      <th id=\"T_45b79_level0_col64\" class=\"col_heading level0 col64\" >route_id_direction_76_LOOP</th>\n",
       "      <th id=\"T_45b79_level0_col65\" class=\"col_heading level0 col65\" >route_id_direction_79_EASTBOUND</th>\n",
       "      <th id=\"T_45b79_level0_col66\" class=\"col_heading level0 col66\" >route_id_direction_79_NORTHBOUND</th>\n",
       "      <th id=\"T_45b79_level0_col67\" class=\"col_heading level0 col67\" >route_id_direction_7_FROM DOWNTOWN</th>\n",
       "      <th id=\"T_45b79_level0_col68\" class=\"col_heading level0 col68\" >route_id_direction_7_TO DOWNTOWN</th>\n",
       "      <th id=\"T_45b79_level0_col69\" class=\"col_heading level0 col69\" >route_id_direction_84_FROM NASHVILLE</th>\n",
       "      <th id=\"T_45b79_level0_col70\" class=\"col_heading level0 col70\" >route_id_direction_84_TO NASHVILLE</th>\n",
       "      <th id=\"T_45b79_level0_col71\" class=\"col_heading level0 col71\" >route_id_direction_86_FROM NASHVILLE</th>\n",
       "      <th id=\"T_45b79_level0_col72\" class=\"col_heading level0 col72\" >route_id_direction_86_TO NASHVILLE</th>\n",
       "      <th id=\"T_45b79_level0_col73\" class=\"col_heading level0 col73\" >route_id_direction_8_FROM DOWNTOWN</th>\n",
       "      <th id=\"T_45b79_level0_col74\" class=\"col_heading level0 col74\" >route_id_direction_8_TO DOWNTOWN</th>\n",
       "      <th id=\"T_45b79_level0_col75\" class=\"col_heading level0 col75\" >route_id_direction_93_LOOP</th>\n",
       "      <th id=\"T_45b79_level0_col76\" class=\"col_heading level0 col76\" >route_id_direction_94_FROM NASHVILLE</th>\n",
       "      <th id=\"T_45b79_level0_col77\" class=\"col_heading level0 col77\" >route_id_direction_95_FROM NASHVILLE</th>\n",
       "      <th id=\"T_45b79_level0_col78\" class=\"col_heading level0 col78\" >route_id_direction_96_FROM NASHVILLE</th>\n",
       "      <th id=\"T_45b79_level0_col79\" class=\"col_heading level0 col79\" >route_id_direction_96_TO NASHVILLE</th>\n",
       "      <th id=\"T_45b79_level0_col80\" class=\"col_heading level0 col80\" >route_id_direction_9_FROM DOWNTOWN</th>\n",
       "      <th id=\"T_45b79_level0_col81\" class=\"col_heading level0 col81\" >route_id_direction_9_TO DOWNTOWN</th>\n",
       "      <th id=\"T_45b79_level0_col82\" class=\"col_heading level0 col82\" >is_holiday_False</th>\n",
       "      <th id=\"T_45b79_level0_col83\" class=\"col_heading level0 col83\" >is_holiday_True</th>\n",
       "      <th id=\"T_45b79_level0_col84\" class=\"col_heading level0 col84\" >dayofweek_1</th>\n",
       "      <th id=\"T_45b79_level0_col85\" class=\"col_heading level0 col85\" >dayofweek_2</th>\n",
       "      <th id=\"T_45b79_level0_col86\" class=\"col_heading level0 col86\" >dayofweek_3</th>\n",
       "      <th id=\"T_45b79_level0_col87\" class=\"col_heading level0 col87\" >dayofweek_4</th>\n",
       "      <th id=\"T_45b79_level0_col88\" class=\"col_heading level0 col88\" >dayofweek_5</th>\n",
       "      <th id=\"T_45b79_level0_col89\" class=\"col_heading level0 col89\" >dayofweek_6</th>\n",
       "      <th id=\"T_45b79_level0_col90\" class=\"col_heading level0 col90\" >dayofweek_7</th>\n",
       "      <th id=\"T_45b79_level0_col91\" class=\"col_heading level0 col91\" >is_school_break_False</th>\n",
       "      <th id=\"T_45b79_level0_col92\" class=\"col_heading level0 col92\" >is_school_break_True</th>\n",
       "      <th id=\"T_45b79_level0_col93\" class=\"col_heading level0 col93\" >time_window_0</th>\n",
       "      <th id=\"T_45b79_level0_col94\" class=\"col_heading level0 col94\" >time_window_1</th>\n",
       "      <th id=\"T_45b79_level0_col95\" class=\"col_heading level0 col95\" >time_window_2</th>\n",
       "      <th id=\"T_45b79_level0_col96\" class=\"col_heading level0 col96\" >time_window_8</th>\n",
       "      <th id=\"T_45b79_level0_col97\" class=\"col_heading level0 col97\" >time_window_9</th>\n",
       "      <th id=\"T_45b79_level0_col98\" class=\"col_heading level0 col98\" >time_window_10</th>\n",
       "      <th id=\"T_45b79_level0_col99\" class=\"col_heading level0 col99\" >time_window_11</th>\n",
       "      <th id=\"T_45b79_level0_col100\" class=\"col_heading level0 col100\" >time_window_12</th>\n",
       "      <th id=\"T_45b79_level0_col101\" class=\"col_heading level0 col101\" >time_window_13</th>\n",
       "      <th id=\"T_45b79_level0_col102\" class=\"col_heading level0 col102\" >time_window_14</th>\n",
       "      <th id=\"T_45b79_level0_col103\" class=\"col_heading level0 col103\" >time_window_15</th>\n",
       "      <th id=\"T_45b79_level0_col104\" class=\"col_heading level0 col104\" >time_window_16</th>\n",
       "      <th id=\"T_45b79_level0_col105\" class=\"col_heading level0 col105\" >time_window_17</th>\n",
       "      <th id=\"T_45b79_level0_col106\" class=\"col_heading level0 col106\" >time_window_18</th>\n",
       "      <th id=\"T_45b79_level0_col107\" class=\"col_heading level0 col107\" >time_window_19</th>\n",
       "      <th id=\"T_45b79_level0_col108\" class=\"col_heading level0 col108\" >time_window_20</th>\n",
       "      <th id=\"T_45b79_level0_col109\" class=\"col_heading level0 col109\" >time_window_21</th>\n",
       "      <th id=\"T_45b79_level0_col110\" class=\"col_heading level0 col110\" >time_window_22</th>\n",
       "      <th id=\"T_45b79_level0_col111\" class=\"col_heading level0 col111\" >time_window_23</th>\n",
       "      <th id=\"T_45b79_level0_col112\" class=\"col_heading level0 col112\" >time_window_24</th>\n",
       "      <th id=\"T_45b79_level0_col113\" class=\"col_heading level0 col113\" >time_window_25</th>\n",
       "      <th id=\"T_45b79_level0_col114\" class=\"col_heading level0 col114\" >time_window_26</th>\n",
       "      <th id=\"T_45b79_level0_col115\" class=\"col_heading level0 col115\" >time_window_27</th>\n",
       "      <th id=\"T_45b79_level0_col116\" class=\"col_heading level0 col116\" >time_window_28</th>\n",
       "      <th id=\"T_45b79_level0_col117\" class=\"col_heading level0 col117\" >time_window_29</th>\n",
       "      <th id=\"T_45b79_level0_col118\" class=\"col_heading level0 col118\" >time_window_30</th>\n",
       "      <th id=\"T_45b79_level0_col119\" class=\"col_heading level0 col119\" >time_window_31</th>\n",
       "      <th id=\"T_45b79_level0_col120\" class=\"col_heading level0 col120\" >time_window_32</th>\n",
       "      <th id=\"T_45b79_level0_col121\" class=\"col_heading level0 col121\" >time_window_33</th>\n",
       "      <th id=\"T_45b79_level0_col122\" class=\"col_heading level0 col122\" >time_window_34</th>\n",
       "      <th id=\"T_45b79_level0_col123\" class=\"col_heading level0 col123\" >time_window_35</th>\n",
       "      <th id=\"T_45b79_level0_col124\" class=\"col_heading level0 col124\" >time_window_36</th>\n",
       "      <th id=\"T_45b79_level0_col125\" class=\"col_heading level0 col125\" >time_window_37</th>\n",
       "      <th id=\"T_45b79_level0_col126\" class=\"col_heading level0 col126\" >time_window_38</th>\n",
       "      <th id=\"T_45b79_level0_col127\" class=\"col_heading level0 col127\" >time_window_39</th>\n",
       "      <th id=\"T_45b79_level0_col128\" class=\"col_heading level0 col128\" >time_window_40</th>\n",
       "      <th id=\"T_45b79_level0_col129\" class=\"col_heading level0 col129\" >time_window_41</th>\n",
       "      <th id=\"T_45b79_level0_col130\" class=\"col_heading level0 col130\" >time_window_42</th>\n",
       "      <th id=\"T_45b79_level0_col131\" class=\"col_heading level0 col131\" >time_window_43</th>\n",
       "      <th id=\"T_45b79_level0_col132\" class=\"col_heading level0 col132\" >time_window_44</th>\n",
       "      <th id=\"T_45b79_level0_col133\" class=\"col_heading level0 col133\" >time_window_45</th>\n",
       "      <th id=\"T_45b79_level0_col134\" class=\"col_heading level0 col134\" >time_window_46</th>\n",
       "      <th id=\"T_45b79_level0_col135\" class=\"col_heading level0 col135\" >time_window_47</th>\n",
       "    </tr>\n",
       "  </thead>\n",
       "  <tbody>\n",
       "    <tr>\n",
       "      <th id=\"T_45b79_level0_row0\" class=\"row_heading level0 row0\" >0</th>\n",
       "      <td id=\"T_45b79_row0_col0\" class=\"data row0 col0\" >33.53</td>\n",
       "      <td id=\"T_45b79_row0_col1\" class=\"data row0 col1\" >0.74</td>\n",
       "      <td id=\"T_45b79_row0_col2\" class=\"data row0 col2\" >0.00</td>\n",
       "      <td id=\"T_45b79_row0_col3\" class=\"data row0 col3\" >3420.00</td>\n",
       "      <td id=\"T_45b79_row0_col4\" class=\"data row0 col4\" >0</td>\n",
       "      <td id=\"T_45b79_row0_col5\" class=\"data row0 col5\" >0</td>\n",
       "      <td id=\"T_45b79_row0_col6\" class=\"data row0 col6\" >5</td>\n",
       "      <td id=\"T_45b79_row0_col7\" class=\"data row0 col7\" >0</td>\n",
       "      <td id=\"T_45b79_row0_col8\" class=\"data row0 col8\" >1.00</td>\n",
       "      <td id=\"T_45b79_row0_col9\" class=\"data row0 col9\" >0.00</td>\n",
       "      <td id=\"T_45b79_row0_col10\" class=\"data row0 col10\" >0.00</td>\n",
       "      <td id=\"T_45b79_row0_col11\" class=\"data row0 col11\" >0.00</td>\n",
       "      <td id=\"T_45b79_row0_col12\" class=\"data row0 col12\" >0.00</td>\n",
       "      <td id=\"T_45b79_row0_col13\" class=\"data row0 col13\" >0.00</td>\n",
       "      <td id=\"T_45b79_row0_col14\" class=\"data row0 col14\" >0.00</td>\n",
       "      <td id=\"T_45b79_row0_col15\" class=\"data row0 col15\" >0.00</td>\n",
       "      <td id=\"T_45b79_row0_col16\" class=\"data row0 col16\" >0.00</td>\n",
       "      <td id=\"T_45b79_row0_col17\" class=\"data row0 col17\" >0.00</td>\n",
       "      <td id=\"T_45b79_row0_col18\" class=\"data row0 col18\" >0.00</td>\n",
       "      <td id=\"T_45b79_row0_col19\" class=\"data row0 col19\" >0.00</td>\n",
       "      <td id=\"T_45b79_row0_col20\" class=\"data row0 col20\" >0.00</td>\n",
       "      <td id=\"T_45b79_row0_col21\" class=\"data row0 col21\" >0.00</td>\n",
       "      <td id=\"T_45b79_row0_col22\" class=\"data row0 col22\" >0.00</td>\n",
       "      <td id=\"T_45b79_row0_col23\" class=\"data row0 col23\" >0.00</td>\n",
       "      <td id=\"T_45b79_row0_col24\" class=\"data row0 col24\" >0.00</td>\n",
       "      <td id=\"T_45b79_row0_col25\" class=\"data row0 col25\" >0.00</td>\n",
       "      <td id=\"T_45b79_row0_col26\" class=\"data row0 col26\" >0.00</td>\n",
       "      <td id=\"T_45b79_row0_col27\" class=\"data row0 col27\" >0.00</td>\n",
       "      <td id=\"T_45b79_row0_col28\" class=\"data row0 col28\" >0.00</td>\n",
       "      <td id=\"T_45b79_row0_col29\" class=\"data row0 col29\" >0.00</td>\n",
       "      <td id=\"T_45b79_row0_col30\" class=\"data row0 col30\" >0.00</td>\n",
       "      <td id=\"T_45b79_row0_col31\" class=\"data row0 col31\" >0.00</td>\n",
       "      <td id=\"T_45b79_row0_col32\" class=\"data row0 col32\" >0.00</td>\n",
       "      <td id=\"T_45b79_row0_col33\" class=\"data row0 col33\" >0.00</td>\n",
       "      <td id=\"T_45b79_row0_col34\" class=\"data row0 col34\" >0.00</td>\n",
       "      <td id=\"T_45b79_row0_col35\" class=\"data row0 col35\" >0.00</td>\n",
       "      <td id=\"T_45b79_row0_col36\" class=\"data row0 col36\" >0.00</td>\n",
       "      <td id=\"T_45b79_row0_col37\" class=\"data row0 col37\" >0.00</td>\n",
       "      <td id=\"T_45b79_row0_col38\" class=\"data row0 col38\" >0.00</td>\n",
       "      <td id=\"T_45b79_row0_col39\" class=\"data row0 col39\" >0.00</td>\n",
       "      <td id=\"T_45b79_row0_col40\" class=\"data row0 col40\" >0.00</td>\n",
       "      <td id=\"T_45b79_row0_col41\" class=\"data row0 col41\" >0.00</td>\n",
       "      <td id=\"T_45b79_row0_col42\" class=\"data row0 col42\" >0.00</td>\n",
       "      <td id=\"T_45b79_row0_col43\" class=\"data row0 col43\" >0.00</td>\n",
       "      <td id=\"T_45b79_row0_col44\" class=\"data row0 col44\" >0.00</td>\n",
       "      <td id=\"T_45b79_row0_col45\" class=\"data row0 col45\" >0.00</td>\n",
       "      <td id=\"T_45b79_row0_col46\" class=\"data row0 col46\" >0.00</td>\n",
       "      <td id=\"T_45b79_row0_col47\" class=\"data row0 col47\" >0.00</td>\n",
       "      <td id=\"T_45b79_row0_col48\" class=\"data row0 col48\" >0.00</td>\n",
       "      <td id=\"T_45b79_row0_col49\" class=\"data row0 col49\" >0.00</td>\n",
       "      <td id=\"T_45b79_row0_col50\" class=\"data row0 col50\" >0.00</td>\n",
       "      <td id=\"T_45b79_row0_col51\" class=\"data row0 col51\" >0.00</td>\n",
       "      <td id=\"T_45b79_row0_col52\" class=\"data row0 col52\" >0.00</td>\n",
       "      <td id=\"T_45b79_row0_col53\" class=\"data row0 col53\" >0.00</td>\n",
       "      <td id=\"T_45b79_row0_col54\" class=\"data row0 col54\" >0.00</td>\n",
       "      <td id=\"T_45b79_row0_col55\" class=\"data row0 col55\" >0.00</td>\n",
       "      <td id=\"T_45b79_row0_col56\" class=\"data row0 col56\" >0.00</td>\n",
       "      <td id=\"T_45b79_row0_col57\" class=\"data row0 col57\" >0.00</td>\n",
       "      <td id=\"T_45b79_row0_col58\" class=\"data row0 col58\" >0.00</td>\n",
       "      <td id=\"T_45b79_row0_col59\" class=\"data row0 col59\" >0.00</td>\n",
       "      <td id=\"T_45b79_row0_col60\" class=\"data row0 col60\" >0.00</td>\n",
       "      <td id=\"T_45b79_row0_col61\" class=\"data row0 col61\" >0.00</td>\n",
       "      <td id=\"T_45b79_row0_col62\" class=\"data row0 col62\" >0.00</td>\n",
       "      <td id=\"T_45b79_row0_col63\" class=\"data row0 col63\" >0.00</td>\n",
       "      <td id=\"T_45b79_row0_col64\" class=\"data row0 col64\" >0.00</td>\n",
       "      <td id=\"T_45b79_row0_col65\" class=\"data row0 col65\" >0.00</td>\n",
       "      <td id=\"T_45b79_row0_col66\" class=\"data row0 col66\" >0.00</td>\n",
       "      <td id=\"T_45b79_row0_col67\" class=\"data row0 col67\" >0.00</td>\n",
       "      <td id=\"T_45b79_row0_col68\" class=\"data row0 col68\" >0.00</td>\n",
       "      <td id=\"T_45b79_row0_col69\" class=\"data row0 col69\" >0.00</td>\n",
       "      <td id=\"T_45b79_row0_col70\" class=\"data row0 col70\" >0.00</td>\n",
       "      <td id=\"T_45b79_row0_col71\" class=\"data row0 col71\" >0.00</td>\n",
       "      <td id=\"T_45b79_row0_col72\" class=\"data row0 col72\" >0.00</td>\n",
       "      <td id=\"T_45b79_row0_col73\" class=\"data row0 col73\" >0.00</td>\n",
       "      <td id=\"T_45b79_row0_col74\" class=\"data row0 col74\" >0.00</td>\n",
       "      <td id=\"T_45b79_row0_col75\" class=\"data row0 col75\" >0.00</td>\n",
       "      <td id=\"T_45b79_row0_col76\" class=\"data row0 col76\" >0.00</td>\n",
       "      <td id=\"T_45b79_row0_col77\" class=\"data row0 col77\" >0.00</td>\n",
       "      <td id=\"T_45b79_row0_col78\" class=\"data row0 col78\" >0.00</td>\n",
       "      <td id=\"T_45b79_row0_col79\" class=\"data row0 col79\" >0.00</td>\n",
       "      <td id=\"T_45b79_row0_col80\" class=\"data row0 col80\" >0.00</td>\n",
       "      <td id=\"T_45b79_row0_col81\" class=\"data row0 col81\" >0.00</td>\n",
       "      <td id=\"T_45b79_row0_col82\" class=\"data row0 col82\" >0.00</td>\n",
       "      <td id=\"T_45b79_row0_col83\" class=\"data row0 col83\" >1.00</td>\n",
       "      <td id=\"T_45b79_row0_col84\" class=\"data row0 col84\" >0.00</td>\n",
       "      <td id=\"T_45b79_row0_col85\" class=\"data row0 col85\" >0.00</td>\n",
       "      <td id=\"T_45b79_row0_col86\" class=\"data row0 col86\" >0.00</td>\n",
       "      <td id=\"T_45b79_row0_col87\" class=\"data row0 col87\" >1.00</td>\n",
       "      <td id=\"T_45b79_row0_col88\" class=\"data row0 col88\" >0.00</td>\n",
       "      <td id=\"T_45b79_row0_col89\" class=\"data row0 col89\" >0.00</td>\n",
       "      <td id=\"T_45b79_row0_col90\" class=\"data row0 col90\" >0.00</td>\n",
       "      <td id=\"T_45b79_row0_col91\" class=\"data row0 col91\" >0.00</td>\n",
       "      <td id=\"T_45b79_row0_col92\" class=\"data row0 col92\" >1.00</td>\n",
       "      <td id=\"T_45b79_row0_col93\" class=\"data row0 col93\" >0.00</td>\n",
       "      <td id=\"T_45b79_row0_col94\" class=\"data row0 col94\" >0.00</td>\n",
       "      <td id=\"T_45b79_row0_col95\" class=\"data row0 col95\" >0.00</td>\n",
       "      <td id=\"T_45b79_row0_col96\" class=\"data row0 col96\" >0.00</td>\n",
       "      <td id=\"T_45b79_row0_col97\" class=\"data row0 col97\" >0.00</td>\n",
       "      <td id=\"T_45b79_row0_col98\" class=\"data row0 col98\" >0.00</td>\n",
       "      <td id=\"T_45b79_row0_col99\" class=\"data row0 col99\" >0.00</td>\n",
       "      <td id=\"T_45b79_row0_col100\" class=\"data row0 col100\" >0.00</td>\n",
       "      <td id=\"T_45b79_row0_col101\" class=\"data row0 col101\" >0.00</td>\n",
       "      <td id=\"T_45b79_row0_col102\" class=\"data row0 col102\" >0.00</td>\n",
       "      <td id=\"T_45b79_row0_col103\" class=\"data row0 col103\" >1.00</td>\n",
       "      <td id=\"T_45b79_row0_col104\" class=\"data row0 col104\" >0.00</td>\n",
       "      <td id=\"T_45b79_row0_col105\" class=\"data row0 col105\" >0.00</td>\n",
       "      <td id=\"T_45b79_row0_col106\" class=\"data row0 col106\" >0.00</td>\n",
       "      <td id=\"T_45b79_row0_col107\" class=\"data row0 col107\" >0.00</td>\n",
       "      <td id=\"T_45b79_row0_col108\" class=\"data row0 col108\" >0.00</td>\n",
       "      <td id=\"T_45b79_row0_col109\" class=\"data row0 col109\" >0.00</td>\n",
       "      <td id=\"T_45b79_row0_col110\" class=\"data row0 col110\" >0.00</td>\n",
       "      <td id=\"T_45b79_row0_col111\" class=\"data row0 col111\" >0.00</td>\n",
       "      <td id=\"T_45b79_row0_col112\" class=\"data row0 col112\" >0.00</td>\n",
       "      <td id=\"T_45b79_row0_col113\" class=\"data row0 col113\" >0.00</td>\n",
       "      <td id=\"T_45b79_row0_col114\" class=\"data row0 col114\" >0.00</td>\n",
       "      <td id=\"T_45b79_row0_col115\" class=\"data row0 col115\" >0.00</td>\n",
       "      <td id=\"T_45b79_row0_col116\" class=\"data row0 col116\" >0.00</td>\n",
       "      <td id=\"T_45b79_row0_col117\" class=\"data row0 col117\" >0.00</td>\n",
       "      <td id=\"T_45b79_row0_col118\" class=\"data row0 col118\" >0.00</td>\n",
       "      <td id=\"T_45b79_row0_col119\" class=\"data row0 col119\" >0.00</td>\n",
       "      <td id=\"T_45b79_row0_col120\" class=\"data row0 col120\" >0.00</td>\n",
       "      <td id=\"T_45b79_row0_col121\" class=\"data row0 col121\" >0.00</td>\n",
       "      <td id=\"T_45b79_row0_col122\" class=\"data row0 col122\" >0.00</td>\n",
       "      <td id=\"T_45b79_row0_col123\" class=\"data row0 col123\" >0.00</td>\n",
       "      <td id=\"T_45b79_row0_col124\" class=\"data row0 col124\" >0.00</td>\n",
       "      <td id=\"T_45b79_row0_col125\" class=\"data row0 col125\" >0.00</td>\n",
       "      <td id=\"T_45b79_row0_col126\" class=\"data row0 col126\" >0.00</td>\n",
       "      <td id=\"T_45b79_row0_col127\" class=\"data row0 col127\" >0.00</td>\n",
       "      <td id=\"T_45b79_row0_col128\" class=\"data row0 col128\" >0.00</td>\n",
       "      <td id=\"T_45b79_row0_col129\" class=\"data row0 col129\" >0.00</td>\n",
       "      <td id=\"T_45b79_row0_col130\" class=\"data row0 col130\" >0.00</td>\n",
       "      <td id=\"T_45b79_row0_col131\" class=\"data row0 col131\" >0.00</td>\n",
       "      <td id=\"T_45b79_row0_col132\" class=\"data row0 col132\" >0.00</td>\n",
       "      <td id=\"T_45b79_row0_col133\" class=\"data row0 col133\" >0.00</td>\n",
       "      <td id=\"T_45b79_row0_col134\" class=\"data row0 col134\" >0.00</td>\n",
       "      <td id=\"T_45b79_row0_col135\" class=\"data row0 col135\" >0.00</td>\n",
       "    </tr>\n",
       "    <tr>\n",
       "      <th id=\"T_45b79_level0_row1\" class=\"row_heading level0 row1\" >1</th>\n",
       "      <td id=\"T_45b79_row1_col0\" class=\"data row1 col0\" >34.88</td>\n",
       "      <td id=\"T_45b79_row1_col1\" class=\"data row1 col1\" >0.71</td>\n",
       "      <td id=\"T_45b79_row1_col2\" class=\"data row1 col2\" >0.00</td>\n",
       "      <td id=\"T_45b79_row1_col3\" class=\"data row1 col3\" >3701.41</td>\n",
       "      <td id=\"T_45b79_row1_col4\" class=\"data row1 col4\" >0</td>\n",
       "      <td id=\"T_45b79_row1_col5\" class=\"data row1 col5\" >0</td>\n",
       "      <td id=\"T_45b79_row1_col6\" class=\"data row1 col6\" >6</td>\n",
       "      <td id=\"T_45b79_row1_col7\" class=\"data row1 col7\" >0</td>\n",
       "      <td id=\"T_45b79_row1_col8\" class=\"data row1 col8\" >1.00</td>\n",
       "      <td id=\"T_45b79_row1_col9\" class=\"data row1 col9\" >0.00</td>\n",
       "      <td id=\"T_45b79_row1_col10\" class=\"data row1 col10\" >0.00</td>\n",
       "      <td id=\"T_45b79_row1_col11\" class=\"data row1 col11\" >0.00</td>\n",
       "      <td id=\"T_45b79_row1_col12\" class=\"data row1 col12\" >0.00</td>\n",
       "      <td id=\"T_45b79_row1_col13\" class=\"data row1 col13\" >0.00</td>\n",
       "      <td id=\"T_45b79_row1_col14\" class=\"data row1 col14\" >0.00</td>\n",
       "      <td id=\"T_45b79_row1_col15\" class=\"data row1 col15\" >0.00</td>\n",
       "      <td id=\"T_45b79_row1_col16\" class=\"data row1 col16\" >0.00</td>\n",
       "      <td id=\"T_45b79_row1_col17\" class=\"data row1 col17\" >0.00</td>\n",
       "      <td id=\"T_45b79_row1_col18\" class=\"data row1 col18\" >0.00</td>\n",
       "      <td id=\"T_45b79_row1_col19\" class=\"data row1 col19\" >0.00</td>\n",
       "      <td id=\"T_45b79_row1_col20\" class=\"data row1 col20\" >0.00</td>\n",
       "      <td id=\"T_45b79_row1_col21\" class=\"data row1 col21\" >0.00</td>\n",
       "      <td id=\"T_45b79_row1_col22\" class=\"data row1 col22\" >0.00</td>\n",
       "      <td id=\"T_45b79_row1_col23\" class=\"data row1 col23\" >0.00</td>\n",
       "      <td id=\"T_45b79_row1_col24\" class=\"data row1 col24\" >0.00</td>\n",
       "      <td id=\"T_45b79_row1_col25\" class=\"data row1 col25\" >0.00</td>\n",
       "      <td id=\"T_45b79_row1_col26\" class=\"data row1 col26\" >0.00</td>\n",
       "      <td id=\"T_45b79_row1_col27\" class=\"data row1 col27\" >0.00</td>\n",
       "      <td id=\"T_45b79_row1_col28\" class=\"data row1 col28\" >0.00</td>\n",
       "      <td id=\"T_45b79_row1_col29\" class=\"data row1 col29\" >0.00</td>\n",
       "      <td id=\"T_45b79_row1_col30\" class=\"data row1 col30\" >0.00</td>\n",
       "      <td id=\"T_45b79_row1_col31\" class=\"data row1 col31\" >0.00</td>\n",
       "      <td id=\"T_45b79_row1_col32\" class=\"data row1 col32\" >0.00</td>\n",
       "      <td id=\"T_45b79_row1_col33\" class=\"data row1 col33\" >0.00</td>\n",
       "      <td id=\"T_45b79_row1_col34\" class=\"data row1 col34\" >0.00</td>\n",
       "      <td id=\"T_45b79_row1_col35\" class=\"data row1 col35\" >0.00</td>\n",
       "      <td id=\"T_45b79_row1_col36\" class=\"data row1 col36\" >0.00</td>\n",
       "      <td id=\"T_45b79_row1_col37\" class=\"data row1 col37\" >0.00</td>\n",
       "      <td id=\"T_45b79_row1_col38\" class=\"data row1 col38\" >0.00</td>\n",
       "      <td id=\"T_45b79_row1_col39\" class=\"data row1 col39\" >0.00</td>\n",
       "      <td id=\"T_45b79_row1_col40\" class=\"data row1 col40\" >0.00</td>\n",
       "      <td id=\"T_45b79_row1_col41\" class=\"data row1 col41\" >0.00</td>\n",
       "      <td id=\"T_45b79_row1_col42\" class=\"data row1 col42\" >0.00</td>\n",
       "      <td id=\"T_45b79_row1_col43\" class=\"data row1 col43\" >0.00</td>\n",
       "      <td id=\"T_45b79_row1_col44\" class=\"data row1 col44\" >0.00</td>\n",
       "      <td id=\"T_45b79_row1_col45\" class=\"data row1 col45\" >0.00</td>\n",
       "      <td id=\"T_45b79_row1_col46\" class=\"data row1 col46\" >0.00</td>\n",
       "      <td id=\"T_45b79_row1_col47\" class=\"data row1 col47\" >0.00</td>\n",
       "      <td id=\"T_45b79_row1_col48\" class=\"data row1 col48\" >0.00</td>\n",
       "      <td id=\"T_45b79_row1_col49\" class=\"data row1 col49\" >0.00</td>\n",
       "      <td id=\"T_45b79_row1_col50\" class=\"data row1 col50\" >0.00</td>\n",
       "      <td id=\"T_45b79_row1_col51\" class=\"data row1 col51\" >0.00</td>\n",
       "      <td id=\"T_45b79_row1_col52\" class=\"data row1 col52\" >0.00</td>\n",
       "      <td id=\"T_45b79_row1_col53\" class=\"data row1 col53\" >0.00</td>\n",
       "      <td id=\"T_45b79_row1_col54\" class=\"data row1 col54\" >0.00</td>\n",
       "      <td id=\"T_45b79_row1_col55\" class=\"data row1 col55\" >0.00</td>\n",
       "      <td id=\"T_45b79_row1_col56\" class=\"data row1 col56\" >0.00</td>\n",
       "      <td id=\"T_45b79_row1_col57\" class=\"data row1 col57\" >0.00</td>\n",
       "      <td id=\"T_45b79_row1_col58\" class=\"data row1 col58\" >0.00</td>\n",
       "      <td id=\"T_45b79_row1_col59\" class=\"data row1 col59\" >0.00</td>\n",
       "      <td id=\"T_45b79_row1_col60\" class=\"data row1 col60\" >0.00</td>\n",
       "      <td id=\"T_45b79_row1_col61\" class=\"data row1 col61\" >0.00</td>\n",
       "      <td id=\"T_45b79_row1_col62\" class=\"data row1 col62\" >0.00</td>\n",
       "      <td id=\"T_45b79_row1_col63\" class=\"data row1 col63\" >0.00</td>\n",
       "      <td id=\"T_45b79_row1_col64\" class=\"data row1 col64\" >0.00</td>\n",
       "      <td id=\"T_45b79_row1_col65\" class=\"data row1 col65\" >0.00</td>\n",
       "      <td id=\"T_45b79_row1_col66\" class=\"data row1 col66\" >0.00</td>\n",
       "      <td id=\"T_45b79_row1_col67\" class=\"data row1 col67\" >0.00</td>\n",
       "      <td id=\"T_45b79_row1_col68\" class=\"data row1 col68\" >0.00</td>\n",
       "      <td id=\"T_45b79_row1_col69\" class=\"data row1 col69\" >0.00</td>\n",
       "      <td id=\"T_45b79_row1_col70\" class=\"data row1 col70\" >0.00</td>\n",
       "      <td id=\"T_45b79_row1_col71\" class=\"data row1 col71\" >0.00</td>\n",
       "      <td id=\"T_45b79_row1_col72\" class=\"data row1 col72\" >0.00</td>\n",
       "      <td id=\"T_45b79_row1_col73\" class=\"data row1 col73\" >0.00</td>\n",
       "      <td id=\"T_45b79_row1_col74\" class=\"data row1 col74\" >0.00</td>\n",
       "      <td id=\"T_45b79_row1_col75\" class=\"data row1 col75\" >0.00</td>\n",
       "      <td id=\"T_45b79_row1_col76\" class=\"data row1 col76\" >0.00</td>\n",
       "      <td id=\"T_45b79_row1_col77\" class=\"data row1 col77\" >0.00</td>\n",
       "      <td id=\"T_45b79_row1_col78\" class=\"data row1 col78\" >0.00</td>\n",
       "      <td id=\"T_45b79_row1_col79\" class=\"data row1 col79\" >0.00</td>\n",
       "      <td id=\"T_45b79_row1_col80\" class=\"data row1 col80\" >0.00</td>\n",
       "      <td id=\"T_45b79_row1_col81\" class=\"data row1 col81\" >0.00</td>\n",
       "      <td id=\"T_45b79_row1_col82\" class=\"data row1 col82\" >0.00</td>\n",
       "      <td id=\"T_45b79_row1_col83\" class=\"data row1 col83\" >1.00</td>\n",
       "      <td id=\"T_45b79_row1_col84\" class=\"data row1 col84\" >0.00</td>\n",
       "      <td id=\"T_45b79_row1_col85\" class=\"data row1 col85\" >0.00</td>\n",
       "      <td id=\"T_45b79_row1_col86\" class=\"data row1 col86\" >0.00</td>\n",
       "      <td id=\"T_45b79_row1_col87\" class=\"data row1 col87\" >1.00</td>\n",
       "      <td id=\"T_45b79_row1_col88\" class=\"data row1 col88\" >0.00</td>\n",
       "      <td id=\"T_45b79_row1_col89\" class=\"data row1 col89\" >0.00</td>\n",
       "      <td id=\"T_45b79_row1_col90\" class=\"data row1 col90\" >0.00</td>\n",
       "      <td id=\"T_45b79_row1_col91\" class=\"data row1 col91\" >0.00</td>\n",
       "      <td id=\"T_45b79_row1_col92\" class=\"data row1 col92\" >1.00</td>\n",
       "      <td id=\"T_45b79_row1_col93\" class=\"data row1 col93\" >0.00</td>\n",
       "      <td id=\"T_45b79_row1_col94\" class=\"data row1 col94\" >0.00</td>\n",
       "      <td id=\"T_45b79_row1_col95\" class=\"data row1 col95\" >0.00</td>\n",
       "      <td id=\"T_45b79_row1_col96\" class=\"data row1 col96\" >0.00</td>\n",
       "      <td id=\"T_45b79_row1_col97\" class=\"data row1 col97\" >0.00</td>\n",
       "      <td id=\"T_45b79_row1_col98\" class=\"data row1 col98\" >0.00</td>\n",
       "      <td id=\"T_45b79_row1_col99\" class=\"data row1 col99\" >0.00</td>\n",
       "      <td id=\"T_45b79_row1_col100\" class=\"data row1 col100\" >0.00</td>\n",
       "      <td id=\"T_45b79_row1_col101\" class=\"data row1 col101\" >0.00</td>\n",
       "      <td id=\"T_45b79_row1_col102\" class=\"data row1 col102\" >0.00</td>\n",
       "      <td id=\"T_45b79_row1_col103\" class=\"data row1 col103\" >0.00</td>\n",
       "      <td id=\"T_45b79_row1_col104\" class=\"data row1 col104\" >1.00</td>\n",
       "      <td id=\"T_45b79_row1_col105\" class=\"data row1 col105\" >0.00</td>\n",
       "      <td id=\"T_45b79_row1_col106\" class=\"data row1 col106\" >0.00</td>\n",
       "      <td id=\"T_45b79_row1_col107\" class=\"data row1 col107\" >0.00</td>\n",
       "      <td id=\"T_45b79_row1_col108\" class=\"data row1 col108\" >0.00</td>\n",
       "      <td id=\"T_45b79_row1_col109\" class=\"data row1 col109\" >0.00</td>\n",
       "      <td id=\"T_45b79_row1_col110\" class=\"data row1 col110\" >0.00</td>\n",
       "      <td id=\"T_45b79_row1_col111\" class=\"data row1 col111\" >0.00</td>\n",
       "      <td id=\"T_45b79_row1_col112\" class=\"data row1 col112\" >0.00</td>\n",
       "      <td id=\"T_45b79_row1_col113\" class=\"data row1 col113\" >0.00</td>\n",
       "      <td id=\"T_45b79_row1_col114\" class=\"data row1 col114\" >0.00</td>\n",
       "      <td id=\"T_45b79_row1_col115\" class=\"data row1 col115\" >0.00</td>\n",
       "      <td id=\"T_45b79_row1_col116\" class=\"data row1 col116\" >0.00</td>\n",
       "      <td id=\"T_45b79_row1_col117\" class=\"data row1 col117\" >0.00</td>\n",
       "      <td id=\"T_45b79_row1_col118\" class=\"data row1 col118\" >0.00</td>\n",
       "      <td id=\"T_45b79_row1_col119\" class=\"data row1 col119\" >0.00</td>\n",
       "      <td id=\"T_45b79_row1_col120\" class=\"data row1 col120\" >0.00</td>\n",
       "      <td id=\"T_45b79_row1_col121\" class=\"data row1 col121\" >0.00</td>\n",
       "      <td id=\"T_45b79_row1_col122\" class=\"data row1 col122\" >0.00</td>\n",
       "      <td id=\"T_45b79_row1_col123\" class=\"data row1 col123\" >0.00</td>\n",
       "      <td id=\"T_45b79_row1_col124\" class=\"data row1 col124\" >0.00</td>\n",
       "      <td id=\"T_45b79_row1_col125\" class=\"data row1 col125\" >0.00</td>\n",
       "      <td id=\"T_45b79_row1_col126\" class=\"data row1 col126\" >0.00</td>\n",
       "      <td id=\"T_45b79_row1_col127\" class=\"data row1 col127\" >0.00</td>\n",
       "      <td id=\"T_45b79_row1_col128\" class=\"data row1 col128\" >0.00</td>\n",
       "      <td id=\"T_45b79_row1_col129\" class=\"data row1 col129\" >0.00</td>\n",
       "      <td id=\"T_45b79_row1_col130\" class=\"data row1 col130\" >0.00</td>\n",
       "      <td id=\"T_45b79_row1_col131\" class=\"data row1 col131\" >0.00</td>\n",
       "      <td id=\"T_45b79_row1_col132\" class=\"data row1 col132\" >0.00</td>\n",
       "      <td id=\"T_45b79_row1_col133\" class=\"data row1 col133\" >0.00</td>\n",
       "      <td id=\"T_45b79_row1_col134\" class=\"data row1 col134\" >0.00</td>\n",
       "      <td id=\"T_45b79_row1_col135\" class=\"data row1 col135\" >0.00</td>\n",
       "    </tr>\n",
       "    <tr>\n",
       "      <th id=\"T_45b79_level0_row2\" class=\"row_heading level0 row2\" >2</th>\n",
       "      <td id=\"T_45b79_row2_col0\" class=\"data row2 col0\" >49.39</td>\n",
       "      <td id=\"T_45b79_row2_col1\" class=\"data row2 col1\" >0.47</td>\n",
       "      <td id=\"T_45b79_row2_col2\" class=\"data row2 col2\" >0.00</td>\n",
       "      <td id=\"T_45b79_row2_col3\" class=\"data row2 col3\" >3600.00</td>\n",
       "      <td id=\"T_45b79_row2_col4\" class=\"data row2 col4\" >0</td>\n",
       "      <td id=\"T_45b79_row2_col5\" class=\"data row2 col5\" >0</td>\n",
       "      <td id=\"T_45b79_row2_col6\" class=\"data row2 col6\" >15</td>\n",
       "      <td id=\"T_45b79_row2_col7\" class=\"data row2 col7\" >0</td>\n",
       "      <td id=\"T_45b79_row2_col8\" class=\"data row2 col8\" >1.00</td>\n",
       "      <td id=\"T_45b79_row2_col9\" class=\"data row2 col9\" >0.00</td>\n",
       "      <td id=\"T_45b79_row2_col10\" class=\"data row2 col10\" >0.00</td>\n",
       "      <td id=\"T_45b79_row2_col11\" class=\"data row2 col11\" >0.00</td>\n",
       "      <td id=\"T_45b79_row2_col12\" class=\"data row2 col12\" >0.00</td>\n",
       "      <td id=\"T_45b79_row2_col13\" class=\"data row2 col13\" >0.00</td>\n",
       "      <td id=\"T_45b79_row2_col14\" class=\"data row2 col14\" >0.00</td>\n",
       "      <td id=\"T_45b79_row2_col15\" class=\"data row2 col15\" >0.00</td>\n",
       "      <td id=\"T_45b79_row2_col16\" class=\"data row2 col16\" >0.00</td>\n",
       "      <td id=\"T_45b79_row2_col17\" class=\"data row2 col17\" >0.00</td>\n",
       "      <td id=\"T_45b79_row2_col18\" class=\"data row2 col18\" >0.00</td>\n",
       "      <td id=\"T_45b79_row2_col19\" class=\"data row2 col19\" >0.00</td>\n",
       "      <td id=\"T_45b79_row2_col20\" class=\"data row2 col20\" >0.00</td>\n",
       "      <td id=\"T_45b79_row2_col21\" class=\"data row2 col21\" >0.00</td>\n",
       "      <td id=\"T_45b79_row2_col22\" class=\"data row2 col22\" >0.00</td>\n",
       "      <td id=\"T_45b79_row2_col23\" class=\"data row2 col23\" >0.00</td>\n",
       "      <td id=\"T_45b79_row2_col24\" class=\"data row2 col24\" >0.00</td>\n",
       "      <td id=\"T_45b79_row2_col25\" class=\"data row2 col25\" >0.00</td>\n",
       "      <td id=\"T_45b79_row2_col26\" class=\"data row2 col26\" >0.00</td>\n",
       "      <td id=\"T_45b79_row2_col27\" class=\"data row2 col27\" >0.00</td>\n",
       "      <td id=\"T_45b79_row2_col28\" class=\"data row2 col28\" >0.00</td>\n",
       "      <td id=\"T_45b79_row2_col29\" class=\"data row2 col29\" >0.00</td>\n",
       "      <td id=\"T_45b79_row2_col30\" class=\"data row2 col30\" >0.00</td>\n",
       "      <td id=\"T_45b79_row2_col31\" class=\"data row2 col31\" >0.00</td>\n",
       "      <td id=\"T_45b79_row2_col32\" class=\"data row2 col32\" >0.00</td>\n",
       "      <td id=\"T_45b79_row2_col33\" class=\"data row2 col33\" >0.00</td>\n",
       "      <td id=\"T_45b79_row2_col34\" class=\"data row2 col34\" >0.00</td>\n",
       "      <td id=\"T_45b79_row2_col35\" class=\"data row2 col35\" >0.00</td>\n",
       "      <td id=\"T_45b79_row2_col36\" class=\"data row2 col36\" >0.00</td>\n",
       "      <td id=\"T_45b79_row2_col37\" class=\"data row2 col37\" >0.00</td>\n",
       "      <td id=\"T_45b79_row2_col38\" class=\"data row2 col38\" >0.00</td>\n",
       "      <td id=\"T_45b79_row2_col39\" class=\"data row2 col39\" >0.00</td>\n",
       "      <td id=\"T_45b79_row2_col40\" class=\"data row2 col40\" >0.00</td>\n",
       "      <td id=\"T_45b79_row2_col41\" class=\"data row2 col41\" >0.00</td>\n",
       "      <td id=\"T_45b79_row2_col42\" class=\"data row2 col42\" >0.00</td>\n",
       "      <td id=\"T_45b79_row2_col43\" class=\"data row2 col43\" >0.00</td>\n",
       "      <td id=\"T_45b79_row2_col44\" class=\"data row2 col44\" >0.00</td>\n",
       "      <td id=\"T_45b79_row2_col45\" class=\"data row2 col45\" >0.00</td>\n",
       "      <td id=\"T_45b79_row2_col46\" class=\"data row2 col46\" >0.00</td>\n",
       "      <td id=\"T_45b79_row2_col47\" class=\"data row2 col47\" >0.00</td>\n",
       "      <td id=\"T_45b79_row2_col48\" class=\"data row2 col48\" >0.00</td>\n",
       "      <td id=\"T_45b79_row2_col49\" class=\"data row2 col49\" >0.00</td>\n",
       "      <td id=\"T_45b79_row2_col50\" class=\"data row2 col50\" >0.00</td>\n",
       "      <td id=\"T_45b79_row2_col51\" class=\"data row2 col51\" >0.00</td>\n",
       "      <td id=\"T_45b79_row2_col52\" class=\"data row2 col52\" >0.00</td>\n",
       "      <td id=\"T_45b79_row2_col53\" class=\"data row2 col53\" >0.00</td>\n",
       "      <td id=\"T_45b79_row2_col54\" class=\"data row2 col54\" >0.00</td>\n",
       "      <td id=\"T_45b79_row2_col55\" class=\"data row2 col55\" >0.00</td>\n",
       "      <td id=\"T_45b79_row2_col56\" class=\"data row2 col56\" >0.00</td>\n",
       "      <td id=\"T_45b79_row2_col57\" class=\"data row2 col57\" >0.00</td>\n",
       "      <td id=\"T_45b79_row2_col58\" class=\"data row2 col58\" >0.00</td>\n",
       "      <td id=\"T_45b79_row2_col59\" class=\"data row2 col59\" >0.00</td>\n",
       "      <td id=\"T_45b79_row2_col60\" class=\"data row2 col60\" >0.00</td>\n",
       "      <td id=\"T_45b79_row2_col61\" class=\"data row2 col61\" >0.00</td>\n",
       "      <td id=\"T_45b79_row2_col62\" class=\"data row2 col62\" >0.00</td>\n",
       "      <td id=\"T_45b79_row2_col63\" class=\"data row2 col63\" >0.00</td>\n",
       "      <td id=\"T_45b79_row2_col64\" class=\"data row2 col64\" >0.00</td>\n",
       "      <td id=\"T_45b79_row2_col65\" class=\"data row2 col65\" >0.00</td>\n",
       "      <td id=\"T_45b79_row2_col66\" class=\"data row2 col66\" >0.00</td>\n",
       "      <td id=\"T_45b79_row2_col67\" class=\"data row2 col67\" >0.00</td>\n",
       "      <td id=\"T_45b79_row2_col68\" class=\"data row2 col68\" >0.00</td>\n",
       "      <td id=\"T_45b79_row2_col69\" class=\"data row2 col69\" >0.00</td>\n",
       "      <td id=\"T_45b79_row2_col70\" class=\"data row2 col70\" >0.00</td>\n",
       "      <td id=\"T_45b79_row2_col71\" class=\"data row2 col71\" >0.00</td>\n",
       "      <td id=\"T_45b79_row2_col72\" class=\"data row2 col72\" >0.00</td>\n",
       "      <td id=\"T_45b79_row2_col73\" class=\"data row2 col73\" >0.00</td>\n",
       "      <td id=\"T_45b79_row2_col74\" class=\"data row2 col74\" >0.00</td>\n",
       "      <td id=\"T_45b79_row2_col75\" class=\"data row2 col75\" >0.00</td>\n",
       "      <td id=\"T_45b79_row2_col76\" class=\"data row2 col76\" >0.00</td>\n",
       "      <td id=\"T_45b79_row2_col77\" class=\"data row2 col77\" >0.00</td>\n",
       "      <td id=\"T_45b79_row2_col78\" class=\"data row2 col78\" >0.00</td>\n",
       "      <td id=\"T_45b79_row2_col79\" class=\"data row2 col79\" >0.00</td>\n",
       "      <td id=\"T_45b79_row2_col80\" class=\"data row2 col80\" >0.00</td>\n",
       "      <td id=\"T_45b79_row2_col81\" class=\"data row2 col81\" >0.00</td>\n",
       "      <td id=\"T_45b79_row2_col82\" class=\"data row2 col82\" >0.00</td>\n",
       "      <td id=\"T_45b79_row2_col83\" class=\"data row2 col83\" >1.00</td>\n",
       "      <td id=\"T_45b79_row2_col84\" class=\"data row2 col84\" >0.00</td>\n",
       "      <td id=\"T_45b79_row2_col85\" class=\"data row2 col85\" >0.00</td>\n",
       "      <td id=\"T_45b79_row2_col86\" class=\"data row2 col86\" >0.00</td>\n",
       "      <td id=\"T_45b79_row2_col87\" class=\"data row2 col87\" >1.00</td>\n",
       "      <td id=\"T_45b79_row2_col88\" class=\"data row2 col88\" >0.00</td>\n",
       "      <td id=\"T_45b79_row2_col89\" class=\"data row2 col89\" >0.00</td>\n",
       "      <td id=\"T_45b79_row2_col90\" class=\"data row2 col90\" >0.00</td>\n",
       "      <td id=\"T_45b79_row2_col91\" class=\"data row2 col91\" >0.00</td>\n",
       "      <td id=\"T_45b79_row2_col92\" class=\"data row2 col92\" >1.00</td>\n",
       "      <td id=\"T_45b79_row2_col93\" class=\"data row2 col93\" >0.00</td>\n",
       "      <td id=\"T_45b79_row2_col94\" class=\"data row2 col94\" >0.00</td>\n",
       "      <td id=\"T_45b79_row2_col95\" class=\"data row2 col95\" >0.00</td>\n",
       "      <td id=\"T_45b79_row2_col96\" class=\"data row2 col96\" >0.00</td>\n",
       "      <td id=\"T_45b79_row2_col97\" class=\"data row2 col97\" >0.00</td>\n",
       "      <td id=\"T_45b79_row2_col98\" class=\"data row2 col98\" >0.00</td>\n",
       "      <td id=\"T_45b79_row2_col99\" class=\"data row2 col99\" >0.00</td>\n",
       "      <td id=\"T_45b79_row2_col100\" class=\"data row2 col100\" >0.00</td>\n",
       "      <td id=\"T_45b79_row2_col101\" class=\"data row2 col101\" >0.00</td>\n",
       "      <td id=\"T_45b79_row2_col102\" class=\"data row2 col102\" >0.00</td>\n",
       "      <td id=\"T_45b79_row2_col103\" class=\"data row2 col103\" >0.00</td>\n",
       "      <td id=\"T_45b79_row2_col104\" class=\"data row2 col104\" >0.00</td>\n",
       "      <td id=\"T_45b79_row2_col105\" class=\"data row2 col105\" >0.00</td>\n",
       "      <td id=\"T_45b79_row2_col106\" class=\"data row2 col106\" >0.00</td>\n",
       "      <td id=\"T_45b79_row2_col107\" class=\"data row2 col107\" >0.00</td>\n",
       "      <td id=\"T_45b79_row2_col108\" class=\"data row2 col108\" >0.00</td>\n",
       "      <td id=\"T_45b79_row2_col109\" class=\"data row2 col109\" >0.00</td>\n",
       "      <td id=\"T_45b79_row2_col110\" class=\"data row2 col110\" >0.00</td>\n",
       "      <td id=\"T_45b79_row2_col111\" class=\"data row2 col111\" >0.00</td>\n",
       "      <td id=\"T_45b79_row2_col112\" class=\"data row2 col112\" >0.00</td>\n",
       "      <td id=\"T_45b79_row2_col113\" class=\"data row2 col113\" >0.00</td>\n",
       "      <td id=\"T_45b79_row2_col114\" class=\"data row2 col114\" >0.00</td>\n",
       "      <td id=\"T_45b79_row2_col115\" class=\"data row2 col115\" >0.00</td>\n",
       "      <td id=\"T_45b79_row2_col116\" class=\"data row2 col116\" >0.00</td>\n",
       "      <td id=\"T_45b79_row2_col117\" class=\"data row2 col117\" >0.00</td>\n",
       "      <td id=\"T_45b79_row2_col118\" class=\"data row2 col118\" >0.00</td>\n",
       "      <td id=\"T_45b79_row2_col119\" class=\"data row2 col119\" >0.00</td>\n",
       "      <td id=\"T_45b79_row2_col120\" class=\"data row2 col120\" >0.00</td>\n",
       "      <td id=\"T_45b79_row2_col121\" class=\"data row2 col121\" >0.00</td>\n",
       "      <td id=\"T_45b79_row2_col122\" class=\"data row2 col122\" >1.00</td>\n",
       "      <td id=\"T_45b79_row2_col123\" class=\"data row2 col123\" >0.00</td>\n",
       "      <td id=\"T_45b79_row2_col124\" class=\"data row2 col124\" >0.00</td>\n",
       "      <td id=\"T_45b79_row2_col125\" class=\"data row2 col125\" >0.00</td>\n",
       "      <td id=\"T_45b79_row2_col126\" class=\"data row2 col126\" >0.00</td>\n",
       "      <td id=\"T_45b79_row2_col127\" class=\"data row2 col127\" >0.00</td>\n",
       "      <td id=\"T_45b79_row2_col128\" class=\"data row2 col128\" >0.00</td>\n",
       "      <td id=\"T_45b79_row2_col129\" class=\"data row2 col129\" >0.00</td>\n",
       "      <td id=\"T_45b79_row2_col130\" class=\"data row2 col130\" >0.00</td>\n",
       "      <td id=\"T_45b79_row2_col131\" class=\"data row2 col131\" >0.00</td>\n",
       "      <td id=\"T_45b79_row2_col132\" class=\"data row2 col132\" >0.00</td>\n",
       "      <td id=\"T_45b79_row2_col133\" class=\"data row2 col133\" >0.00</td>\n",
       "      <td id=\"T_45b79_row2_col134\" class=\"data row2 col134\" >0.00</td>\n",
       "      <td id=\"T_45b79_row2_col135\" class=\"data row2 col135\" >0.00</td>\n",
       "    </tr>\n",
       "    <tr>\n",
       "      <th id=\"T_45b79_level0_row3\" class=\"row_heading level0 row3\" >3</th>\n",
       "      <td id=\"T_45b79_row3_col0\" class=\"data row3 col0\" >45.98</td>\n",
       "      <td id=\"T_45b79_row3_col1\" class=\"data row3 col1\" >0.55</td>\n",
       "      <td id=\"T_45b79_row3_col2\" class=\"data row3 col2\" >0.00</td>\n",
       "      <td id=\"T_45b79_row3_col3\" class=\"data row3 col3\" >3600.00</td>\n",
       "      <td id=\"T_45b79_row3_col4\" class=\"data row3 col4\" >0</td>\n",
       "      <td id=\"T_45b79_row3_col5\" class=\"data row3 col5\" >0</td>\n",
       "      <td id=\"T_45b79_row3_col6\" class=\"data row3 col6\" >16</td>\n",
       "      <td id=\"T_45b79_row3_col7\" class=\"data row3 col7\" >0</td>\n",
       "      <td id=\"T_45b79_row3_col8\" class=\"data row3 col8\" >1.00</td>\n",
       "      <td id=\"T_45b79_row3_col9\" class=\"data row3 col9\" >0.00</td>\n",
       "      <td id=\"T_45b79_row3_col10\" class=\"data row3 col10\" >0.00</td>\n",
       "      <td id=\"T_45b79_row3_col11\" class=\"data row3 col11\" >0.00</td>\n",
       "      <td id=\"T_45b79_row3_col12\" class=\"data row3 col12\" >0.00</td>\n",
       "      <td id=\"T_45b79_row3_col13\" class=\"data row3 col13\" >0.00</td>\n",
       "      <td id=\"T_45b79_row3_col14\" class=\"data row3 col14\" >0.00</td>\n",
       "      <td id=\"T_45b79_row3_col15\" class=\"data row3 col15\" >0.00</td>\n",
       "      <td id=\"T_45b79_row3_col16\" class=\"data row3 col16\" >0.00</td>\n",
       "      <td id=\"T_45b79_row3_col17\" class=\"data row3 col17\" >0.00</td>\n",
       "      <td id=\"T_45b79_row3_col18\" class=\"data row3 col18\" >0.00</td>\n",
       "      <td id=\"T_45b79_row3_col19\" class=\"data row3 col19\" >0.00</td>\n",
       "      <td id=\"T_45b79_row3_col20\" class=\"data row3 col20\" >0.00</td>\n",
       "      <td id=\"T_45b79_row3_col21\" class=\"data row3 col21\" >0.00</td>\n",
       "      <td id=\"T_45b79_row3_col22\" class=\"data row3 col22\" >0.00</td>\n",
       "      <td id=\"T_45b79_row3_col23\" class=\"data row3 col23\" >0.00</td>\n",
       "      <td id=\"T_45b79_row3_col24\" class=\"data row3 col24\" >0.00</td>\n",
       "      <td id=\"T_45b79_row3_col25\" class=\"data row3 col25\" >0.00</td>\n",
       "      <td id=\"T_45b79_row3_col26\" class=\"data row3 col26\" >0.00</td>\n",
       "      <td id=\"T_45b79_row3_col27\" class=\"data row3 col27\" >0.00</td>\n",
       "      <td id=\"T_45b79_row3_col28\" class=\"data row3 col28\" >0.00</td>\n",
       "      <td id=\"T_45b79_row3_col29\" class=\"data row3 col29\" >0.00</td>\n",
       "      <td id=\"T_45b79_row3_col30\" class=\"data row3 col30\" >0.00</td>\n",
       "      <td id=\"T_45b79_row3_col31\" class=\"data row3 col31\" >0.00</td>\n",
       "      <td id=\"T_45b79_row3_col32\" class=\"data row3 col32\" >0.00</td>\n",
       "      <td id=\"T_45b79_row3_col33\" class=\"data row3 col33\" >0.00</td>\n",
       "      <td id=\"T_45b79_row3_col34\" class=\"data row3 col34\" >0.00</td>\n",
       "      <td id=\"T_45b79_row3_col35\" class=\"data row3 col35\" >0.00</td>\n",
       "      <td id=\"T_45b79_row3_col36\" class=\"data row3 col36\" >0.00</td>\n",
       "      <td id=\"T_45b79_row3_col37\" class=\"data row3 col37\" >0.00</td>\n",
       "      <td id=\"T_45b79_row3_col38\" class=\"data row3 col38\" >0.00</td>\n",
       "      <td id=\"T_45b79_row3_col39\" class=\"data row3 col39\" >0.00</td>\n",
       "      <td id=\"T_45b79_row3_col40\" class=\"data row3 col40\" >0.00</td>\n",
       "      <td id=\"T_45b79_row3_col41\" class=\"data row3 col41\" >0.00</td>\n",
       "      <td id=\"T_45b79_row3_col42\" class=\"data row3 col42\" >0.00</td>\n",
       "      <td id=\"T_45b79_row3_col43\" class=\"data row3 col43\" >0.00</td>\n",
       "      <td id=\"T_45b79_row3_col44\" class=\"data row3 col44\" >0.00</td>\n",
       "      <td id=\"T_45b79_row3_col45\" class=\"data row3 col45\" >0.00</td>\n",
       "      <td id=\"T_45b79_row3_col46\" class=\"data row3 col46\" >0.00</td>\n",
       "      <td id=\"T_45b79_row3_col47\" class=\"data row3 col47\" >0.00</td>\n",
       "      <td id=\"T_45b79_row3_col48\" class=\"data row3 col48\" >0.00</td>\n",
       "      <td id=\"T_45b79_row3_col49\" class=\"data row3 col49\" >0.00</td>\n",
       "      <td id=\"T_45b79_row3_col50\" class=\"data row3 col50\" >0.00</td>\n",
       "      <td id=\"T_45b79_row3_col51\" class=\"data row3 col51\" >0.00</td>\n",
       "      <td id=\"T_45b79_row3_col52\" class=\"data row3 col52\" >0.00</td>\n",
       "      <td id=\"T_45b79_row3_col53\" class=\"data row3 col53\" >0.00</td>\n",
       "      <td id=\"T_45b79_row3_col54\" class=\"data row3 col54\" >0.00</td>\n",
       "      <td id=\"T_45b79_row3_col55\" class=\"data row3 col55\" >0.00</td>\n",
       "      <td id=\"T_45b79_row3_col56\" class=\"data row3 col56\" >0.00</td>\n",
       "      <td id=\"T_45b79_row3_col57\" class=\"data row3 col57\" >0.00</td>\n",
       "      <td id=\"T_45b79_row3_col58\" class=\"data row3 col58\" >0.00</td>\n",
       "      <td id=\"T_45b79_row3_col59\" class=\"data row3 col59\" >0.00</td>\n",
       "      <td id=\"T_45b79_row3_col60\" class=\"data row3 col60\" >0.00</td>\n",
       "      <td id=\"T_45b79_row3_col61\" class=\"data row3 col61\" >0.00</td>\n",
       "      <td id=\"T_45b79_row3_col62\" class=\"data row3 col62\" >0.00</td>\n",
       "      <td id=\"T_45b79_row3_col63\" class=\"data row3 col63\" >0.00</td>\n",
       "      <td id=\"T_45b79_row3_col64\" class=\"data row3 col64\" >0.00</td>\n",
       "      <td id=\"T_45b79_row3_col65\" class=\"data row3 col65\" >0.00</td>\n",
       "      <td id=\"T_45b79_row3_col66\" class=\"data row3 col66\" >0.00</td>\n",
       "      <td id=\"T_45b79_row3_col67\" class=\"data row3 col67\" >0.00</td>\n",
       "      <td id=\"T_45b79_row3_col68\" class=\"data row3 col68\" >0.00</td>\n",
       "      <td id=\"T_45b79_row3_col69\" class=\"data row3 col69\" >0.00</td>\n",
       "      <td id=\"T_45b79_row3_col70\" class=\"data row3 col70\" >0.00</td>\n",
       "      <td id=\"T_45b79_row3_col71\" class=\"data row3 col71\" >0.00</td>\n",
       "      <td id=\"T_45b79_row3_col72\" class=\"data row3 col72\" >0.00</td>\n",
       "      <td id=\"T_45b79_row3_col73\" class=\"data row3 col73\" >0.00</td>\n",
       "      <td id=\"T_45b79_row3_col74\" class=\"data row3 col74\" >0.00</td>\n",
       "      <td id=\"T_45b79_row3_col75\" class=\"data row3 col75\" >0.00</td>\n",
       "      <td id=\"T_45b79_row3_col76\" class=\"data row3 col76\" >0.00</td>\n",
       "      <td id=\"T_45b79_row3_col77\" class=\"data row3 col77\" >0.00</td>\n",
       "      <td id=\"T_45b79_row3_col78\" class=\"data row3 col78\" >0.00</td>\n",
       "      <td id=\"T_45b79_row3_col79\" class=\"data row3 col79\" >0.00</td>\n",
       "      <td id=\"T_45b79_row3_col80\" class=\"data row3 col80\" >0.00</td>\n",
       "      <td id=\"T_45b79_row3_col81\" class=\"data row3 col81\" >0.00</td>\n",
       "      <td id=\"T_45b79_row3_col82\" class=\"data row3 col82\" >0.00</td>\n",
       "      <td id=\"T_45b79_row3_col83\" class=\"data row3 col83\" >1.00</td>\n",
       "      <td id=\"T_45b79_row3_col84\" class=\"data row3 col84\" >0.00</td>\n",
       "      <td id=\"T_45b79_row3_col85\" class=\"data row3 col85\" >0.00</td>\n",
       "      <td id=\"T_45b79_row3_col86\" class=\"data row3 col86\" >0.00</td>\n",
       "      <td id=\"T_45b79_row3_col87\" class=\"data row3 col87\" >1.00</td>\n",
       "      <td id=\"T_45b79_row3_col88\" class=\"data row3 col88\" >0.00</td>\n",
       "      <td id=\"T_45b79_row3_col89\" class=\"data row3 col89\" >0.00</td>\n",
       "      <td id=\"T_45b79_row3_col90\" class=\"data row3 col90\" >0.00</td>\n",
       "      <td id=\"T_45b79_row3_col91\" class=\"data row3 col91\" >0.00</td>\n",
       "      <td id=\"T_45b79_row3_col92\" class=\"data row3 col92\" >1.00</td>\n",
       "      <td id=\"T_45b79_row3_col93\" class=\"data row3 col93\" >0.00</td>\n",
       "      <td id=\"T_45b79_row3_col94\" class=\"data row3 col94\" >0.00</td>\n",
       "      <td id=\"T_45b79_row3_col95\" class=\"data row3 col95\" >0.00</td>\n",
       "      <td id=\"T_45b79_row3_col96\" class=\"data row3 col96\" >0.00</td>\n",
       "      <td id=\"T_45b79_row3_col97\" class=\"data row3 col97\" >0.00</td>\n",
       "      <td id=\"T_45b79_row3_col98\" class=\"data row3 col98\" >0.00</td>\n",
       "      <td id=\"T_45b79_row3_col99\" class=\"data row3 col99\" >0.00</td>\n",
       "      <td id=\"T_45b79_row3_col100\" class=\"data row3 col100\" >0.00</td>\n",
       "      <td id=\"T_45b79_row3_col101\" class=\"data row3 col101\" >0.00</td>\n",
       "      <td id=\"T_45b79_row3_col102\" class=\"data row3 col102\" >0.00</td>\n",
       "      <td id=\"T_45b79_row3_col103\" class=\"data row3 col103\" >0.00</td>\n",
       "      <td id=\"T_45b79_row3_col104\" class=\"data row3 col104\" >0.00</td>\n",
       "      <td id=\"T_45b79_row3_col105\" class=\"data row3 col105\" >0.00</td>\n",
       "      <td id=\"T_45b79_row3_col106\" class=\"data row3 col106\" >0.00</td>\n",
       "      <td id=\"T_45b79_row3_col107\" class=\"data row3 col107\" >0.00</td>\n",
       "      <td id=\"T_45b79_row3_col108\" class=\"data row3 col108\" >0.00</td>\n",
       "      <td id=\"T_45b79_row3_col109\" class=\"data row3 col109\" >0.00</td>\n",
       "      <td id=\"T_45b79_row3_col110\" class=\"data row3 col110\" >0.00</td>\n",
       "      <td id=\"T_45b79_row3_col111\" class=\"data row3 col111\" >0.00</td>\n",
       "      <td id=\"T_45b79_row3_col112\" class=\"data row3 col112\" >0.00</td>\n",
       "      <td id=\"T_45b79_row3_col113\" class=\"data row3 col113\" >0.00</td>\n",
       "      <td id=\"T_45b79_row3_col114\" class=\"data row3 col114\" >0.00</td>\n",
       "      <td id=\"T_45b79_row3_col115\" class=\"data row3 col115\" >0.00</td>\n",
       "      <td id=\"T_45b79_row3_col116\" class=\"data row3 col116\" >0.00</td>\n",
       "      <td id=\"T_45b79_row3_col117\" class=\"data row3 col117\" >0.00</td>\n",
       "      <td id=\"T_45b79_row3_col118\" class=\"data row3 col118\" >0.00</td>\n",
       "      <td id=\"T_45b79_row3_col119\" class=\"data row3 col119\" >0.00</td>\n",
       "      <td id=\"T_45b79_row3_col120\" class=\"data row3 col120\" >0.00</td>\n",
       "      <td id=\"T_45b79_row3_col121\" class=\"data row3 col121\" >0.00</td>\n",
       "      <td id=\"T_45b79_row3_col122\" class=\"data row3 col122\" >0.00</td>\n",
       "      <td id=\"T_45b79_row3_col123\" class=\"data row3 col123\" >0.00</td>\n",
       "      <td id=\"T_45b79_row3_col124\" class=\"data row3 col124\" >1.00</td>\n",
       "      <td id=\"T_45b79_row3_col125\" class=\"data row3 col125\" >0.00</td>\n",
       "      <td id=\"T_45b79_row3_col126\" class=\"data row3 col126\" >0.00</td>\n",
       "      <td id=\"T_45b79_row3_col127\" class=\"data row3 col127\" >0.00</td>\n",
       "      <td id=\"T_45b79_row3_col128\" class=\"data row3 col128\" >0.00</td>\n",
       "      <td id=\"T_45b79_row3_col129\" class=\"data row3 col129\" >0.00</td>\n",
       "      <td id=\"T_45b79_row3_col130\" class=\"data row3 col130\" >0.00</td>\n",
       "      <td id=\"T_45b79_row3_col131\" class=\"data row3 col131\" >0.00</td>\n",
       "      <td id=\"T_45b79_row3_col132\" class=\"data row3 col132\" >0.00</td>\n",
       "      <td id=\"T_45b79_row3_col133\" class=\"data row3 col133\" >0.00</td>\n",
       "      <td id=\"T_45b79_row3_col134\" class=\"data row3 col134\" >0.00</td>\n",
       "      <td id=\"T_45b79_row3_col135\" class=\"data row3 col135\" >0.00</td>\n",
       "    </tr>\n",
       "    <tr>\n",
       "      <th id=\"T_45b79_level0_row4\" class=\"row_heading level0 row4\" >4</th>\n",
       "      <td id=\"T_45b79_row4_col0\" class=\"data row4 col0\" >33.69</td>\n",
       "      <td id=\"T_45b79_row4_col1\" class=\"data row4 col1\" >0.73</td>\n",
       "      <td id=\"T_45b79_row4_col2\" class=\"data row4 col2\" >0.00</td>\n",
       "      <td id=\"T_45b79_row4_col3\" class=\"data row4 col3\" >3600.00</td>\n",
       "      <td id=\"T_45b79_row4_col4\" class=\"data row4 col4\" >0</td>\n",
       "      <td id=\"T_45b79_row4_col5\" class=\"data row4 col5\" >0</td>\n",
       "      <td id=\"T_45b79_row4_col6\" class=\"data row4 col6\" >5</td>\n",
       "      <td id=\"T_45b79_row4_col7\" class=\"data row4 col7\" >0</td>\n",
       "      <td id=\"T_45b79_row4_col8\" class=\"data row4 col8\" >0.00</td>\n",
       "      <td id=\"T_45b79_row4_col9\" class=\"data row4 col9\" >1.00</td>\n",
       "      <td id=\"T_45b79_row4_col10\" class=\"data row4 col10\" >0.00</td>\n",
       "      <td id=\"T_45b79_row4_col11\" class=\"data row4 col11\" >0.00</td>\n",
       "      <td id=\"T_45b79_row4_col12\" class=\"data row4 col12\" >0.00</td>\n",
       "      <td id=\"T_45b79_row4_col13\" class=\"data row4 col13\" >0.00</td>\n",
       "      <td id=\"T_45b79_row4_col14\" class=\"data row4 col14\" >0.00</td>\n",
       "      <td id=\"T_45b79_row4_col15\" class=\"data row4 col15\" >0.00</td>\n",
       "      <td id=\"T_45b79_row4_col16\" class=\"data row4 col16\" >0.00</td>\n",
       "      <td id=\"T_45b79_row4_col17\" class=\"data row4 col17\" >0.00</td>\n",
       "      <td id=\"T_45b79_row4_col18\" class=\"data row4 col18\" >0.00</td>\n",
       "      <td id=\"T_45b79_row4_col19\" class=\"data row4 col19\" >0.00</td>\n",
       "      <td id=\"T_45b79_row4_col20\" class=\"data row4 col20\" >0.00</td>\n",
       "      <td id=\"T_45b79_row4_col21\" class=\"data row4 col21\" >0.00</td>\n",
       "      <td id=\"T_45b79_row4_col22\" class=\"data row4 col22\" >0.00</td>\n",
       "      <td id=\"T_45b79_row4_col23\" class=\"data row4 col23\" >0.00</td>\n",
       "      <td id=\"T_45b79_row4_col24\" class=\"data row4 col24\" >0.00</td>\n",
       "      <td id=\"T_45b79_row4_col25\" class=\"data row4 col25\" >0.00</td>\n",
       "      <td id=\"T_45b79_row4_col26\" class=\"data row4 col26\" >0.00</td>\n",
       "      <td id=\"T_45b79_row4_col27\" class=\"data row4 col27\" >0.00</td>\n",
       "      <td id=\"T_45b79_row4_col28\" class=\"data row4 col28\" >0.00</td>\n",
       "      <td id=\"T_45b79_row4_col29\" class=\"data row4 col29\" >0.00</td>\n",
       "      <td id=\"T_45b79_row4_col30\" class=\"data row4 col30\" >0.00</td>\n",
       "      <td id=\"T_45b79_row4_col31\" class=\"data row4 col31\" >0.00</td>\n",
       "      <td id=\"T_45b79_row4_col32\" class=\"data row4 col32\" >0.00</td>\n",
       "      <td id=\"T_45b79_row4_col33\" class=\"data row4 col33\" >0.00</td>\n",
       "      <td id=\"T_45b79_row4_col34\" class=\"data row4 col34\" >0.00</td>\n",
       "      <td id=\"T_45b79_row4_col35\" class=\"data row4 col35\" >0.00</td>\n",
       "      <td id=\"T_45b79_row4_col36\" class=\"data row4 col36\" >0.00</td>\n",
       "      <td id=\"T_45b79_row4_col37\" class=\"data row4 col37\" >0.00</td>\n",
       "      <td id=\"T_45b79_row4_col38\" class=\"data row4 col38\" >0.00</td>\n",
       "      <td id=\"T_45b79_row4_col39\" class=\"data row4 col39\" >0.00</td>\n",
       "      <td id=\"T_45b79_row4_col40\" class=\"data row4 col40\" >0.00</td>\n",
       "      <td id=\"T_45b79_row4_col41\" class=\"data row4 col41\" >0.00</td>\n",
       "      <td id=\"T_45b79_row4_col42\" class=\"data row4 col42\" >0.00</td>\n",
       "      <td id=\"T_45b79_row4_col43\" class=\"data row4 col43\" >0.00</td>\n",
       "      <td id=\"T_45b79_row4_col44\" class=\"data row4 col44\" >0.00</td>\n",
       "      <td id=\"T_45b79_row4_col45\" class=\"data row4 col45\" >0.00</td>\n",
       "      <td id=\"T_45b79_row4_col46\" class=\"data row4 col46\" >0.00</td>\n",
       "      <td id=\"T_45b79_row4_col47\" class=\"data row4 col47\" >0.00</td>\n",
       "      <td id=\"T_45b79_row4_col48\" class=\"data row4 col48\" >0.00</td>\n",
       "      <td id=\"T_45b79_row4_col49\" class=\"data row4 col49\" >0.00</td>\n",
       "      <td id=\"T_45b79_row4_col50\" class=\"data row4 col50\" >0.00</td>\n",
       "      <td id=\"T_45b79_row4_col51\" class=\"data row4 col51\" >0.00</td>\n",
       "      <td id=\"T_45b79_row4_col52\" class=\"data row4 col52\" >0.00</td>\n",
       "      <td id=\"T_45b79_row4_col53\" class=\"data row4 col53\" >0.00</td>\n",
       "      <td id=\"T_45b79_row4_col54\" class=\"data row4 col54\" >0.00</td>\n",
       "      <td id=\"T_45b79_row4_col55\" class=\"data row4 col55\" >0.00</td>\n",
       "      <td id=\"T_45b79_row4_col56\" class=\"data row4 col56\" >0.00</td>\n",
       "      <td id=\"T_45b79_row4_col57\" class=\"data row4 col57\" >0.00</td>\n",
       "      <td id=\"T_45b79_row4_col58\" class=\"data row4 col58\" >0.00</td>\n",
       "      <td id=\"T_45b79_row4_col59\" class=\"data row4 col59\" >0.00</td>\n",
       "      <td id=\"T_45b79_row4_col60\" class=\"data row4 col60\" >0.00</td>\n",
       "      <td id=\"T_45b79_row4_col61\" class=\"data row4 col61\" >0.00</td>\n",
       "      <td id=\"T_45b79_row4_col62\" class=\"data row4 col62\" >0.00</td>\n",
       "      <td id=\"T_45b79_row4_col63\" class=\"data row4 col63\" >0.00</td>\n",
       "      <td id=\"T_45b79_row4_col64\" class=\"data row4 col64\" >0.00</td>\n",
       "      <td id=\"T_45b79_row4_col65\" class=\"data row4 col65\" >0.00</td>\n",
       "      <td id=\"T_45b79_row4_col66\" class=\"data row4 col66\" >0.00</td>\n",
       "      <td id=\"T_45b79_row4_col67\" class=\"data row4 col67\" >0.00</td>\n",
       "      <td id=\"T_45b79_row4_col68\" class=\"data row4 col68\" >0.00</td>\n",
       "      <td id=\"T_45b79_row4_col69\" class=\"data row4 col69\" >0.00</td>\n",
       "      <td id=\"T_45b79_row4_col70\" class=\"data row4 col70\" >0.00</td>\n",
       "      <td id=\"T_45b79_row4_col71\" class=\"data row4 col71\" >0.00</td>\n",
       "      <td id=\"T_45b79_row4_col72\" class=\"data row4 col72\" >0.00</td>\n",
       "      <td id=\"T_45b79_row4_col73\" class=\"data row4 col73\" >0.00</td>\n",
       "      <td id=\"T_45b79_row4_col74\" class=\"data row4 col74\" >0.00</td>\n",
       "      <td id=\"T_45b79_row4_col75\" class=\"data row4 col75\" >0.00</td>\n",
       "      <td id=\"T_45b79_row4_col76\" class=\"data row4 col76\" >0.00</td>\n",
       "      <td id=\"T_45b79_row4_col77\" class=\"data row4 col77\" >0.00</td>\n",
       "      <td id=\"T_45b79_row4_col78\" class=\"data row4 col78\" >0.00</td>\n",
       "      <td id=\"T_45b79_row4_col79\" class=\"data row4 col79\" >0.00</td>\n",
       "      <td id=\"T_45b79_row4_col80\" class=\"data row4 col80\" >0.00</td>\n",
       "      <td id=\"T_45b79_row4_col81\" class=\"data row4 col81\" >0.00</td>\n",
       "      <td id=\"T_45b79_row4_col82\" class=\"data row4 col82\" >0.00</td>\n",
       "      <td id=\"T_45b79_row4_col83\" class=\"data row4 col83\" >1.00</td>\n",
       "      <td id=\"T_45b79_row4_col84\" class=\"data row4 col84\" >0.00</td>\n",
       "      <td id=\"T_45b79_row4_col85\" class=\"data row4 col85\" >0.00</td>\n",
       "      <td id=\"T_45b79_row4_col86\" class=\"data row4 col86\" >0.00</td>\n",
       "      <td id=\"T_45b79_row4_col87\" class=\"data row4 col87\" >1.00</td>\n",
       "      <td id=\"T_45b79_row4_col88\" class=\"data row4 col88\" >0.00</td>\n",
       "      <td id=\"T_45b79_row4_col89\" class=\"data row4 col89\" >0.00</td>\n",
       "      <td id=\"T_45b79_row4_col90\" class=\"data row4 col90\" >0.00</td>\n",
       "      <td id=\"T_45b79_row4_col91\" class=\"data row4 col91\" >0.00</td>\n",
       "      <td id=\"T_45b79_row4_col92\" class=\"data row4 col92\" >1.00</td>\n",
       "      <td id=\"T_45b79_row4_col93\" class=\"data row4 col93\" >0.00</td>\n",
       "      <td id=\"T_45b79_row4_col94\" class=\"data row4 col94\" >0.00</td>\n",
       "      <td id=\"T_45b79_row4_col95\" class=\"data row4 col95\" >0.00</td>\n",
       "      <td id=\"T_45b79_row4_col96\" class=\"data row4 col96\" >0.00</td>\n",
       "      <td id=\"T_45b79_row4_col97\" class=\"data row4 col97\" >0.00</td>\n",
       "      <td id=\"T_45b79_row4_col98\" class=\"data row4 col98\" >0.00</td>\n",
       "      <td id=\"T_45b79_row4_col99\" class=\"data row4 col99\" >0.00</td>\n",
       "      <td id=\"T_45b79_row4_col100\" class=\"data row4 col100\" >0.00</td>\n",
       "      <td id=\"T_45b79_row4_col101\" class=\"data row4 col101\" >0.00</td>\n",
       "      <td id=\"T_45b79_row4_col102\" class=\"data row4 col102\" >0.00</td>\n",
       "      <td id=\"T_45b79_row4_col103\" class=\"data row4 col103\" >1.00</td>\n",
       "      <td id=\"T_45b79_row4_col104\" class=\"data row4 col104\" >0.00</td>\n",
       "      <td id=\"T_45b79_row4_col105\" class=\"data row4 col105\" >0.00</td>\n",
       "      <td id=\"T_45b79_row4_col106\" class=\"data row4 col106\" >0.00</td>\n",
       "      <td id=\"T_45b79_row4_col107\" class=\"data row4 col107\" >0.00</td>\n",
       "      <td id=\"T_45b79_row4_col108\" class=\"data row4 col108\" >0.00</td>\n",
       "      <td id=\"T_45b79_row4_col109\" class=\"data row4 col109\" >0.00</td>\n",
       "      <td id=\"T_45b79_row4_col110\" class=\"data row4 col110\" >0.00</td>\n",
       "      <td id=\"T_45b79_row4_col111\" class=\"data row4 col111\" >0.00</td>\n",
       "      <td id=\"T_45b79_row4_col112\" class=\"data row4 col112\" >0.00</td>\n",
       "      <td id=\"T_45b79_row4_col113\" class=\"data row4 col113\" >0.00</td>\n",
       "      <td id=\"T_45b79_row4_col114\" class=\"data row4 col114\" >0.00</td>\n",
       "      <td id=\"T_45b79_row4_col115\" class=\"data row4 col115\" >0.00</td>\n",
       "      <td id=\"T_45b79_row4_col116\" class=\"data row4 col116\" >0.00</td>\n",
       "      <td id=\"T_45b79_row4_col117\" class=\"data row4 col117\" >0.00</td>\n",
       "      <td id=\"T_45b79_row4_col118\" class=\"data row4 col118\" >0.00</td>\n",
       "      <td id=\"T_45b79_row4_col119\" class=\"data row4 col119\" >0.00</td>\n",
       "      <td id=\"T_45b79_row4_col120\" class=\"data row4 col120\" >0.00</td>\n",
       "      <td id=\"T_45b79_row4_col121\" class=\"data row4 col121\" >0.00</td>\n",
       "      <td id=\"T_45b79_row4_col122\" class=\"data row4 col122\" >0.00</td>\n",
       "      <td id=\"T_45b79_row4_col123\" class=\"data row4 col123\" >0.00</td>\n",
       "      <td id=\"T_45b79_row4_col124\" class=\"data row4 col124\" >0.00</td>\n",
       "      <td id=\"T_45b79_row4_col125\" class=\"data row4 col125\" >0.00</td>\n",
       "      <td id=\"T_45b79_row4_col126\" class=\"data row4 col126\" >0.00</td>\n",
       "      <td id=\"T_45b79_row4_col127\" class=\"data row4 col127\" >0.00</td>\n",
       "      <td id=\"T_45b79_row4_col128\" class=\"data row4 col128\" >0.00</td>\n",
       "      <td id=\"T_45b79_row4_col129\" class=\"data row4 col129\" >0.00</td>\n",
       "      <td id=\"T_45b79_row4_col130\" class=\"data row4 col130\" >0.00</td>\n",
       "      <td id=\"T_45b79_row4_col131\" class=\"data row4 col131\" >0.00</td>\n",
       "      <td id=\"T_45b79_row4_col132\" class=\"data row4 col132\" >0.00</td>\n",
       "      <td id=\"T_45b79_row4_col133\" class=\"data row4 col133\" >0.00</td>\n",
       "      <td id=\"T_45b79_row4_col134\" class=\"data row4 col134\" >0.00</td>\n",
       "      <td id=\"T_45b79_row4_col135\" class=\"data row4 col135\" >0.00</td>\n",
       "    </tr>\n",
       "  </tbody>\n",
       "</table>\n"
      ],
      "text/plain": [
       "<pandas.io.formats.style.Styler at 0x7f5230832190>"
      ]
     },
     "execution_count": 17,
     "metadata": {},
     "output_type": "execute_result"
    }
   ],
   "source": [
    "print(X.shape)\n",
    "X.head(5).style.set_precision(2)"
   ]
  },
  {
   "cell_type": "code",
   "execution_count": 18,
   "metadata": {},
   "outputs": [
    {
     "name": "stdout",
     "output_type": "stream",
     "text": [
      "[0 1 2]\n"
     ]
    },
    {
     "data": {
      "text/html": [
       "<div>\n",
       "<style scoped>\n",
       "    .dataframe tbody tr th:only-of-type {\n",
       "        vertical-align: middle;\n",
       "    }\n",
       "\n",
       "    .dataframe tbody tr th {\n",
       "        vertical-align: top;\n",
       "    }\n",
       "\n",
       "    .dataframe thead th {\n",
       "        text-align: right;\n",
       "    }\n",
       "</style>\n",
       "<table border=\"1\" class=\"dataframe\">\n",
       "  <thead>\n",
       "    <tr style=\"text-align: right;\">\n",
       "      <th></th>\n",
       "      <th>y_class</th>\n",
       "    </tr>\n",
       "  </thead>\n",
       "  <tbody>\n",
       "    <tr>\n",
       "      <th>0</th>\n",
       "      <td>0</td>\n",
       "    </tr>\n",
       "    <tr>\n",
       "      <th>1</th>\n",
       "      <td>0</td>\n",
       "    </tr>\n",
       "    <tr>\n",
       "      <th>2</th>\n",
       "      <td>0</td>\n",
       "    </tr>\n",
       "    <tr>\n",
       "      <th>3</th>\n",
       "      <td>1</td>\n",
       "    </tr>\n",
       "    <tr>\n",
       "      <th>4</th>\n",
       "      <td>1</td>\n",
       "    </tr>\n",
       "  </tbody>\n",
       "</table>\n",
       "</div>"
      ],
      "text/plain": [
       "   y_class\n",
       "0        0\n",
       "1        0\n",
       "2        0\n",
       "3        1\n",
       "4        1"
      ]
     },
     "execution_count": 18,
     "metadata": {},
     "output_type": "execute_result"
    }
   ],
   "source": [
    "print(y.unique())\n",
    "pd.DataFrame(y.head())"
   ]
  },
  {
   "cell_type": "code",
   "execution_count": 19,
   "metadata": {},
   "outputs": [
    {
     "data": {
      "text/plain": [
       "['models/any_day/TL_X_columns.joblib']"
      ]
     },
     "execution_count": 19,
     "metadata": {},
     "output_type": "execute_result"
    }
   ],
   "source": [
    "fp = os.path.join('models', 'any_day', 'TL_OHE_encoders.joblib')\n",
    "joblib.dump(ohe_encoder, fp)\n",
    "fp = os.path.join('models', 'any_day', 'TL_IX_map.joblib')\n",
    "joblib.dump(ix_map, fp)\n",
    "fp = os.path.join('models', 'any_day', 'TL_X_columns.joblib')\n",
    "joblib.dump(X.columns, fp)"
   ]
  },
  {
   "cell_type": "code",
   "execution_count": 20,
   "metadata": {},
   "outputs": [],
   "source": [
    "# Grid search results\n",
    "# fp = os.path.join('models', 'any_day', 'XGBOOST_RANDSEARCHCV_any_day_with_schoolbreak012.joblib')\n",
    "# search_results = joblib.load(fp)\n",
    "# print(search_results.best_params_)"
   ]
  },
  {
   "cell_type": "markdown",
   "metadata": {},
   "source": [
    "# For bins 012"
   ]
  },
  {
   "cell_type": "code",
   "execution_count": 22,
   "metadata": {},
   "outputs": [
    {
     "data": {
      "text/plain": [
       "['models/any_day/XGB_012.joblib']"
      ]
     },
     "execution_count": 22,
     "metadata": {},
     "output_type": "execute_result"
    }
   ],
   "source": [
    "# Train on entire dataset\n",
    "\n",
    "# n_estimators  = 500\n",
    "# max_depth     = 6\n",
    "# learning_rate = 0.05\n",
    "# gamma         = 0\n",
    "objective     = 'multi:softmax'\n",
    "\n",
    "# model012 = xgb.XGBClassifier(n_estimators=n_estimators, max_depth=max_depth,\n",
    "#                              learning_rate=learning_rate, use_label_encoder=False, gamma=gamma, num_class=3,\n",
    "#                              objective=objective, eval_metric='mlogloss')\n",
    "model012 = xgb.XGBClassifier(use_label_encoder=False, num_class=3,\n",
    "                             objective=objective, eval_metric='mlogloss')\n",
    "\n",
    "model012.fit(X, y, verbose=1)\n",
    "\n",
    "fp = os.path.join('models', 'any_day', 'XGB_012.joblib')\n",
    "joblib.dump(model012, fp)"
   ]
  },
  {
   "cell_type": "markdown",
   "metadata": {},
   "source": [
    "## For bins 234"
   ]
  },
  {
   "cell_type": "code",
   "execution_count": 27,
   "metadata": {},
   "outputs": [
    {
     "data": {
      "text/plain": [
       "0    173308\n",
       "1    153960\n",
       "2    148140\n",
       "3      3059\n",
       "4       723\n",
       "Name: y_class, dtype: int64"
      ]
     },
     "metadata": {},
     "output_type": "display_data"
    },
    {
     "name": "stdout",
     "output_type": "stream",
     "text": [
      "[(0.0, 9.0), (10.0, 16.0), (16.0, 55.0), (56.0, 75.0), (76.0, 100.0)]\n"
     ]
    },
    {
     "data": {
      "text/plain": [
       "2    148140\n",
       "3      3059\n",
       "4       723\n",
       "Name: y_class, dtype: int64"
      ]
     },
     "metadata": {},
     "output_type": "display_data"
    }
   ],
   "source": [
    "rf_df, ix_map, ohe_encoder, percentiles = triplevel_utils.prepare_df_for_training(tdf, cat_features, ord_features, target=TARGET)\n",
    "\n",
    "# Train 2 separate models for bins 0, 1, 2 and 2, 3, 4\n",
    "# Adjusting y_class to incorporate Dan's request\n",
    "# Use Transit's 3 bins as a base. For the highest capacity bin, carve out everything from 55 to 75 as a 4th bin, and 75+ as a 5th bin.\n",
    "\n",
    "rf_df, percentiles = triplevel_utils.adjust_bins(rf_df, TARGET=TARGET, percentiles=percentiles)\n",
    "display(rf_df['y_class'].value_counts())\n",
    "print(percentiles)\n",
    "drop_cols = ['route_id', 'route_direction_name', 'block_abbr', 'y_reg100', 'y_reg095', 'transit_date', 'is_holiday', 'route_id_direction', 'is_school_break']\n",
    "drop_cols = [col for col in drop_cols if col in rf_df.columns]\n",
    "rf_df = rf_df.drop(drop_cols, axis=1)\n",
    "rf_df = rf_df[rf_df['y_class'] >= 2]\n",
    "display(rf_df['y_class'].value_counts())\n",
    "\n",
    "y = rf_df.pop('y_class')\n",
    "y = y - 2\n",
    "X = rf_df"
   ]
  },
  {
   "cell_type": "code",
   "execution_count": 28,
   "metadata": {},
   "outputs": [
    {
     "name": "stdout",
     "output_type": "stream",
     "text": [
      "{'n_estimators': 500, 'max_depth': 2, 'learning_rate': 0.01, 'gamma': 0.05}\n"
     ]
    }
   ],
   "source": [
    "# Grid search results\n",
    "fp = os.path.join('models', 'any_day', 'XGBOOST_RANDSEARCHCV_any_day_with_schoolbreak234.joblib')\n",
    "search_results = joblib.load(fp)\n",
    "print(search_results.best_params_)"
   ]
  },
  {
   "cell_type": "code",
   "execution_count": 30,
   "metadata": {},
   "outputs": [
    {
     "data": {
      "text/plain": [
       "['models/any_day/XGB_234.joblib']"
      ]
     },
     "execution_count": 30,
     "metadata": {},
     "output_type": "execute_result"
    }
   ],
   "source": [
    "# Train on entire dataset\n",
    "# n_estimators  = search_results.best_params_['n_estimators']\n",
    "# max_depth     = search_results.best_params_['max_depth']\n",
    "# learning_rate = search_results.best_params_['learning_rate']\n",
    "# gamma         = search_results.best_params_['gamma']\n",
    "objective     = 'multi:softmax'\n",
    "\n",
    "# model234 = xgb.XGBClassifier(n_estimators=n_estimators, max_depth=max_depth,\n",
    "#                             learning_rate=learning_rate, use_label_encoder=False, gamma=gamma, num_class=3,\n",
    "#                             objective=objective, eval_metric='mlogloss')\n",
    "model234 = xgb.XGBClassifier(use_label_encoder=False, num_class=3,\n",
    "                             objective=objective, eval_metric='mlogloss')\n",
    "\n",
    "model234.fit(X, y, verbose=1)\n",
    "\n",
    "fp = os.path.join('models', 'any_day', 'XGB_234.joblib')\n",
    "joblib.dump(model234, fp)"
   ]
  },
  {
   "cell_type": "markdown",
   "metadata": {},
   "source": [
    "### Prediction for testing"
   ]
  },
  {
   "cell_type": "code",
   "execution_count": 89,
   "metadata": {},
   "outputs": [],
   "source": [
    "# load the APC data from a prepared file\n",
    "processed_triplevel = os.path.join('data', 'processed', 'triplevel_df.parquet')\n",
    "df = pd.read_parquet(processed_triplevel, engine='auto')\n",
    "df = df.dropna()\n",
    "df = df.drop(['time_window', 'load'], axis=1)\n",
    "df = df.reset_index(drop=True)\n",
    "df = df.query(\"transit_date > '2022-06-30'\")\n",
    "\n",
    "tdf = triplevel_utils.generate_new_features(df, time_window=WINDOW, past_trips=PAST_TRIPS, target=TARGET)"
   ]
  },
  {
   "cell_type": "code",
   "execution_count": 90,
   "metadata": {},
   "outputs": [],
   "source": [
    "# OHE for route_id_direction\n",
    "columns     = joblib.load('models/any_day/TL_X_columns.joblib')\n",
    "ix_map      = joblib.load('models/any_day/TL_IX_map.joblib')\n",
    "ohe_encoder = joblib.load('models/any_day/TL_OHE_encoders.joblib')\n",
    "\n",
    "transit_dates = tdf.pop('transit_date')\n",
    "trip_ids = tdf.pop('trip_id')\n",
    "y = tdf.pop('y_reg100')\n",
    "tdf = tdf\n",
    "\n",
    "tdf[ohe_encoder.get_feature_names_out()] = ohe_encoder.transform(tdf[cat_features]).toarray()\n",
    "tdf = tdf.drop(columns=cat_features)\n",
    "\n",
    "# label encode of categorical variables\n",
    "for col in ord_features:\n",
    "    tdf[f'{col}_ix'] = tdf[col].apply(lambda x: ix_map[col][x])\n",
    "tdf = tdf.drop(columns=ord_features)\n",
    "\n",
    "tdf = tdf[columns]\n",
    "tdf = tdf.dropna()\n",
    "tdf[columns[1:6]] = tdf[columns[1:6]].apply(pd.to_numeric)\n",
    "rf_df = deepcopy(tdf)"
   ]
  },
  {
   "cell_type": "code",
   "execution_count": 91,
   "metadata": {},
   "outputs": [],
   "source": [
    "drop_cols = ['route_id', 'route_direction_name', 'block_abbr', 'y_reg100', 'y_reg095', 'transit_date', 'is_holiday', 'route_id_direction', 'actual_headways', 'trip_id', 'arrival_time']\n",
    "drop_cols = [col for col in drop_cols if col in rf_df.columns]\n",
    "rf_df = rf_df.drop(drop_cols, axis=1)\n",
    "X = rf_df"
   ]
  },
  {
   "cell_type": "code",
   "execution_count": 92,
   "metadata": {},
   "outputs": [],
   "source": [
    "model012    = joblib.load('models/any_day/XGB_012.joblib')\n",
    "model234    = joblib.load('models/any_day/XGB_234.joblib')"
   ]
  },
  {
   "cell_type": "code",
   "execution_count": 93,
   "metadata": {},
   "outputs": [
    {
     "name": "stdout",
     "output_type": "stream",
     "text": [
      "[0 1 2] [25556 17780 28509]\n",
      "[0 1 2] [28475    26     8]\n"
     ]
    }
   ],
   "source": [
    "## Predict first stage 0-1-2\n",
    "predictions = model012.predict(X)\n",
    "\n",
    "unique, counts = np.unique(predictions, return_counts=True)\n",
    "print(unique, counts)\n",
    "\n",
    "X['y_pred'] = predictions\n",
    "## Isolate predictions with bin 2 for 2-3-4\n",
    "high_bin_df = X[X['y_pred'] == 2]\n",
    "\n",
    "high_bin_df = high_bin_df.drop(['y_pred'], axis=1)\n",
    "high_bin_index = high_bin_df.index\n",
    "high_bin_df = high_bin_df[columns]\n",
    "\n",
    "predictions = model234.predict(high_bin_df)\n",
    "\n",
    "unique, counts = np.unique(predictions, return_counts=True)\n",
    "print(unique, counts)\n",
    "\n",
    "predictions = predictions + 2\n",
    "X.loc[high_bin_index, 'y_pred'] = predictions\n",
    "X[cat_features] = ohe_encoder.inverse_transform(X.filter(regex='route_id_direction_|is_holiday_|dayofweek_|is_school_break_|time_window_'))\n",
    "\n",
    "X = X[X.columns.drop(list(X.filter(regex='route_id_direction_|is_holiday_|dayofweek_|is_school_break_|time_window_')))]\n",
    "\n",
    "for col in ord_features:\n",
    "    inv_map = {v: k for k, v in ix_map[col].items()}\n",
    "    X[col] = X[f'{col}_ix'].apply(lambda x: inv_map[x])\n",
    "X = X.drop(columns=[f\"{col}_ix\" for col in ord_features], axis=1)\n",
    "X['load'] = y\n",
    "X['transit_date'] = transit_dates\n",
    "X['trip_id'] = trip_ids\n",
    "\n",
    "labels = [(0, 9), (10, 16), (17, 55), (56, 75), (76, 100)]\n",
    "percentiles = [(-1, 9), (9, 16), (16, 55), (55, 75), (75, 100)]\n",
    "bins = pd.IntervalIndex.from_tuples(percentiles)\n",
    "mycut = pd.cut(X['load'].tolist(), bins=bins)\n",
    "X['y_class'] = mycut.codes\n",
    "\n",
    "rearrange = ['transit_date', 'trip_id', 'temperature', 'humidity', 'precipitation_intensity',\n",
    "            'scheduled_headway', 'route_id_direction', 'is_holiday', 'is_school_break',\n",
    "            'dayofweek', 'time_window', 'year', 'month', 'hour', 'day', 'load', 'y_class', 'y_pred']\n",
    "X = X[rearrange]"
   ]
  },
  {
   "cell_type": "code",
   "execution_count": 94,
   "metadata": {},
   "outputs": [],
   "source": [
    "fp = '/home/jptalusan/mta_stationing_problem/models/any_day/20220701_to_20220919_any_day_results2.pkl'\n",
    "X.to_pickle(fp)"
   ]
  },
  {
   "cell_type": "code",
   "execution_count": 117,
   "metadata": {},
   "outputs": [
    {
     "data": {
      "text/plain": [
       "(71845, 18)"
      ]
     },
     "execution_count": 117,
     "metadata": {},
     "output_type": "execute_result"
    }
   ],
   "source": [
    "X.shape"
   ]
  },
  {
   "cell_type": "markdown",
   "metadata": {},
   "source": [
    "## Analysis"
   ]
  },
  {
   "cell_type": "code",
   "execution_count": 116,
   "metadata": {},
   "outputs": [],
   "source": [
    "fp = '/home/jptalusan/mta_stationing_problem/models/any_day/20220701_to_20220919_any_day_results2.pkl'\n",
    "X = pd.read_pickle(fp)"
   ]
  },
  {
   "cell_type": "code",
   "execution_count": 96,
   "metadata": {},
   "outputs": [
    {
     "data": {
      "application/vnd.plotly.v1+json": {
       "config": {
        "plotlyServerURL": "https://plot.ly"
       },
       "data": [
        {
         "alignmentgroup": "True",
         "hovertemplate": "time_window=%{x}<br>y_class=%{y}<br>y_error=%{marker.color}<extra></extra>",
         "legendgroup": "",
         "marker": {
          "color": [
           0,
           1,
           2,
           3,
           0,
           1,
           2,
           0,
           1,
           2,
           0,
           0,
           1,
           2,
           0,
           1,
           2,
           0,
           1,
           2,
           0,
           1,
           2,
           0,
           1,
           2,
           0,
           1,
           2,
           0,
           1,
           2,
           0,
           1,
           2,
           0,
           1,
           2,
           0,
           1,
           2,
           0,
           1,
           2,
           3,
           0,
           1,
           2,
           0,
           1,
           2,
           0,
           1,
           2,
           0,
           1,
           2,
           0,
           1,
           2,
           0,
           1,
           2,
           0,
           1,
           2,
           0,
           1,
           2,
           0,
           1,
           2,
           0,
           1,
           2,
           0,
           1,
           2,
           0,
           1,
           2,
           0,
           1,
           2,
           0,
           1,
           2,
           3,
           0,
           1,
           2,
           3,
           0,
           1,
           2,
           0,
           1,
           2,
           0,
           1,
           2,
           0,
           1,
           2,
           0,
           1,
           2,
           0,
           1,
           2,
           0,
           1,
           2,
           0,
           1,
           2,
           4,
           0,
           1,
           2,
           0,
           1,
           2,
           0,
           1,
           2,
           0,
           1,
           2,
           3
          ],
          "coloraxis": "coloraxis",
          "pattern": {
           "shape": ""
          }
         },
         "name": "",
         "offsetgroup": "",
         "orientation": "v",
         "showlegend": false,
         "textposition": "auto",
         "type": "bar",
         "x": [
          0,
          0,
          0,
          0,
          1,
          1,
          1,
          2,
          2,
          2,
          9,
          10,
          10,
          10,
          11,
          11,
          11,
          12,
          12,
          12,
          13,
          13,
          13,
          14,
          14,
          14,
          15,
          15,
          15,
          16,
          16,
          16,
          17,
          17,
          17,
          18,
          18,
          18,
          19,
          19,
          19,
          20,
          20,
          20,
          20,
          21,
          21,
          21,
          22,
          22,
          22,
          23,
          23,
          23,
          24,
          24,
          24,
          25,
          25,
          25,
          26,
          26,
          26,
          27,
          27,
          27,
          28,
          28,
          28,
          29,
          29,
          29,
          30,
          30,
          30,
          31,
          31,
          31,
          32,
          32,
          32,
          33,
          33,
          33,
          34,
          34,
          34,
          34,
          35,
          35,
          35,
          35,
          36,
          36,
          36,
          37,
          37,
          37,
          38,
          38,
          38,
          39,
          39,
          39,
          40,
          40,
          40,
          41,
          41,
          41,
          42,
          42,
          42,
          43,
          43,
          43,
          43,
          44,
          44,
          44,
          45,
          45,
          45,
          46,
          46,
          46,
          47,
          47,
          47,
          47
         ],
         "xaxis": "x",
         "y": [
          139,
          100,
          85,
          3,
          83,
          58,
          48,
          7,
          3,
          2,
          17,
          89,
          26,
          10,
          245,
          202,
          8,
          591,
          371,
          36,
          1098,
          572,
          93,
          1338,
          675,
          116,
          1325,
          736,
          102,
          1246,
          845,
          115,
          1208,
          788,
          128,
          1217,
          759,
          113,
          1164,
          818,
          124,
          1153,
          782,
          145,
          1,
          1120,
          889,
          178,
          1110,
          854,
          163,
          1150,
          945,
          183,
          1101,
          869,
          156,
          1166,
          935,
          147,
          1166,
          903,
          155,
          1130,
          933,
          163,
          1142,
          838,
          163,
          1338,
          870,
          182,
          1424,
          864,
          222,
          1551,
          867,
          267,
          1466,
          867,
          237,
          1470,
          932,
          274,
          1358,
          922,
          287,
          1,
          1273,
          984,
          296,
          1,
          1110,
          721,
          248,
          996,
          713,
          189,
          853,
          610,
          214,
          890,
          602,
          223,
          764,
          520,
          195,
          807,
          591,
          220,
          700,
          515,
          218,
          724,
          531,
          241,
          1,
          564,
          419,
          231,
          604,
          399,
          267,
          412,
          283,
          224,
          376,
          212,
          161,
          1
         ],
         "yaxis": "y"
        }
       ],
       "layout": {
        "barmode": "relative",
        "coloraxis": {
         "colorbar": {
          "title": {
           "text": "y_error"
          }
         },
         "colorscale": [
          [
           0,
           "#0d0887"
          ],
          [
           0.1111111111111111,
           "#46039f"
          ],
          [
           0.2222222222222222,
           "#7201a8"
          ],
          [
           0.3333333333333333,
           "#9c179e"
          ],
          [
           0.4444444444444444,
           "#bd3786"
          ],
          [
           0.5555555555555556,
           "#d8576b"
          ],
          [
           0.6666666666666666,
           "#ed7953"
          ],
          [
           0.7777777777777778,
           "#fb9f3a"
          ],
          [
           0.8888888888888888,
           "#fdca26"
          ],
          [
           1,
           "#f0f921"
          ]
         ]
        },
        "legend": {
         "tracegroupgap": 0
        },
        "margin": {
         "t": 60
        },
        "template": {
         "data": {
          "bar": [
           {
            "error_x": {
             "color": "#2a3f5f"
            },
            "error_y": {
             "color": "#2a3f5f"
            },
            "marker": {
             "line": {
              "color": "#E5ECF6",
              "width": 0.5
             },
             "pattern": {
              "fillmode": "overlay",
              "size": 10,
              "solidity": 0.2
             }
            },
            "type": "bar"
           }
          ],
          "barpolar": [
           {
            "marker": {
             "line": {
              "color": "#E5ECF6",
              "width": 0.5
             },
             "pattern": {
              "fillmode": "overlay",
              "size": 10,
              "solidity": 0.2
             }
            },
            "type": "barpolar"
           }
          ],
          "carpet": [
           {
            "aaxis": {
             "endlinecolor": "#2a3f5f",
             "gridcolor": "white",
             "linecolor": "white",
             "minorgridcolor": "white",
             "startlinecolor": "#2a3f5f"
            },
            "baxis": {
             "endlinecolor": "#2a3f5f",
             "gridcolor": "white",
             "linecolor": "white",
             "minorgridcolor": "white",
             "startlinecolor": "#2a3f5f"
            },
            "type": "carpet"
           }
          ],
          "choropleth": [
           {
            "colorbar": {
             "outlinewidth": 0,
             "ticks": ""
            },
            "type": "choropleth"
           }
          ],
          "contour": [
           {
            "colorbar": {
             "outlinewidth": 0,
             "ticks": ""
            },
            "colorscale": [
             [
              0,
              "#0d0887"
             ],
             [
              0.1111111111111111,
              "#46039f"
             ],
             [
              0.2222222222222222,
              "#7201a8"
             ],
             [
              0.3333333333333333,
              "#9c179e"
             ],
             [
              0.4444444444444444,
              "#bd3786"
             ],
             [
              0.5555555555555556,
              "#d8576b"
             ],
             [
              0.6666666666666666,
              "#ed7953"
             ],
             [
              0.7777777777777778,
              "#fb9f3a"
             ],
             [
              0.8888888888888888,
              "#fdca26"
             ],
             [
              1,
              "#f0f921"
             ]
            ],
            "type": "contour"
           }
          ],
          "contourcarpet": [
           {
            "colorbar": {
             "outlinewidth": 0,
             "ticks": ""
            },
            "type": "contourcarpet"
           }
          ],
          "heatmap": [
           {
            "colorbar": {
             "outlinewidth": 0,
             "ticks": ""
            },
            "colorscale": [
             [
              0,
              "#0d0887"
             ],
             [
              0.1111111111111111,
              "#46039f"
             ],
             [
              0.2222222222222222,
              "#7201a8"
             ],
             [
              0.3333333333333333,
              "#9c179e"
             ],
             [
              0.4444444444444444,
              "#bd3786"
             ],
             [
              0.5555555555555556,
              "#d8576b"
             ],
             [
              0.6666666666666666,
              "#ed7953"
             ],
             [
              0.7777777777777778,
              "#fb9f3a"
             ],
             [
              0.8888888888888888,
              "#fdca26"
             ],
             [
              1,
              "#f0f921"
             ]
            ],
            "type": "heatmap"
           }
          ],
          "heatmapgl": [
           {
            "colorbar": {
             "outlinewidth": 0,
             "ticks": ""
            },
            "colorscale": [
             [
              0,
              "#0d0887"
             ],
             [
              0.1111111111111111,
              "#46039f"
             ],
             [
              0.2222222222222222,
              "#7201a8"
             ],
             [
              0.3333333333333333,
              "#9c179e"
             ],
             [
              0.4444444444444444,
              "#bd3786"
             ],
             [
              0.5555555555555556,
              "#d8576b"
             ],
             [
              0.6666666666666666,
              "#ed7953"
             ],
             [
              0.7777777777777778,
              "#fb9f3a"
             ],
             [
              0.8888888888888888,
              "#fdca26"
             ],
             [
              1,
              "#f0f921"
             ]
            ],
            "type": "heatmapgl"
           }
          ],
          "histogram": [
           {
            "marker": {
             "pattern": {
              "fillmode": "overlay",
              "size": 10,
              "solidity": 0.2
             }
            },
            "type": "histogram"
           }
          ],
          "histogram2d": [
           {
            "colorbar": {
             "outlinewidth": 0,
             "ticks": ""
            },
            "colorscale": [
             [
              0,
              "#0d0887"
             ],
             [
              0.1111111111111111,
              "#46039f"
             ],
             [
              0.2222222222222222,
              "#7201a8"
             ],
             [
              0.3333333333333333,
              "#9c179e"
             ],
             [
              0.4444444444444444,
              "#bd3786"
             ],
             [
              0.5555555555555556,
              "#d8576b"
             ],
             [
              0.6666666666666666,
              "#ed7953"
             ],
             [
              0.7777777777777778,
              "#fb9f3a"
             ],
             [
              0.8888888888888888,
              "#fdca26"
             ],
             [
              1,
              "#f0f921"
             ]
            ],
            "type": "histogram2d"
           }
          ],
          "histogram2dcontour": [
           {
            "colorbar": {
             "outlinewidth": 0,
             "ticks": ""
            },
            "colorscale": [
             [
              0,
              "#0d0887"
             ],
             [
              0.1111111111111111,
              "#46039f"
             ],
             [
              0.2222222222222222,
              "#7201a8"
             ],
             [
              0.3333333333333333,
              "#9c179e"
             ],
             [
              0.4444444444444444,
              "#bd3786"
             ],
             [
              0.5555555555555556,
              "#d8576b"
             ],
             [
              0.6666666666666666,
              "#ed7953"
             ],
             [
              0.7777777777777778,
              "#fb9f3a"
             ],
             [
              0.8888888888888888,
              "#fdca26"
             ],
             [
              1,
              "#f0f921"
             ]
            ],
            "type": "histogram2dcontour"
           }
          ],
          "mesh3d": [
           {
            "colorbar": {
             "outlinewidth": 0,
             "ticks": ""
            },
            "type": "mesh3d"
           }
          ],
          "parcoords": [
           {
            "line": {
             "colorbar": {
              "outlinewidth": 0,
              "ticks": ""
             }
            },
            "type": "parcoords"
           }
          ],
          "pie": [
           {
            "automargin": true,
            "type": "pie"
           }
          ],
          "scatter": [
           {
            "fillpattern": {
             "fillmode": "overlay",
             "size": 10,
             "solidity": 0.2
            },
            "type": "scatter"
           }
          ],
          "scatter3d": [
           {
            "line": {
             "colorbar": {
              "outlinewidth": 0,
              "ticks": ""
             }
            },
            "marker": {
             "colorbar": {
              "outlinewidth": 0,
              "ticks": ""
             }
            },
            "type": "scatter3d"
           }
          ],
          "scattercarpet": [
           {
            "marker": {
             "colorbar": {
              "outlinewidth": 0,
              "ticks": ""
             }
            },
            "type": "scattercarpet"
           }
          ],
          "scattergeo": [
           {
            "marker": {
             "colorbar": {
              "outlinewidth": 0,
              "ticks": ""
             }
            },
            "type": "scattergeo"
           }
          ],
          "scattergl": [
           {
            "marker": {
             "colorbar": {
              "outlinewidth": 0,
              "ticks": ""
             }
            },
            "type": "scattergl"
           }
          ],
          "scattermapbox": [
           {
            "marker": {
             "colorbar": {
              "outlinewidth": 0,
              "ticks": ""
             }
            },
            "type": "scattermapbox"
           }
          ],
          "scatterpolar": [
           {
            "marker": {
             "colorbar": {
              "outlinewidth": 0,
              "ticks": ""
             }
            },
            "type": "scatterpolar"
           }
          ],
          "scatterpolargl": [
           {
            "marker": {
             "colorbar": {
              "outlinewidth": 0,
              "ticks": ""
             }
            },
            "type": "scatterpolargl"
           }
          ],
          "scatterternary": [
           {
            "marker": {
             "colorbar": {
              "outlinewidth": 0,
              "ticks": ""
             }
            },
            "type": "scatterternary"
           }
          ],
          "surface": [
           {
            "colorbar": {
             "outlinewidth": 0,
             "ticks": ""
            },
            "colorscale": [
             [
              0,
              "#0d0887"
             ],
             [
              0.1111111111111111,
              "#46039f"
             ],
             [
              0.2222222222222222,
              "#7201a8"
             ],
             [
              0.3333333333333333,
              "#9c179e"
             ],
             [
              0.4444444444444444,
              "#bd3786"
             ],
             [
              0.5555555555555556,
              "#d8576b"
             ],
             [
              0.6666666666666666,
              "#ed7953"
             ],
             [
              0.7777777777777778,
              "#fb9f3a"
             ],
             [
              0.8888888888888888,
              "#fdca26"
             ],
             [
              1,
              "#f0f921"
             ]
            ],
            "type": "surface"
           }
          ],
          "table": [
           {
            "cells": {
             "fill": {
              "color": "#EBF0F8"
             },
             "line": {
              "color": "white"
             }
            },
            "header": {
             "fill": {
              "color": "#C8D4E3"
             },
             "line": {
              "color": "white"
             }
            },
            "type": "table"
           }
          ]
         },
         "layout": {
          "annotationdefaults": {
           "arrowcolor": "#2a3f5f",
           "arrowhead": 0,
           "arrowwidth": 1
          },
          "autotypenumbers": "strict",
          "coloraxis": {
           "colorbar": {
            "outlinewidth": 0,
            "ticks": ""
           }
          },
          "colorscale": {
           "diverging": [
            [
             0,
             "#8e0152"
            ],
            [
             0.1,
             "#c51b7d"
            ],
            [
             0.2,
             "#de77ae"
            ],
            [
             0.3,
             "#f1b6da"
            ],
            [
             0.4,
             "#fde0ef"
            ],
            [
             0.5,
             "#f7f7f7"
            ],
            [
             0.6,
             "#e6f5d0"
            ],
            [
             0.7,
             "#b8e186"
            ],
            [
             0.8,
             "#7fbc41"
            ],
            [
             0.9,
             "#4d9221"
            ],
            [
             1,
             "#276419"
            ]
           ],
           "sequential": [
            [
             0,
             "#0d0887"
            ],
            [
             0.1111111111111111,
             "#46039f"
            ],
            [
             0.2222222222222222,
             "#7201a8"
            ],
            [
             0.3333333333333333,
             "#9c179e"
            ],
            [
             0.4444444444444444,
             "#bd3786"
            ],
            [
             0.5555555555555556,
             "#d8576b"
            ],
            [
             0.6666666666666666,
             "#ed7953"
            ],
            [
             0.7777777777777778,
             "#fb9f3a"
            ],
            [
             0.8888888888888888,
             "#fdca26"
            ],
            [
             1,
             "#f0f921"
            ]
           ],
           "sequentialminus": [
            [
             0,
             "#0d0887"
            ],
            [
             0.1111111111111111,
             "#46039f"
            ],
            [
             0.2222222222222222,
             "#7201a8"
            ],
            [
             0.3333333333333333,
             "#9c179e"
            ],
            [
             0.4444444444444444,
             "#bd3786"
            ],
            [
             0.5555555555555556,
             "#d8576b"
            ],
            [
             0.6666666666666666,
             "#ed7953"
            ],
            [
             0.7777777777777778,
             "#fb9f3a"
            ],
            [
             0.8888888888888888,
             "#fdca26"
            ],
            [
             1,
             "#f0f921"
            ]
           ]
          },
          "colorway": [
           "#636efa",
           "#EF553B",
           "#00cc96",
           "#ab63fa",
           "#FFA15A",
           "#19d3f3",
           "#FF6692",
           "#B6E880",
           "#FF97FF",
           "#FECB52"
          ],
          "font": {
           "color": "#2a3f5f"
          },
          "geo": {
           "bgcolor": "white",
           "lakecolor": "white",
           "landcolor": "#E5ECF6",
           "showlakes": true,
           "showland": true,
           "subunitcolor": "white"
          },
          "hoverlabel": {
           "align": "left"
          },
          "hovermode": "closest",
          "mapbox": {
           "style": "light"
          },
          "paper_bgcolor": "white",
          "plot_bgcolor": "#E5ECF6",
          "polar": {
           "angularaxis": {
            "gridcolor": "white",
            "linecolor": "white",
            "ticks": ""
           },
           "bgcolor": "#E5ECF6",
           "radialaxis": {
            "gridcolor": "white",
            "linecolor": "white",
            "ticks": ""
           }
          },
          "scene": {
           "xaxis": {
            "backgroundcolor": "#E5ECF6",
            "gridcolor": "white",
            "gridwidth": 2,
            "linecolor": "white",
            "showbackground": true,
            "ticks": "",
            "zerolinecolor": "white"
           },
           "yaxis": {
            "backgroundcolor": "#E5ECF6",
            "gridcolor": "white",
            "gridwidth": 2,
            "linecolor": "white",
            "showbackground": true,
            "ticks": "",
            "zerolinecolor": "white"
           },
           "zaxis": {
            "backgroundcolor": "#E5ECF6",
            "gridcolor": "white",
            "gridwidth": 2,
            "linecolor": "white",
            "showbackground": true,
            "ticks": "",
            "zerolinecolor": "white"
           }
          },
          "shapedefaults": {
           "line": {
            "color": "#2a3f5f"
           }
          },
          "ternary": {
           "aaxis": {
            "gridcolor": "white",
            "linecolor": "white",
            "ticks": ""
           },
           "baxis": {
            "gridcolor": "white",
            "linecolor": "white",
            "ticks": ""
           },
           "bgcolor": "#E5ECF6",
           "caxis": {
            "gridcolor": "white",
            "linecolor": "white",
            "ticks": ""
           }
          },
          "title": {
           "x": 0.05
          },
          "xaxis": {
           "automargin": true,
           "gridcolor": "white",
           "linecolor": "white",
           "ticks": "",
           "title": {
            "standoff": 15
           },
           "zerolinecolor": "white",
           "zerolinewidth": 2
          },
          "yaxis": {
           "automargin": true,
           "gridcolor": "white",
           "linecolor": "white",
           "ticks": "",
           "title": {
            "standoff": 15
           },
           "zerolinecolor": "white",
           "zerolinewidth": 2
          }
         }
        },
        "xaxis": {
         "anchor": "y",
         "domain": [
          0,
          1
         ],
         "title": {
          "text": "time_window"
         }
        },
        "yaxis": {
         "anchor": "x",
         "domain": [
          0,
          1
         ],
         "title": {
          "text": "y_class"
         }
        }
       }
      },
      "text/html": [
       "<div>                            <div id=\"41adeacf-f0d8-4263-bc20-c5f8563342e2\" class=\"plotly-graph-div\" style=\"height:525px; width:100%;\"></div>            <script type=\"text/javascript\">                require([\"plotly\"], function(Plotly) {                    window.PLOTLYENV=window.PLOTLYENV || {};                                    if (document.getElementById(\"41adeacf-f0d8-4263-bc20-c5f8563342e2\")) {                    Plotly.newPlot(                        \"41adeacf-f0d8-4263-bc20-c5f8563342e2\",                        [{\"alignmentgroup\":\"True\",\"hovertemplate\":\"time_window=%{x}<br>y_class=%{y}<br>y_error=%{marker.color}<extra></extra>\",\"legendgroup\":\"\",\"marker\":{\"color\":[0,1,2,3,0,1,2,0,1,2,0,0,1,2,0,1,2,0,1,2,0,1,2,0,1,2,0,1,2,0,1,2,0,1,2,0,1,2,0,1,2,0,1,2,3,0,1,2,0,1,2,0,1,2,0,1,2,0,1,2,0,1,2,0,1,2,0,1,2,0,1,2,0,1,2,0,1,2,0,1,2,0,1,2,0,1,2,3,0,1,2,3,0,1,2,0,1,2,0,1,2,0,1,2,0,1,2,0,1,2,0,1,2,0,1,2,4,0,1,2,0,1,2,0,1,2,0,1,2,3],\"coloraxis\":\"coloraxis\",\"pattern\":{\"shape\":\"\"}},\"name\":\"\",\"offsetgroup\":\"\",\"orientation\":\"v\",\"showlegend\":false,\"textposition\":\"auto\",\"x\":[0,0,0,0,1,1,1,2,2,2,9,10,10,10,11,11,11,12,12,12,13,13,13,14,14,14,15,15,15,16,16,16,17,17,17,18,18,18,19,19,19,20,20,20,20,21,21,21,22,22,22,23,23,23,24,24,24,25,25,25,26,26,26,27,27,27,28,28,28,29,29,29,30,30,30,31,31,31,32,32,32,33,33,33,34,34,34,34,35,35,35,35,36,36,36,37,37,37,38,38,38,39,39,39,40,40,40,41,41,41,42,42,42,43,43,43,43,44,44,44,45,45,45,46,46,46,47,47,47,47],\"xaxis\":\"x\",\"y\":[139,100,85,3,83,58,48,7,3,2,17,89,26,10,245,202,8,591,371,36,1098,572,93,1338,675,116,1325,736,102,1246,845,115,1208,788,128,1217,759,113,1164,818,124,1153,782,145,1,1120,889,178,1110,854,163,1150,945,183,1101,869,156,1166,935,147,1166,903,155,1130,933,163,1142,838,163,1338,870,182,1424,864,222,1551,867,267,1466,867,237,1470,932,274,1358,922,287,1,1273,984,296,1,1110,721,248,996,713,189,853,610,214,890,602,223,764,520,195,807,591,220,700,515,218,724,531,241,1,564,419,231,604,399,267,412,283,224,376,212,161,1],\"yaxis\":\"y\",\"type\":\"bar\"}],                        {\"template\":{\"data\":{\"histogram2dcontour\":[{\"type\":\"histogram2dcontour\",\"colorbar\":{\"outlinewidth\":0,\"ticks\":\"\"},\"colorscale\":[[0.0,\"#0d0887\"],[0.1111111111111111,\"#46039f\"],[0.2222222222222222,\"#7201a8\"],[0.3333333333333333,\"#9c179e\"],[0.4444444444444444,\"#bd3786\"],[0.5555555555555556,\"#d8576b\"],[0.6666666666666666,\"#ed7953\"],[0.7777777777777778,\"#fb9f3a\"],[0.8888888888888888,\"#fdca26\"],[1.0,\"#f0f921\"]]}],\"choropleth\":[{\"type\":\"choropleth\",\"colorbar\":{\"outlinewidth\":0,\"ticks\":\"\"}}],\"histogram2d\":[{\"type\":\"histogram2d\",\"colorbar\":{\"outlinewidth\":0,\"ticks\":\"\"},\"colorscale\":[[0.0,\"#0d0887\"],[0.1111111111111111,\"#46039f\"],[0.2222222222222222,\"#7201a8\"],[0.3333333333333333,\"#9c179e\"],[0.4444444444444444,\"#bd3786\"],[0.5555555555555556,\"#d8576b\"],[0.6666666666666666,\"#ed7953\"],[0.7777777777777778,\"#fb9f3a\"],[0.8888888888888888,\"#fdca26\"],[1.0,\"#f0f921\"]]}],\"heatmap\":[{\"type\":\"heatmap\",\"colorbar\":{\"outlinewidth\":0,\"ticks\":\"\"},\"colorscale\":[[0.0,\"#0d0887\"],[0.1111111111111111,\"#46039f\"],[0.2222222222222222,\"#7201a8\"],[0.3333333333333333,\"#9c179e\"],[0.4444444444444444,\"#bd3786\"],[0.5555555555555556,\"#d8576b\"],[0.6666666666666666,\"#ed7953\"],[0.7777777777777778,\"#fb9f3a\"],[0.8888888888888888,\"#fdca26\"],[1.0,\"#f0f921\"]]}],\"heatmapgl\":[{\"type\":\"heatmapgl\",\"colorbar\":{\"outlinewidth\":0,\"ticks\":\"\"},\"colorscale\":[[0.0,\"#0d0887\"],[0.1111111111111111,\"#46039f\"],[0.2222222222222222,\"#7201a8\"],[0.3333333333333333,\"#9c179e\"],[0.4444444444444444,\"#bd3786\"],[0.5555555555555556,\"#d8576b\"],[0.6666666666666666,\"#ed7953\"],[0.7777777777777778,\"#fb9f3a\"],[0.8888888888888888,\"#fdca26\"],[1.0,\"#f0f921\"]]}],\"contourcarpet\":[{\"type\":\"contourcarpet\",\"colorbar\":{\"outlinewidth\":0,\"ticks\":\"\"}}],\"contour\":[{\"type\":\"contour\",\"colorbar\":{\"outlinewidth\":0,\"ticks\":\"\"},\"colorscale\":[[0.0,\"#0d0887\"],[0.1111111111111111,\"#46039f\"],[0.2222222222222222,\"#7201a8\"],[0.3333333333333333,\"#9c179e\"],[0.4444444444444444,\"#bd3786\"],[0.5555555555555556,\"#d8576b\"],[0.6666666666666666,\"#ed7953\"],[0.7777777777777778,\"#fb9f3a\"],[0.8888888888888888,\"#fdca26\"],[1.0,\"#f0f921\"]]}],\"surface\":[{\"type\":\"surface\",\"colorbar\":{\"outlinewidth\":0,\"ticks\":\"\"},\"colorscale\":[[0.0,\"#0d0887\"],[0.1111111111111111,\"#46039f\"],[0.2222222222222222,\"#7201a8\"],[0.3333333333333333,\"#9c179e\"],[0.4444444444444444,\"#bd3786\"],[0.5555555555555556,\"#d8576b\"],[0.6666666666666666,\"#ed7953\"],[0.7777777777777778,\"#fb9f3a\"],[0.8888888888888888,\"#fdca26\"],[1.0,\"#f0f921\"]]}],\"mesh3d\":[{\"type\":\"mesh3d\",\"colorbar\":{\"outlinewidth\":0,\"ticks\":\"\"}}],\"scatter\":[{\"fillpattern\":{\"fillmode\":\"overlay\",\"size\":10,\"solidity\":0.2},\"type\":\"scatter\"}],\"parcoords\":[{\"type\":\"parcoords\",\"line\":{\"colorbar\":{\"outlinewidth\":0,\"ticks\":\"\"}}}],\"scatterpolargl\":[{\"type\":\"scatterpolargl\",\"marker\":{\"colorbar\":{\"outlinewidth\":0,\"ticks\":\"\"}}}],\"bar\":[{\"error_x\":{\"color\":\"#2a3f5f\"},\"error_y\":{\"color\":\"#2a3f5f\"},\"marker\":{\"line\":{\"color\":\"#E5ECF6\",\"width\":0.5},\"pattern\":{\"fillmode\":\"overlay\",\"size\":10,\"solidity\":0.2}},\"type\":\"bar\"}],\"scattergeo\":[{\"type\":\"scattergeo\",\"marker\":{\"colorbar\":{\"outlinewidth\":0,\"ticks\":\"\"}}}],\"scatterpolar\":[{\"type\":\"scatterpolar\",\"marker\":{\"colorbar\":{\"outlinewidth\":0,\"ticks\":\"\"}}}],\"histogram\":[{\"marker\":{\"pattern\":{\"fillmode\":\"overlay\",\"size\":10,\"solidity\":0.2}},\"type\":\"histogram\"}],\"scattergl\":[{\"type\":\"scattergl\",\"marker\":{\"colorbar\":{\"outlinewidth\":0,\"ticks\":\"\"}}}],\"scatter3d\":[{\"type\":\"scatter3d\",\"line\":{\"colorbar\":{\"outlinewidth\":0,\"ticks\":\"\"}},\"marker\":{\"colorbar\":{\"outlinewidth\":0,\"ticks\":\"\"}}}],\"scattermapbox\":[{\"type\":\"scattermapbox\",\"marker\":{\"colorbar\":{\"outlinewidth\":0,\"ticks\":\"\"}}}],\"scatterternary\":[{\"type\":\"scatterternary\",\"marker\":{\"colorbar\":{\"outlinewidth\":0,\"ticks\":\"\"}}}],\"scattercarpet\":[{\"type\":\"scattercarpet\",\"marker\":{\"colorbar\":{\"outlinewidth\":0,\"ticks\":\"\"}}}],\"carpet\":[{\"aaxis\":{\"endlinecolor\":\"#2a3f5f\",\"gridcolor\":\"white\",\"linecolor\":\"white\",\"minorgridcolor\":\"white\",\"startlinecolor\":\"#2a3f5f\"},\"baxis\":{\"endlinecolor\":\"#2a3f5f\",\"gridcolor\":\"white\",\"linecolor\":\"white\",\"minorgridcolor\":\"white\",\"startlinecolor\":\"#2a3f5f\"},\"type\":\"carpet\"}],\"table\":[{\"cells\":{\"fill\":{\"color\":\"#EBF0F8\"},\"line\":{\"color\":\"white\"}},\"header\":{\"fill\":{\"color\":\"#C8D4E3\"},\"line\":{\"color\":\"white\"}},\"type\":\"table\"}],\"barpolar\":[{\"marker\":{\"line\":{\"color\":\"#E5ECF6\",\"width\":0.5},\"pattern\":{\"fillmode\":\"overlay\",\"size\":10,\"solidity\":0.2}},\"type\":\"barpolar\"}],\"pie\":[{\"automargin\":true,\"type\":\"pie\"}]},\"layout\":{\"autotypenumbers\":\"strict\",\"colorway\":[\"#636efa\",\"#EF553B\",\"#00cc96\",\"#ab63fa\",\"#FFA15A\",\"#19d3f3\",\"#FF6692\",\"#B6E880\",\"#FF97FF\",\"#FECB52\"],\"font\":{\"color\":\"#2a3f5f\"},\"hovermode\":\"closest\",\"hoverlabel\":{\"align\":\"left\"},\"paper_bgcolor\":\"white\",\"plot_bgcolor\":\"#E5ECF6\",\"polar\":{\"bgcolor\":\"#E5ECF6\",\"angularaxis\":{\"gridcolor\":\"white\",\"linecolor\":\"white\",\"ticks\":\"\"},\"radialaxis\":{\"gridcolor\":\"white\",\"linecolor\":\"white\",\"ticks\":\"\"}},\"ternary\":{\"bgcolor\":\"#E5ECF6\",\"aaxis\":{\"gridcolor\":\"white\",\"linecolor\":\"white\",\"ticks\":\"\"},\"baxis\":{\"gridcolor\":\"white\",\"linecolor\":\"white\",\"ticks\":\"\"},\"caxis\":{\"gridcolor\":\"white\",\"linecolor\":\"white\",\"ticks\":\"\"}},\"coloraxis\":{\"colorbar\":{\"outlinewidth\":0,\"ticks\":\"\"}},\"colorscale\":{\"sequential\":[[0.0,\"#0d0887\"],[0.1111111111111111,\"#46039f\"],[0.2222222222222222,\"#7201a8\"],[0.3333333333333333,\"#9c179e\"],[0.4444444444444444,\"#bd3786\"],[0.5555555555555556,\"#d8576b\"],[0.6666666666666666,\"#ed7953\"],[0.7777777777777778,\"#fb9f3a\"],[0.8888888888888888,\"#fdca26\"],[1.0,\"#f0f921\"]],\"sequentialminus\":[[0.0,\"#0d0887\"],[0.1111111111111111,\"#46039f\"],[0.2222222222222222,\"#7201a8\"],[0.3333333333333333,\"#9c179e\"],[0.4444444444444444,\"#bd3786\"],[0.5555555555555556,\"#d8576b\"],[0.6666666666666666,\"#ed7953\"],[0.7777777777777778,\"#fb9f3a\"],[0.8888888888888888,\"#fdca26\"],[1.0,\"#f0f921\"]],\"diverging\":[[0,\"#8e0152\"],[0.1,\"#c51b7d\"],[0.2,\"#de77ae\"],[0.3,\"#f1b6da\"],[0.4,\"#fde0ef\"],[0.5,\"#f7f7f7\"],[0.6,\"#e6f5d0\"],[0.7,\"#b8e186\"],[0.8,\"#7fbc41\"],[0.9,\"#4d9221\"],[1,\"#276419\"]]},\"xaxis\":{\"gridcolor\":\"white\",\"linecolor\":\"white\",\"ticks\":\"\",\"title\":{\"standoff\":15},\"zerolinecolor\":\"white\",\"automargin\":true,\"zerolinewidth\":2},\"yaxis\":{\"gridcolor\":\"white\",\"linecolor\":\"white\",\"ticks\":\"\",\"title\":{\"standoff\":15},\"zerolinecolor\":\"white\",\"automargin\":true,\"zerolinewidth\":2},\"scene\":{\"xaxis\":{\"backgroundcolor\":\"#E5ECF6\",\"gridcolor\":\"white\",\"linecolor\":\"white\",\"showbackground\":true,\"ticks\":\"\",\"zerolinecolor\":\"white\",\"gridwidth\":2},\"yaxis\":{\"backgroundcolor\":\"#E5ECF6\",\"gridcolor\":\"white\",\"linecolor\":\"white\",\"showbackground\":true,\"ticks\":\"\",\"zerolinecolor\":\"white\",\"gridwidth\":2},\"zaxis\":{\"backgroundcolor\":\"#E5ECF6\",\"gridcolor\":\"white\",\"linecolor\":\"white\",\"showbackground\":true,\"ticks\":\"\",\"zerolinecolor\":\"white\",\"gridwidth\":2}},\"shapedefaults\":{\"line\":{\"color\":\"#2a3f5f\"}},\"annotationdefaults\":{\"arrowcolor\":\"#2a3f5f\",\"arrowhead\":0,\"arrowwidth\":1},\"geo\":{\"bgcolor\":\"white\",\"landcolor\":\"#E5ECF6\",\"subunitcolor\":\"white\",\"showland\":true,\"showlakes\":true,\"lakecolor\":\"white\"},\"title\":{\"x\":0.05},\"mapbox\":{\"style\":\"light\"}}},\"xaxis\":{\"anchor\":\"y\",\"domain\":[0.0,1.0],\"title\":{\"text\":\"time_window\"}},\"yaxis\":{\"anchor\":\"x\",\"domain\":[0.0,1.0],\"title\":{\"text\":\"y_class\"}},\"coloraxis\":{\"colorbar\":{\"title\":{\"text\":\"y_error\"}},\"colorscale\":[[0.0,\"#0d0887\"],[0.1111111111111111,\"#46039f\"],[0.2222222222222222,\"#7201a8\"],[0.3333333333333333,\"#9c179e\"],[0.4444444444444444,\"#bd3786\"],[0.5555555555555556,\"#d8576b\"],[0.6666666666666666,\"#ed7953\"],[0.7777777777777778,\"#fb9f3a\"],[0.8888888888888888,\"#fdca26\"],[1.0,\"#f0f921\"]]},\"legend\":{\"tracegroupgap\":0},\"margin\":{\"t\":60},\"barmode\":\"relative\"},                        {\"responsive\": true}                    ).then(function(){\n",
       "                            \n",
       "var gd = document.getElementById('41adeacf-f0d8-4263-bc20-c5f8563342e2');\n",
       "var x = new MutationObserver(function (mutations, observer) {{\n",
       "        var display = window.getComputedStyle(gd).display;\n",
       "        if (!display || display === 'none') {{\n",
       "            console.log([gd, 'removed!']);\n",
       "            Plotly.purge(gd);\n",
       "            observer.disconnect();\n",
       "        }}\n",
       "}});\n",
       "\n",
       "// Listen for the removal of the full notebook cells\n",
       "var notebookContainer = gd.closest('#notebook-container');\n",
       "if (notebookContainer) {{\n",
       "    x.observe(notebookContainer, {childList: true});\n",
       "}}\n",
       "\n",
       "// Listen for the clearing of the current output cell\n",
       "var outputEl = gd.closest('.output');\n",
       "if (outputEl) {{\n",
       "    x.observe(outputEl, {childList: true});\n",
       "}}\n",
       "\n",
       "                        })                };                });            </script>        </div>"
      ]
     },
     "metadata": {},
     "output_type": "display_data"
    }
   ],
   "source": [
    "X['y_error'] = abs(X['y_class'] - X['y_pred'])\n",
    "X = X.groupby(['time_window', 'y_error']).count().reset_index()\n",
    "\n",
    "# X = X.groupby(['y_error', 'time_window']).agg({'transit_date':'first', 'trip_id':'first', 'route_id_direction':'first', 'year':'count'}).rename({'year':'count'}, axis=1).reset_index()\n",
    "# X = pd.pivot_table(data=X, index=['time_window'], columns=['y_error'], values='count').fillna(0)\n",
    "# X = X.reindex(list(range(47)),fill_value=np.nan)\n",
    "\n",
    "fig = px.bar(X, x=\"time_window\", y=\"y_class\", color=\"y_error\")\n",
    "fig.show()"
   ]
  },
  {
   "cell_type": "markdown",
   "metadata": {},
   "source": [
    "### Comparing baseline"
   ]
  },
  {
   "cell_type": "code",
   "execution_count": 122,
   "metadata": {},
   "outputs": [],
   "source": [
    "# load the APC data from a prepared file\n",
    "processed_triplevel = os.path.join('data', 'processed', 'triplevel_df.parquet')\n",
    "df = pd.read_parquet(processed_triplevel, engine='auto')\n",
    "df = df.dropna()\n",
    "df = df.drop(['time_window', 'load'], axis=1)\n",
    "df = df.reset_index(drop=True)\n",
    "\n",
    "labels = [(0, 9), (10, 16), (17, 55), (56, 75), (76, 100)]\n",
    "percentiles = [(-1, 9), (9, 16), (16, 55), (55, 75), (75, 100)]\n",
    "bins = pd.IntervalIndex.from_tuples(percentiles)\n",
    "mycut = pd.cut(df[TARGET].tolist(), bins=bins)\n",
    "df['y_class'] = mycut.codes\n",
    "\n",
    "df['minute'] = df['arrival_time'].dt.minute\n",
    "df['minuteByWindow'] = df['minute'] // WINDOW\n",
    "df['temp'] = df['minuteByWindow'] + (df['hour'] * 60 / WINDOW)\n",
    "df['time_window'] = np.floor(df['temp']).astype('int')\n",
    "df = df.drop(columns=['minute', 'minuteByWindow', 'temp'], axis=1)\n",
    "\n",
    "test_df = tdf.query(\"transit_date > '2022-06-30'\")"
   ]
  },
  {
   "cell_type": "code",
   "execution_count": 123,
   "metadata": {},
   "outputs": [
    {
     "data": {
      "application/vnd.jupyter.widget-view+json": {
       "model_id": "c6b3d385ea3e456381722ea26e5fb0b9",
       "version_major": 2,
       "version_minor": 0
      },
      "text/plain": [
       "Pandas Apply:   0%|          | 0/71845 [00:00<?, ?it/s]"
      ]
     },
     "metadata": {},
     "output_type": "display_data"
    },
    {
     "data": {
      "application/vnd.jupyter.widget-view+json": {
       "model_id": "69a5b4aed54248dfb6f5e920efe5ffea",
       "version_major": 2,
       "version_minor": 0
      },
      "text/plain": [
       "Pandas Apply:   0%|          | 0/71845 [00:00<?, ?it/s]"
      ]
     },
     "metadata": {},
     "output_type": "display_data"
    }
   ],
   "source": [
    "def get_statistical_prediction(row, percentile, lookback_duration, TARGET='y_reg100'):\n",
    "    trip_id = row.trip_id\n",
    "    transit_date = row.transit_date\n",
    "    route_id_direction = row.route_id_direction\n",
    "    lookback_date = transit_date - pd.Timedelta(lookback_duration)\n",
    "    tdf = df[(df['transit_date'] >= lookback_date) & \\\n",
    "             (df['transit_date'] < transit_date)]\n",
    "    tdf = tdf[(tdf['trip_id'] == trip_id) & \\\n",
    "              (tdf['route_id_direction'] == route_id_direction)]\n",
    "    if tdf.empty:\n",
    "        return -1\n",
    "    return np.percentile(tdf[TARGET].to_numpy(), percentile)\n",
    "\n",
    "# lookback_distances = ['4W', '2W', '1W']\n",
    "lookback_distances = ['2W', '1W']\n",
    "percentile = 1.0\n",
    "results_df_arr = []\n",
    "baseline_Y = test_df.pop('y_class')\n",
    "baseline_X = test_df\n",
    "for lookback_distance in lookback_distances:\n",
    "    baseline_X['y_pred'] = baseline_X.swifter.apply(lambda x: get_statistical_prediction(x, percentile, lookback_distance, TARGET=TARGET), axis=1)\n",
    "    baseline_X['y_true'] = baseline_Y.to_numpy()\n",
    "    baseline_X.to_pickle(f'{lookback_distance}_past_baseline.pkl')"
   ]
  },
  {
   "cell_type": "code",
   "execution_count": 154,
   "metadata": {},
   "outputs": [],
   "source": [
    "fp = '/home/jptalusan/mta_stationing_problem/models/any_day/20220701_to_20220919_any_day_results2.pkl'\n",
    "X = pd.read_pickle(fp)\n",
    "X['y_error'] = abs(X['y_class'] - X['y_pred'])\n",
    "X = X.groupby(['y_error', 'time_window']).agg({'transit_date':'first', 'trip_id':'first', 'route_id_direction':'first', 'year':'count'}).rename({'year':'count'}, axis=1).reset_index()\n",
    "X = pd.pivot_table(data=X, index=['time_window'], columns=['y_error'], values='count').fillna(0)\n",
    "X = X.reindex(list(range(47)),fill_value=np.nan)\n",
    "X = X.groupby(X.index // 2).sum()\n",
    "X['model'] = 'any day'\n",
    "\n",
    "baseline = pd.read_pickle('4W_past_baseline.pkl')\n",
    "\n",
    "labels = [(0, 9), (10, 16), (17, 55), (56, 75), (76, 100)]\n",
    "percentiles = [(-1, 9), (9, 16), (16, 55), (55, 75), (75, 100)]\n",
    "bins = pd.IntervalIndex.from_tuples(percentiles)\n",
    "mycut = pd.cut(baseline['y_pred'].tolist(), bins=bins)\n",
    "baseline['y_pred'] = mycut.codes\n",
    "\n",
    "baseline['y_error'] = abs(baseline['y_true'] - baseline['y_pred'])\n",
    "baseline = baseline.groupby(['y_error', 'time_window']).agg({'transit_date':'first', 'trip_id':'first', 'route_id_direction':'first', 'year':'count'}).rename({'year':'count'}, axis=1).reset_index()\n",
    "baseline = pd.pivot_table(data=baseline, index=['time_window'], columns=['y_error'], values='count').fillna(0)\n",
    "baseline = baseline.reindex(list(range(47)),fill_value=np.nan)\n",
    "baseline = baseline.groupby(baseline.index // 2).sum()\n",
    "baseline['model'] = 'baseline'\n",
    "\n",
    "res_df = pd.concat([baseline, X]).sort_index()"
   ]
  },
  {
   "cell_type": "code",
   "execution_count": 159,
   "metadata": {},
   "outputs": [
    {
     "data": {
      "text/html": [
       "<div>\n",
       "<style scoped>\n",
       "    .dataframe tbody tr th:only-of-type {\n",
       "        vertical-align: middle;\n",
       "    }\n",
       "\n",
       "    .dataframe tbody tr th {\n",
       "        vertical-align: top;\n",
       "    }\n",
       "\n",
       "    .dataframe thead th {\n",
       "        text-align: right;\n",
       "    }\n",
       "</style>\n",
       "<table border=\"1\" class=\"dataframe\">\n",
       "  <thead>\n",
       "    <tr style=\"text-align: right;\">\n",
       "      <th>y_error</th>\n",
       "      <th>0</th>\n",
       "      <th>1</th>\n",
       "      <th>2</th>\n",
       "      <th>3</th>\n",
       "      <th>4</th>\n",
       "      <th>5</th>\n",
       "      <th>model</th>\n",
       "    </tr>\n",
       "    <tr>\n",
       "      <th>time_window</th>\n",
       "      <th></th>\n",
       "      <th></th>\n",
       "      <th></th>\n",
       "      <th></th>\n",
       "      <th></th>\n",
       "      <th></th>\n",
       "      <th></th>\n",
       "    </tr>\n",
       "  </thead>\n",
       "  <tbody>\n",
       "    <tr>\n",
       "      <th>0</th>\n",
       "      <td>205.0</td>\n",
       "      <td>174.0</td>\n",
       "      <td>129.0</td>\n",
       "      <td>7.0</td>\n",
       "      <td>0.0</td>\n",
       "      <td>1.0</td>\n",
       "      <td>baseline</td>\n",
       "    </tr>\n",
       "    <tr>\n",
       "      <th>0</th>\n",
       "      <td>222.0</td>\n",
       "      <td>158.0</td>\n",
       "      <td>133.0</td>\n",
       "      <td>3.0</td>\n",
       "      <td>0.0</td>\n",
       "      <td>NaN</td>\n",
       "      <td>any day</td>\n",
       "    </tr>\n",
       "    <tr>\n",
       "      <th>1</th>\n",
       "      <td>7.0</td>\n",
       "      <td>3.0</td>\n",
       "      <td>2.0</td>\n",
       "      <td>0.0</td>\n",
       "      <td>0.0</td>\n",
       "      <td>NaN</td>\n",
       "      <td>any day</td>\n",
       "    </tr>\n",
       "    <tr>\n",
       "      <th>1</th>\n",
       "      <td>8.0</td>\n",
       "      <td>2.0</td>\n",
       "      <td>1.0</td>\n",
       "      <td>0.0</td>\n",
       "      <td>0.0</td>\n",
       "      <td>1.0</td>\n",
       "      <td>baseline</td>\n",
       "    </tr>\n",
       "    <tr>\n",
       "      <th>2</th>\n",
       "      <td>0.0</td>\n",
       "      <td>0.0</td>\n",
       "      <td>0.0</td>\n",
       "      <td>0.0</td>\n",
       "      <td>0.0</td>\n",
       "      <td>0.0</td>\n",
       "      <td>baseline</td>\n",
       "    </tr>\n",
       "    <tr>\n",
       "      <th>2</th>\n",
       "      <td>0.0</td>\n",
       "      <td>0.0</td>\n",
       "      <td>0.0</td>\n",
       "      <td>0.0</td>\n",
       "      <td>0.0</td>\n",
       "      <td>NaN</td>\n",
       "      <td>any day</td>\n",
       "    </tr>\n",
       "    <tr>\n",
       "      <th>3</th>\n",
       "      <td>0.0</td>\n",
       "      <td>0.0</td>\n",
       "      <td>0.0</td>\n",
       "      <td>0.0</td>\n",
       "      <td>0.0</td>\n",
       "      <td>0.0</td>\n",
       "      <td>baseline</td>\n",
       "    </tr>\n",
       "    <tr>\n",
       "      <th>3</th>\n",
       "      <td>0.0</td>\n",
       "      <td>0.0</td>\n",
       "      <td>0.0</td>\n",
       "      <td>0.0</td>\n",
       "      <td>0.0</td>\n",
       "      <td>NaN</td>\n",
       "      <td>any day</td>\n",
       "    </tr>\n",
       "    <tr>\n",
       "      <th>4</th>\n",
       "      <td>17.0</td>\n",
       "      <td>0.0</td>\n",
       "      <td>0.0</td>\n",
       "      <td>0.0</td>\n",
       "      <td>0.0</td>\n",
       "      <td>0.0</td>\n",
       "      <td>baseline</td>\n",
       "    </tr>\n",
       "    <tr>\n",
       "      <th>4</th>\n",
       "      <td>17.0</td>\n",
       "      <td>0.0</td>\n",
       "      <td>0.0</td>\n",
       "      <td>0.0</td>\n",
       "      <td>0.0</td>\n",
       "      <td>NaN</td>\n",
       "      <td>any day</td>\n",
       "    </tr>\n",
       "    <tr>\n",
       "      <th>5</th>\n",
       "      <td>349.0</td>\n",
       "      <td>197.0</td>\n",
       "      <td>25.0</td>\n",
       "      <td>9.0</td>\n",
       "      <td>0.0</td>\n",
       "      <td>0.0</td>\n",
       "      <td>baseline</td>\n",
       "    </tr>\n",
       "    <tr>\n",
       "      <th>5</th>\n",
       "      <td>334.0</td>\n",
       "      <td>228.0</td>\n",
       "      <td>18.0</td>\n",
       "      <td>0.0</td>\n",
       "      <td>0.0</td>\n",
       "      <td>NaN</td>\n",
       "      <td>any day</td>\n",
       "    </tr>\n",
       "    <tr>\n",
       "      <th>6</th>\n",
       "      <td>1564.0</td>\n",
       "      <td>922.0</td>\n",
       "      <td>249.0</td>\n",
       "      <td>25.0</td>\n",
       "      <td>1.0</td>\n",
       "      <td>0.0</td>\n",
       "      <td>baseline</td>\n",
       "    </tr>\n",
       "    <tr>\n",
       "      <th>6</th>\n",
       "      <td>1689.0</td>\n",
       "      <td>943.0</td>\n",
       "      <td>129.0</td>\n",
       "      <td>0.0</td>\n",
       "      <td>0.0</td>\n",
       "      <td>NaN</td>\n",
       "      <td>any day</td>\n",
       "    </tr>\n",
       "    <tr>\n",
       "      <th>7</th>\n",
       "      <td>2476.0</td>\n",
       "      <td>1441.0</td>\n",
       "      <td>358.0</td>\n",
       "      <td>15.0</td>\n",
       "      <td>1.0</td>\n",
       "      <td>1.0</td>\n",
       "      <td>baseline</td>\n",
       "    </tr>\n",
       "    <tr>\n",
       "      <th>7</th>\n",
       "      <td>2663.0</td>\n",
       "      <td>1411.0</td>\n",
       "      <td>218.0</td>\n",
       "      <td>0.0</td>\n",
       "      <td>0.0</td>\n",
       "      <td>NaN</td>\n",
       "      <td>any day</td>\n",
       "    </tr>\n",
       "    <tr>\n",
       "      <th>8</th>\n",
       "      <td>2454.0</td>\n",
       "      <td>1633.0</td>\n",
       "      <td>243.0</td>\n",
       "      <td>0.0</td>\n",
       "      <td>0.0</td>\n",
       "      <td>NaN</td>\n",
       "      <td>any day</td>\n",
       "    </tr>\n",
       "    <tr>\n",
       "      <th>8</th>\n",
       "      <td>2342.0</td>\n",
       "      <td>1567.0</td>\n",
       "      <td>407.0</td>\n",
       "      <td>13.0</td>\n",
       "      <td>0.0</td>\n",
       "      <td>1.0</td>\n",
       "      <td>baseline</td>\n",
       "    </tr>\n",
       "    <tr>\n",
       "      <th>9</th>\n",
       "      <td>2381.0</td>\n",
       "      <td>1577.0</td>\n",
       "      <td>237.0</td>\n",
       "      <td>0.0</td>\n",
       "      <td>0.0</td>\n",
       "      <td>NaN</td>\n",
       "      <td>any day</td>\n",
       "    </tr>\n",
       "    <tr>\n",
       "      <th>9</th>\n",
       "      <td>2107.0</td>\n",
       "      <td>1631.0</td>\n",
       "      <td>439.0</td>\n",
       "      <td>18.0</td>\n",
       "      <td>0.0</td>\n",
       "      <td>0.0</td>\n",
       "      <td>baseline</td>\n",
       "    </tr>\n",
       "    <tr>\n",
       "      <th>10</th>\n",
       "      <td>2273.0</td>\n",
       "      <td>1671.0</td>\n",
       "      <td>323.0</td>\n",
       "      <td>1.0</td>\n",
       "      <td>0.0</td>\n",
       "      <td>NaN</td>\n",
       "      <td>any day</td>\n",
       "    </tr>\n",
       "    <tr>\n",
       "      <th>10</th>\n",
       "      <td>2000.0</td>\n",
       "      <td>1716.0</td>\n",
       "      <td>535.0</td>\n",
       "      <td>16.0</td>\n",
       "      <td>1.0</td>\n",
       "      <td>0.0</td>\n",
       "      <td>baseline</td>\n",
       "    </tr>\n",
       "    <tr>\n",
       "      <th>11</th>\n",
       "      <td>2260.0</td>\n",
       "      <td>1799.0</td>\n",
       "      <td>346.0</td>\n",
       "      <td>0.0</td>\n",
       "      <td>0.0</td>\n",
       "      <td>NaN</td>\n",
       "      <td>any day</td>\n",
       "    </tr>\n",
       "    <tr>\n",
       "      <th>11</th>\n",
       "      <td>1946.0</td>\n",
       "      <td>1789.0</td>\n",
       "      <td>648.0</td>\n",
       "      <td>22.0</td>\n",
       "      <td>0.0</td>\n",
       "      <td>0.0</td>\n",
       "      <td>baseline</td>\n",
       "    </tr>\n",
       "    <tr>\n",
       "      <th>12</th>\n",
       "      <td>2267.0</td>\n",
       "      <td>1804.0</td>\n",
       "      <td>303.0</td>\n",
       "      <td>0.0</td>\n",
       "      <td>0.0</td>\n",
       "      <td>NaN</td>\n",
       "      <td>any day</td>\n",
       "    </tr>\n",
       "    <tr>\n",
       "      <th>12</th>\n",
       "      <td>1765.0</td>\n",
       "      <td>1950.0</td>\n",
       "      <td>637.0</td>\n",
       "      <td>22.0</td>\n",
       "      <td>0.0</td>\n",
       "      <td>0.0</td>\n",
       "      <td>baseline</td>\n",
       "    </tr>\n",
       "    <tr>\n",
       "      <th>13</th>\n",
       "      <td>2296.0</td>\n",
       "      <td>1836.0</td>\n",
       "      <td>318.0</td>\n",
       "      <td>0.0</td>\n",
       "      <td>0.0</td>\n",
       "      <td>NaN</td>\n",
       "      <td>any day</td>\n",
       "    </tr>\n",
       "    <tr>\n",
       "      <th>13</th>\n",
       "      <td>1749.0</td>\n",
       "      <td>1958.0</td>\n",
       "      <td>717.0</td>\n",
       "      <td>26.0</td>\n",
       "      <td>0.0</td>\n",
       "      <td>0.0</td>\n",
       "      <td>baseline</td>\n",
       "    </tr>\n",
       "    <tr>\n",
       "      <th>14</th>\n",
       "      <td>1745.0</td>\n",
       "      <td>1966.0</td>\n",
       "      <td>793.0</td>\n",
       "      <td>29.0</td>\n",
       "      <td>0.0</td>\n",
       "      <td>0.0</td>\n",
       "      <td>baseline</td>\n",
       "    </tr>\n",
       "    <tr>\n",
       "      <th>14</th>\n",
       "      <td>2480.0</td>\n",
       "      <td>1708.0</td>\n",
       "      <td>345.0</td>\n",
       "      <td>0.0</td>\n",
       "      <td>0.0</td>\n",
       "      <td>NaN</td>\n",
       "      <td>any day</td>\n",
       "    </tr>\n",
       "    <tr>\n",
       "      <th>15</th>\n",
       "      <td>2975.0</td>\n",
       "      <td>1731.0</td>\n",
       "      <td>489.0</td>\n",
       "      <td>0.0</td>\n",
       "      <td>0.0</td>\n",
       "      <td>NaN</td>\n",
       "      <td>any day</td>\n",
       "    </tr>\n",
       "    <tr>\n",
       "      <th>15</th>\n",
       "      <td>2013.0</td>\n",
       "      <td>2269.0</td>\n",
       "      <td>883.0</td>\n",
       "      <td>30.0</td>\n",
       "      <td>0.0</td>\n",
       "      <td>0.0</td>\n",
       "      <td>baseline</td>\n",
       "    </tr>\n",
       "    <tr>\n",
       "      <th>16</th>\n",
       "      <td>2936.0</td>\n",
       "      <td>1799.0</td>\n",
       "      <td>511.0</td>\n",
       "      <td>0.0</td>\n",
       "      <td>0.0</td>\n",
       "      <td>NaN</td>\n",
       "      <td>any day</td>\n",
       "    </tr>\n",
       "    <tr>\n",
       "      <th>16</th>\n",
       "      <td>2096.0</td>\n",
       "      <td>2206.0</td>\n",
       "      <td>907.0</td>\n",
       "      <td>36.0</td>\n",
       "      <td>0.0</td>\n",
       "      <td>1.0</td>\n",
       "      <td>baseline</td>\n",
       "    </tr>\n",
       "    <tr>\n",
       "      <th>17</th>\n",
       "      <td>2631.0</td>\n",
       "      <td>1906.0</td>\n",
       "      <td>583.0</td>\n",
       "      <td>2.0</td>\n",
       "      <td>0.0</td>\n",
       "      <td>NaN</td>\n",
       "      <td>any day</td>\n",
       "    </tr>\n",
       "    <tr>\n",
       "      <th>17</th>\n",
       "      <td>1983.0</td>\n",
       "      <td>2191.0</td>\n",
       "      <td>918.0</td>\n",
       "      <td>24.0</td>\n",
       "      <td>6.0</td>\n",
       "      <td>0.0</td>\n",
       "      <td>baseline</td>\n",
       "    </tr>\n",
       "    <tr>\n",
       "      <th>18</th>\n",
       "      <td>1468.0</td>\n",
       "      <td>1717.0</td>\n",
       "      <td>764.0</td>\n",
       "      <td>24.0</td>\n",
       "      <td>4.0</td>\n",
       "      <td>0.0</td>\n",
       "      <td>baseline</td>\n",
       "    </tr>\n",
       "    <tr>\n",
       "      <th>18</th>\n",
       "      <td>2106.0</td>\n",
       "      <td>1434.0</td>\n",
       "      <td>437.0</td>\n",
       "      <td>0.0</td>\n",
       "      <td>0.0</td>\n",
       "      <td>NaN</td>\n",
       "      <td>any day</td>\n",
       "    </tr>\n",
       "    <tr>\n",
       "      <th>19</th>\n",
       "      <td>1743.0</td>\n",
       "      <td>1212.0</td>\n",
       "      <td>437.0</td>\n",
       "      <td>0.0</td>\n",
       "      <td>0.0</td>\n",
       "      <td>NaN</td>\n",
       "      <td>any day</td>\n",
       "    </tr>\n",
       "    <tr>\n",
       "      <th>19</th>\n",
       "      <td>1209.0</td>\n",
       "      <td>1428.0</td>\n",
       "      <td>738.0</td>\n",
       "      <td>14.0</td>\n",
       "      <td>3.0</td>\n",
       "      <td>0.0</td>\n",
       "      <td>baseline</td>\n",
       "    </tr>\n",
       "    <tr>\n",
       "      <th>20</th>\n",
       "      <td>1571.0</td>\n",
       "      <td>1111.0</td>\n",
       "      <td>415.0</td>\n",
       "      <td>0.0</td>\n",
       "      <td>0.0</td>\n",
       "      <td>NaN</td>\n",
       "      <td>any day</td>\n",
       "    </tr>\n",
       "    <tr>\n",
       "      <th>20</th>\n",
       "      <td>1130.0</td>\n",
       "      <td>1262.0</td>\n",
       "      <td>688.0</td>\n",
       "      <td>14.0</td>\n",
       "      <td>1.0</td>\n",
       "      <td>2.0</td>\n",
       "      <td>baseline</td>\n",
       "    </tr>\n",
       "    <tr>\n",
       "      <th>21</th>\n",
       "      <td>1424.0</td>\n",
       "      <td>1046.0</td>\n",
       "      <td>459.0</td>\n",
       "      <td>0.0</td>\n",
       "      <td>1.0</td>\n",
       "      <td>NaN</td>\n",
       "      <td>any day</td>\n",
       "    </tr>\n",
       "    <tr>\n",
       "      <th>21</th>\n",
       "      <td>1033.0</td>\n",
       "      <td>1173.0</td>\n",
       "      <td>700.0</td>\n",
       "      <td>23.0</td>\n",
       "      <td>0.0</td>\n",
       "      <td>1.0</td>\n",
       "      <td>baseline</td>\n",
       "    </tr>\n",
       "    <tr>\n",
       "      <th>22</th>\n",
       "      <td>1168.0</td>\n",
       "      <td>818.0</td>\n",
       "      <td>498.0</td>\n",
       "      <td>0.0</td>\n",
       "      <td>0.0</td>\n",
       "      <td>NaN</td>\n",
       "      <td>any day</td>\n",
       "    </tr>\n",
       "    <tr>\n",
       "      <th>22</th>\n",
       "      <td>843.0</td>\n",
       "      <td>975.0</td>\n",
       "      <td>642.0</td>\n",
       "      <td>21.0</td>\n",
       "      <td>2.0</td>\n",
       "      <td>1.0</td>\n",
       "      <td>baseline</td>\n",
       "    </tr>\n",
       "    <tr>\n",
       "      <th>23</th>\n",
       "      <td>327.0</td>\n",
       "      <td>346.0</td>\n",
       "      <td>233.0</td>\n",
       "      <td>8.0</td>\n",
       "      <td>2.0</td>\n",
       "      <td>3.0</td>\n",
       "      <td>baseline</td>\n",
       "    </tr>\n",
       "    <tr>\n",
       "      <th>23</th>\n",
       "      <td>412.0</td>\n",
       "      <td>283.0</td>\n",
       "      <td>224.0</td>\n",
       "      <td>0.0</td>\n",
       "      <td>0.0</td>\n",
       "      <td>NaN</td>\n",
       "      <td>any day</td>\n",
       "    </tr>\n",
       "  </tbody>\n",
       "</table>\n",
       "</div>"
      ],
      "text/plain": [
       "y_error           0       1      2     3    4    5     model\n",
       "time_window                                                 \n",
       "0             205.0   174.0  129.0   7.0  0.0  1.0  baseline\n",
       "0             222.0   158.0  133.0   3.0  0.0  NaN   any day\n",
       "1               7.0     3.0    2.0   0.0  0.0  NaN   any day\n",
       "1               8.0     2.0    1.0   0.0  0.0  1.0  baseline\n",
       "2               0.0     0.0    0.0   0.0  0.0  0.0  baseline\n",
       "2               0.0     0.0    0.0   0.0  0.0  NaN   any day\n",
       "3               0.0     0.0    0.0   0.0  0.0  0.0  baseline\n",
       "3               0.0     0.0    0.0   0.0  0.0  NaN   any day\n",
       "4              17.0     0.0    0.0   0.0  0.0  0.0  baseline\n",
       "4              17.0     0.0    0.0   0.0  0.0  NaN   any day\n",
       "5             349.0   197.0   25.0   9.0  0.0  0.0  baseline\n",
       "5             334.0   228.0   18.0   0.0  0.0  NaN   any day\n",
       "6            1564.0   922.0  249.0  25.0  1.0  0.0  baseline\n",
       "6            1689.0   943.0  129.0   0.0  0.0  NaN   any day\n",
       "7            2476.0  1441.0  358.0  15.0  1.0  1.0  baseline\n",
       "7            2663.0  1411.0  218.0   0.0  0.0  NaN   any day\n",
       "8            2454.0  1633.0  243.0   0.0  0.0  NaN   any day\n",
       "8            2342.0  1567.0  407.0  13.0  0.0  1.0  baseline\n",
       "9            2381.0  1577.0  237.0   0.0  0.0  NaN   any day\n",
       "9            2107.0  1631.0  439.0  18.0  0.0  0.0  baseline\n",
       "10           2273.0  1671.0  323.0   1.0  0.0  NaN   any day\n",
       "10           2000.0  1716.0  535.0  16.0  1.0  0.0  baseline\n",
       "11           2260.0  1799.0  346.0   0.0  0.0  NaN   any day\n",
       "11           1946.0  1789.0  648.0  22.0  0.0  0.0  baseline\n",
       "12           2267.0  1804.0  303.0   0.0  0.0  NaN   any day\n",
       "12           1765.0  1950.0  637.0  22.0  0.0  0.0  baseline\n",
       "13           2296.0  1836.0  318.0   0.0  0.0  NaN   any day\n",
       "13           1749.0  1958.0  717.0  26.0  0.0  0.0  baseline\n",
       "14           1745.0  1966.0  793.0  29.0  0.0  0.0  baseline\n",
       "14           2480.0  1708.0  345.0   0.0  0.0  NaN   any day\n",
       "15           2975.0  1731.0  489.0   0.0  0.0  NaN   any day\n",
       "15           2013.0  2269.0  883.0  30.0  0.0  0.0  baseline\n",
       "16           2936.0  1799.0  511.0   0.0  0.0  NaN   any day\n",
       "16           2096.0  2206.0  907.0  36.0  0.0  1.0  baseline\n",
       "17           2631.0  1906.0  583.0   2.0  0.0  NaN   any day\n",
       "17           1983.0  2191.0  918.0  24.0  6.0  0.0  baseline\n",
       "18           1468.0  1717.0  764.0  24.0  4.0  0.0  baseline\n",
       "18           2106.0  1434.0  437.0   0.0  0.0  NaN   any day\n",
       "19           1743.0  1212.0  437.0   0.0  0.0  NaN   any day\n",
       "19           1209.0  1428.0  738.0  14.0  3.0  0.0  baseline\n",
       "20           1571.0  1111.0  415.0   0.0  0.0  NaN   any day\n",
       "20           1130.0  1262.0  688.0  14.0  1.0  2.0  baseline\n",
       "21           1424.0  1046.0  459.0   0.0  1.0  NaN   any day\n",
       "21           1033.0  1173.0  700.0  23.0  0.0  1.0  baseline\n",
       "22           1168.0   818.0  498.0   0.0  0.0  NaN   any day\n",
       "22            843.0   975.0  642.0  21.0  2.0  1.0  baseline\n",
       "23            327.0   346.0  233.0   8.0  2.0  3.0  baseline\n",
       "23            412.0   283.0  224.0   0.0  0.0  NaN   any day"
      ]
     },
     "execution_count": 159,
     "metadata": {},
     "output_type": "execute_result"
    }
   ],
   "source": [
    "res_df"
   ]
  },
  {
   "cell_type": "code",
   "execution_count": 173,
   "metadata": {},
   "outputs": [
    {
     "name": "stderr",
     "output_type": "stream",
     "text": [
      "/tmp/ipykernel_20481/3386571095.py:15: UserWarning:\n",
      "\n",
      "FixedFormatter should only be used together with FixedLocator\n",
      "\n",
      "/tmp/ipykernel_20481/3386571095.py:15: UserWarning:\n",
      "\n",
      "FixedFormatter should only be used together with FixedLocator\n",
      "\n",
      "/tmp/ipykernel_20481/3386571095.py:15: UserWarning:\n",
      "\n",
      "FixedFormatter should only be used together with FixedLocator\n",
      "\n",
      "/tmp/ipykernel_20481/3386571095.py:15: UserWarning:\n",
      "\n",
      "FixedFormatter should only be used together with FixedLocator\n",
      "\n",
      "/tmp/ipykernel_20481/3386571095.py:15: UserWarning:\n",
      "\n",
      "FixedFormatter should only be used together with FixedLocator\n",
      "\n"
     ]
    },
    {
     "data": {
      "image/png": "[encoded data removed]",
      "text/plain": [
       "<Figure size 1800x360 with 5 Axes>"
      ]
     },
     "metadata": {
      "needs_background": "light"
     },
     "output_type": "display_data"
    }
   ],
   "source": [
    "import matplotlib.pyplot as plt\n",
    "import matplotlib.ticker as ticker\n",
    "\n",
    "fig, ax = plt.subplots(ncols=5, figsize=(25, 5), sharey=False)\n",
    "\n",
    "loc = ticker.MultipleLocator(base=5.0) # this locator puts ticks at regular intervals\n",
    "\n",
    "for i in range(5):\n",
    "    res_df.reset_index().groupby(['time_window', 'model']).agg('first')[i].unstack().plot.bar(ax=ax[i], stacked=False, width=1.0, rot=0)\n",
    "    if i < 4:\n",
    "        ax[i].legend().remove()\n",
    "    ax[i].xaxis.set_major_locator(loc)\n",
    "    ax[i].set_xlabel('Time windows')\n",
    "    ax[i].set_title(f'y_err = {i}')\n",
    "    ax[i].set_xticklabels(['', '00:00', '5:00', '10:00', '15:00', '20:00'])\n",
    "\n",
    "ax[0].set_ylabel('Count')\n",
    "fig.suptitle('Any day vs Baseline prediction errors for trips in 2022-07-01 to 2022-09-19')\n",
    "\n",
    "fp = 'any_day_vs_baseline_IBI.png'\n",
    "plt.savefig(fp, dpi=200, bbox_inches='tight')"
   ]
  },
  {
   "cell_type": "code",
   "execution_count": null,
   "metadata": {},
   "outputs": [],
   "source": []
  },
  {
   "cell_type": "markdown",
   "metadata": {},
   "source": [
    "### Actual prediction process (for deployment)\n",
    "> Can move to separate notebook\n",
    "0. Mirror streamlit variables\n",
    "1. Select date to predict\n",
    "2. Get past data from range that share day of week values\n",
    "3. Get average of certain values\n",
    "4. Adjust data for new prediction date\n",
    "5. Setup, predict and output results"
   ]
  },
  {
   "cell_type": "code",
   "execution_count": null,
   "metadata": {},
   "outputs": [],
   "source": [
    "model012    = joblib.load('models/any_day/XGB_012.joblib')\n",
    "model234    = joblib.load('models/any_day/XGB_234.joblib')\n",
    "columns     = joblib.load('models/any_day/TL_X_columns.joblib')\n",
    "ix_map      = joblib.load('models/any_day/TL_IX_map.joblib')\n",
    "ohe_encoder = joblib.load('models/any_day/TL_OHE_encoders.joblib')"
   ]
  },
  {
   "cell_type": "code",
   "execution_count": null,
   "metadata": {},
   "outputs": [],
   "source": [
    "import datetime as dt\n",
    "from src import any_day_prediction_utils as prediction\n",
    "date_to_predict = dt.date(2022, 4, 1)"
   ]
  },
  {
   "cell_type": "code",
   "execution_count": null,
   "metadata": {},
   "outputs": [],
   "source": [
    "importlib.reload(prediction)"
   ]
  },
  {
   "cell_type": "code",
   "execution_count": null,
   "metadata": {},
   "outputs": [],
   "source": [
    "past_df = prediction.get_past_data(spark, date_to_predict)\n",
    "input_df = prediction.setup_input_data(date_to_predict, past_df)\n",
    "display(input_df)\n",
    "input_df = prediction.prepare_any_day_for_prediction(input_df, columns, ix_map, ohe_encoder)"
   ]
  },
  {
   "cell_type": "code",
   "execution_count": null,
   "metadata": {},
   "outputs": [],
   "source": [
    "len(columns)"
   ]
  },
  {
   "cell_type": "code",
   "execution_count": null,
   "metadata": {},
   "outputs": [],
   "source": [
    "input_df = input_df.reset_index(drop=True)\n",
    "input_df = input_df[columns]\n",
    "\n",
    "## Predict first stage 0-1-2\n",
    "predictions = model012.predict(input_df)\n",
    "\n",
    "unique, counts = np.unique(predictions, return_counts=True)\n",
    "print(unique, counts)\n",
    "\n",
    "input_df['y_pred'] = predictions\n",
    "## Isolate predictions with bin 2 for 2-3-4\n",
    "high_bin_df = input_df[input_df['y_pred'] == 2]\n",
    "display(high_bin_df)\n",
    "high_bin_df = high_bin_df.drop(['y_pred'], axis=1)\n",
    "high_bin_index = high_bin_df.index\n",
    "high_bin_df = high_bin_df[columns]\n",
    "\n",
    "predictions = model234.predict(high_bin_df)\n",
    "\n",
    "unique, counts = np.unique(predictions, return_counts=True)\n",
    "print(unique, counts)\n",
    "\n",
    "predictions = predictions + 2\n",
    "input_df.loc[high_bin_index, 'y_pred'] = predictions\n",
    "ohe_features = ['route_id_direction', 'is_holiday', 'dayofweek', 'is_school_break']\n",
    "input_df[ohe_features] = ohe_encoder.inverse_transform(input_df.filter(regex='route_id_direction_|is_holiday_|dayofweek_|is_school_'))\n",
    "\n",
    "results = prediction.generate_results(input_df, TIMEWINDOW=30)"
   ]
  },
  {
   "cell_type": "code",
   "execution_count": null,
   "metadata": {},
   "outputs": [],
   "source": [
    "import seaborn as sns\n",
    "sns.heatmap(results, annot=False)"
   ]
  },
  {
   "cell_type": "code",
   "execution_count": null,
   "metadata": {},
   "outputs": [],
   "source": [
    "y_pred = model012.predict(input_df)"
   ]
  },
  {
   "cell_type": "code",
   "execution_count": null,
   "metadata": {},
   "outputs": [],
   "source": [
    "unique, counts = np.unique(y_pred, return_counts=True)\n",
    "unique, counts"
   ]
  },
  {
   "cell_type": "code",
   "execution_count": null,
   "metadata": {},
   "outputs": [],
   "source": [
    "y_pred = model012.predict(X[(X['month_ix'] == 9) & (X['day_ix'] == 10)][columns])\n",
    "unique, counts = np.unique(y_pred, return_counts=True)\n",
    "unique, counts"
   ]
  },
  {
   "cell_type": "code",
   "execution_count": null,
   "metadata": {},
   "outputs": [],
   "source": [
    "y_pred = model012.predict(X[columns])\n",
    "unique, counts = np.unique(y_pred, return_counts=True)\n",
    "unique, counts"
   ]
  },
  {
   "cell_type": "markdown",
   "metadata": {},
   "source": [
    "# IGNORE"
   ]
  },
  {
   "cell_type": "code",
   "execution_count": null,
   "metadata": {},
   "outputs": [],
   "source": [
    "import os\n",
    "import joblib\n",
    "os.chdir(\"/media/seconddrive/mta_stationing_problem\")\n",
    "fp = os.path.join('models/any_day/XGBOOST_RANDSEARCHCV_any_day.pkl')\n",
    "best = joblib.load(fp)\n",
    "best.best_params_"
   ]
  },
  {
   "cell_type": "code",
   "execution_count": null,
   "metadata": {},
   "outputs": [],
   "source": []
  }
 ],
 "metadata": {
  "kernelspec": {
   "display_name": "Python 3.9.13 ('py39')",
   "language": "python",
   "name": "python3"
  },
  "language_info": {
   "codemirror_mode": {
    "name": "ipython",
    "version": 3
   },
   "file_extension": ".py",
   "mimetype": "text/x-python",
   "name": "python",
   "nbconvert_exporter": "python",
   "pygments_lexer": "ipython3",
   "version": "3.9.13"
  },
  "orig_nbformat": 4,
  "vscode": {
   "interpreter": {
    "hash": "88d12193eb5d2fbe298f9bb9e457ac6a535b56551d0f537fc14a1636657a2895"
   }
  }
 },
 "nbformat": 4,
 "nbformat_minor": 2
}
