{
 "cells": [
  {
   "cell_type": "code",
   "execution_count": 1,
   "metadata": {},
   "outputs": [],
   "source": [
    "import matplotlib as mpl\n",
    "import matplotlib.pyplot as plt\n",
    "import matplotlib.ticker as ticker\n",
    "from pyspark.sql import Row, SparkSession\n",
    "from pyspark.sql import functions as F\n",
    "import os\n",
    "import itertools\n",
    "import pandas as pd\n",
    "pd.set_option('display.max_columns', None)"
   ]
  },
  {
   "cell_type": "code",
   "execution_count": 2,
   "metadata": {},
   "outputs": [],
   "source": [
    "import matplotlib.pylab as pylab\n",
    "params = {'legend.fontsize': 'x-large',\n",
    "          'figure.figsize': (15, 5),\n",
    "         'axes.labelsize': 'x-large',\n",
    "         'axes.titlesize':'x-large',\n",
    "         'xtick.labelsize':'x-large',\n",
    "         'ytick.labelsize':'x-large'}\n",
    "pylab.rcParams.update(params)"
   ]
  },
  {
   "cell_type": "markdown",
   "metadata": {},
   "source": [
    "# Any day plots"
   ]
  },
  {
   "cell_type": "markdown",
   "metadata": {},
   "source": [
    "## Baseline plots"
   ]
  },
  {
   "cell_type": "code",
   "execution_count": null,
   "metadata": {},
   "outputs": [],
   "source": [
    "import plotly.express as px\n",
    "res_dir = '/home/jptalusan/mta_stationing_problem/models/any_day/variable_timewindow'\n",
    "fp = os.path.join(res_dir, f\"any_day_tw_30\", '2022-09-11_baseline_raw_results.pkl')\n",
    "bl_df = pd.read_pickle(fp)\n",
    "\n",
    "\n",
    "# Rename duplicate columns\n",
    "cols=pd.Series(bl_df.columns)\n",
    "for dup in cols[cols.duplicated()].unique(): \n",
    "    cols[cols[cols == dup].index.values.tolist()] = [dup + '.' + str(i) if i != 0 else dup for i in range(sum(cols == dup))]\n",
    "bl_df.columns = cols\n",
    "bl_df = bl_df.rename({\"y_pred\":\"y_pred_load\", \"y_pred.1\":\"y_pred\"}, axis=1)\n",
    "\n",
    "bl_df['y_error'] = abs(bl_df['y_true'] - bl_df['y_pred']).astype('int')\n",
    "bl_df = bl_df.groupby(['time_window', 'past', 'y_error']).count().reset_index()\n",
    "fig = px.bar(bl_df, x=\"time_window\", y=\"y_true\", color=\"y_error\", facet_col='past')\n",
    "fig.show()\n"
   ]
  },
  {
   "cell_type": "code",
   "execution_count": null,
   "metadata": {},
   "outputs": [],
   "source": [
    "res_dir = '/home/jptalusan/mta_stationing_problem/models/any_day/variable_timewindow'\n",
    "time_windows = [1, 5, 10, 20, 30, 40, 50, 60, 120]\n",
    "time_window = 30"
   ]
  },
  {
   "cell_type": "code",
   "execution_count": null,
   "metadata": {},
   "outputs": [],
   "source": [
    "for tw in time_windows:\n",
    "    fp = os.path.join(res_dir, f\"any_day_tw_{tw}\", '2022-09-10_evaluation_results_df.pkl')\n",
    "    df = pd.read_pickle(fp)\n",
    "    kfold = 0\n",
    "    df = df.query(\"kfold == @kfold\")\n",
    "    df['y_error'] = abs(df['y_true'] - df['y_pred'])\n",
    "    df = df.groupby(['y_error', 'time_window']).agg({'transit_date':'first', 'trip_id':'first', 'route_id_direction':'first', 'year':'count'}).rename({'year':'count'}, axis=1).reset_index()\n",
    "    df = pd.pivot_table(data=df, index=['time_window'], columns=['y_error'], values='count').fillna(0)\n",
    "    \n",
    "    fp = os.path.join(res_dir, f\"any_day_tw_{tw}\", '2022-09-11_baseline_raw_results.pkl')\n",
    "    bl_df = pd.read_pickle(fp)\n",
    "    \n",
    "    # Rename duplicate columns\n",
    "    cols=pd.Series(bl_df.columns)\n",
    "    for dup in cols[cols.duplicated()].unique(): \n",
    "        cols[cols[cols == dup].index.values.tolist()] = [dup + '.' + str(i) if i != 0 else dup for i in range(sum(cols == dup))]\n",
    "    bl_df.columns = cols\n",
    "    bl_df = bl_df.rename({\"y_pred\":\"y_pred_load\", \"y_pred.1\":\"y_pred\"}, axis=1)\n",
    "\n",
    "    past = 1\n",
    "    bl_df = bl_df.query(\"past == @past\")\n",
    "    bl_df['y_error'] = abs(bl_df['y_true'] - bl_df['y_pred']).astype('int')\n",
    "    bl_df = bl_df.groupby(['y_error', 'time_window']).agg({'transit_date':'first', 'trip_id':'first', 'route_id_direction':'first', 'y_pred_load':'count'}).rename({'y_pred_load':'count'}, axis=1).reset_index()\n",
    "    bl_df = pd.pivot_table(data=bl_df, index=['time_window'], columns=['y_error'], values='count').fillna(0)\n",
    "    \n",
    "    fig, ax = plt.subplots(figsize=(15, 5), ncols=2, sharey=True, sharex=True)\n",
    "    \n",
    "    df.plot.bar(stacked=True, ax=ax[1], rot=0)\n",
    "    bl_df.plot.bar(stacked=True, ax=ax[0], rot=0)\n",
    "    bars = [thing for thing in ax[0].containers if isinstance(thing,mpl.container.BarContainer)]\n",
    "    patterns = itertools.cycle(('-', '+', 'x', '\\\\', '*', 'o', 'O', '.'))\n",
    "    d = {}\n",
    "    for bar in bars:\n",
    "        for patch in bar:\n",
    "            pat = d.setdefault(patch.get_facecolor(), next(patterns))\n",
    "            # patch.set_hatch(pat)\n",
    "    # L = ax[0].legend()\n",
    "    ax[0].get_legend().remove()\n",
    "    \n",
    "    # xticks = ax[0].get_xticklabels()\n",
    "    # time_strs = []\n",
    "    # for xtick in xticks:\n",
    "    #     try:\n",
    "    #         val = int(xtick.get_text())\n",
    "    #     except:\n",
    "    #         continue\n",
    "    #     hour = val // (60 // 30)\n",
    "    #     minute = 0\n",
    "    #     if val % 2:\n",
    "    #         minute = 30\n",
    "    #     time_str = f\"{str(hour).zfill(2)}:{str(minute).zfill(2)}\"\n",
    "    #     time_strs.append(time_str)\n",
    "    # time_strs = list(zip(time_strs[0:], time_strs[1:]))\n",
    "    # time_strs.append(('23:30', '00:00'))\n",
    "    # time_strs.append(('23:30', '00:00'))\n",
    "    # time_strs = [f\"{ts[0]}-{ts[1]}\" for ts in time_strs]\n",
    "    # ax[0].set_xticklabels(time_strs)\n",
    "    \n",
    "    loc = ticker.MultipleLocator(base=15.0) # this locator puts ticks at regular intervals\n",
    "    ax[0].xaxis.set_major_locator(loc)\n",
    "    ax[1].xaxis.set_major_locator(loc)\n",
    "    ax[0].set_ylabel('count')\n",
    "    ax[0].set_xlabel('time windows')\n",
    "    ax[1].set_xlabel('time windows')\n",
    "    ax[0].set_title('Baseline')\n",
    "    ax[1].set_title('Model')\n",
    "    \n",
    "    fp = os.path.join(res_dir, f\"any_day_tw_{tw}\", f'{tw}_compareplot.png') \n",
    "    plt.savefig(fp, dpi=200, bbox_inches='tight')"
   ]
  },
  {
   "cell_type": "code",
   "execution_count": null,
   "metadata": {},
   "outputs": [],
   "source": [
    "kfold = 0\n",
    "\n",
    "fp = os.path.join('../evaluation', 'any_day_012_raw_results.pkl')\n",
    "any_df = pd.read_pickle(fp)\n",
    "any_df = any_df.query(\"kfold == @kfold\")\n",
    "any_df['y_error'] = abs(any_df['y_true'] - any_df['y_pred'])\n",
    "any_df['count'] = 1\n",
    "any_df = any_df.groupby(['y_error', 'time_window']).sum().reset_index()\n",
    "any_df = pd.pivot_table(data=any_df, index=['time_window'], columns=['y_error'], values='count').fillna(0)\n",
    "\n",
    "fp = os.path.join('../evaluation', 'day_ahead_012_raw_results.pkl')\n",
    "day_df = pd.read_pickle(fp)\n",
    "day_df = day_df.query(\"kfold == @kfold\")\n",
    "day_df['y_error'] = abs(day_df['y_true'] - day_df['y_pred'])\n",
    "day_df['count'] = 1\n",
    "day_df = day_df.groupby(['y_error', 'time_window']).sum().reset_index()\n",
    "day_df = pd.pivot_table(data=day_df, index=['time_window'], columns=['y_error'], values='count').fillna(0)\n",
    "\n",
    "fig, ax = plt.subplots(figsize=(15, 5), ncols=2, sharey=True, sharex=True)\n",
    "    \n",
    "day_df.plot.bar(stacked=True, ax=ax[1], rot=0)\n",
    "any_df.plot.bar(stacked=True, ax=ax[0], rot=0)\n",
    "ax[0].legend().remove()\n",
    "xticks = ax[0].get_xticklabels()\n",
    "time_strs = []\n",
    "for xtick in xticks:\n",
    "    try:\n",
    "        val = int(xtick.get_text())\n",
    "    except:\n",
    "        continue\n",
    "    hour = val // (60 // 30)\n",
    "    minute = 0\n",
    "    if val % 2:\n",
    "        minute = 30\n",
    "    time_str = f\"{str(hour).zfill(2)}:{str(minute).zfill(2)}\"\n",
    "    time_strs.append(time_str)\n",
    "time_strs = list(zip(time_strs[0:], time_strs[1:]))\n",
    "time_strs.append(('23:30', '00:00'))\n",
    "time_strs = [f\"{ts[0]}-{ts[1]}\" for ts in time_strs]\n",
    "ax[0].set_xticklabels(time_strs)\n",
    "\n",
    "loc = ticker.MultipleLocator(base=15.0) # this locator puts ticks at regular intervals\n",
    "ax[0].xaxis.set_major_locator(loc)\n",
    "ax[1].xaxis.set_major_locator(loc)\n",
    "ax[0].set_ylabel('count')\n",
    "ax[0].set_xlabel('time windows')\n",
    "ax[1].set_xlabel('time windows')\n",
    "ax[0].set_title('Any Day')\n",
    "ax[1].set_title('Day Ahead')\n",
    "\n",
    "fp = '../plots/day_vs_any.png'\n",
    "plt.savefig(fp, dpi=200, bbox_inches='tight')"
   ]
  },
  {
   "cell_type": "markdown",
   "metadata": {},
   "source": [
    "# Same day plots"
   ]
  },
  {
   "cell_type": "code",
   "execution_count": null,
   "metadata": {},
   "outputs": [],
   "source": [
    "res_dir = '/home/jptalusan/mta_stationing_problem/evaluation/same_day/clean_evaluation'\n",
    "# time_windows = [1, 5, 10, 20, 30, 40, 50, 60, 120]\n",
    "time_window = 15"
   ]
  },
  {
   "cell_type": "code",
   "execution_count": null,
   "metadata": {},
   "outputs": [],
   "source": [
    "for tw in [time_window]:\n",
    "    fp = os.path.join(res_dir, f\"timewindow{tw}\", 'results_5000_df.pkl')\n",
    "    df = pd.read_pickle(fp)\n",
    "    # kfold = 0\n",
    "    df = df.query(\"y_pred != -1\")\n",
    "    df['y_error'] = abs(df['y_class'] - df['y_pred']).astype('int')\n",
    "    df = df.groupby(['y_error', 'stop_sequence']).agg({'transit_date':'first', 'trip_id':'first', 'route_id_dir':'first', 'year':'count'}).rename({'year':'count'}, axis=1).reset_index()\n",
    "    df = df[df[\"stop_sequence\"].isin([6, 7, 8, 9, 10, 11, 12, 13, 14, 15, 16])]\n",
    "    df = pd.pivot_table(data=df, index=['stop_sequence'], columns=['y_error'], values='count').fillna(0)\n",
    "    # display(df)\n",
    "    fig, ax = plt.subplots(1, 2, figsize=(10, 3), sharex=True, sharey=True)\n",
    "    df.plot.bar(stacked=True, ax=ax[1], rot=0)\n",
    "    ax[1].set_xlabel('stop sequence')\n",
    "    # ax[1].set_ylabel('count')\n",
    "    ax[1].set_title('Model')\n",
    "    # fp = os.path.join(res_dir, f\"timewindow{tw}\", f'sameday_count_error_plot.png') \n",
    "    # plt.savefig(fp, dpi=200, bbox_inches='tight')\n",
    "    \n",
    "    fp = os.path.join(res_dir, f\"timewindow{tw}\", 'baseline_5000.pkl')\n",
    "    df = pd.read_pickle(fp)\n",
    "    # kfold = 0\n",
    "    df = df.query(\"y_pred_roll != -1\").dropna()\n",
    "    df['y_roll_error'] = abs(df['y_class'] - df['y_pred_roll']).astype('int')\n",
    "    df['y_mean_error'] = abs(df['y_class'] - df['y_pred_mean']).astype('int')\n",
    "    df['y_max_error'] = abs(df['y_class'] - df['y_pred_max']).astype('int')\n",
    "    df = df.groupby(['y_mean_error', 'stop_sequence']).agg({'transit_date':'first', 'trip_id':'first', 'route_id_dir':'first', 'year':'count'}).rename({'year':'count'}, axis=1).reset_index()\n",
    "    df = df[df[\"stop_sequence\"].isin([6, 7, 8, 9, 10, 11, 12, 13, 14, 15, 16])]\n",
    "    df = pd.pivot_table(data=df, index=['stop_sequence'], columns=['y_mean_error'], values='count').fillna(0)\n",
    "    # # display(df)\n",
    "    df.plot.bar(stacked=True, ax=ax[0], rot=0)\n",
    "    ax[0].legend().remove()\n",
    "    ax[0].set_xlabel('stop sequence')\n",
    "    ax[0].set_ylabel('count')\n",
    "    ax[0].set_title('Baseline mean')\n",
    "    fp = os.path.join(res_dir, f\"timewindow{tw}\", f'sameday_count_error_compare_baseline.png') \n",
    "    plt.savefig(fp, dpi=200, bbox_inches='tight')"
   ]
  },
  {
   "cell_type": "code",
   "execution_count": null,
   "metadata": {},
   "outputs": [],
   "source": [
    "month_label_dict = {11:'Nov', 12:'Dec', 1:'Jan', 2:'Feb', 3:'Mar', 4:'Apr'}\n",
    "for tw in [time_window]:\n",
    "    fp = os.path.join(res_dir, f\"timewindow{tw}\", 'results_5000_df.pkl')\n",
    "    df = pd.read_pickle(fp)\n",
    "    # kfold = 0\n",
    "    df = df.query(\"y_pred != -1\")\n",
    "    df['y_error'] = abs(df['y_class'] - df['y_pred']).astype('int')\n",
    "    df = df.groupby(['y_error', 'stop_sequence', 'month']).agg({'transit_date':'first', 'trip_id':'first', 'route_id_dir':'first', 'year':'count'}).rename({'year':'count'}, axis=1).reset_index()\n",
    "    df = df[df[\"stop_sequence\"].isin([6, 7, 8, 9, 10, 11, 12, 13, 14, 15, 16])]\n",
    "    df = pd.pivot_table(data=df, index=['month', 'stop_sequence'], columns=['y_error'], values='count').fillna(0).reset_index()\n",
    "    # df.unstack(1).plot(kind='bar', subplots=True, stacked=True, rot=0)\n",
    "    # display(df[df['month']==11])\n",
    "    fig, axes = plt.subplots(2,3,figsize=(10,5), sharex=True, sharey=True)\n",
    "    axes = axes.flatten()\n",
    "\n",
    "    loc = ticker.MultipleLocator(base=3) # this locator puts ticks at regular intervals\n",
    "    for month, ax in zip([11, 12, 1, 2, 3, 4],axes):\n",
    "        df[df['month']==month][['stop_sequence', 0, 1, 2]].set_index('stop_sequence').plot.bar(stacked=True, rot=0, ax=ax, )\n",
    "        ax.get_legend().remove()\n",
    "        ax.set_title(f\"{month_label_dict[month]}\")\n",
    "        ax.xaxis.set_major_locator(loc)\n",
    "        ax.set_xlabel('stop sequence')\n",
    "    axes[0].legend()\n",
    "\n",
    "fp = os.path.join(res_dir, f\"timewindow{tw}\", f'sameday_count_error_plot_monthly.png') \n",
    "plt.savefig(fp, dpi=200, bbox_inches='tight')"
   ]
  },
  {
   "cell_type": "code",
   "execution_count": null,
   "metadata": {},
   "outputs": [],
   "source": [
    "_train = [1]\n",
    "_test = [1, 2]\n",
    "_val = [1]\n",
    "if (len(_train) == 0) or (len(_test) == 0) or (len(_val) == 0):\n",
    "    print(\"YES\")"
   ]
  },
  {
   "cell_type": "markdown",
   "metadata": {},
   "source": [
    "## Confusion matrix"
   ]
  },
  {
   "cell_type": "code",
   "execution_count": null,
   "metadata": {},
   "outputs": [],
   "source": [
    "## Separate mean and max from baseline\n",
    "fp = '/home/jptalusan/mta_stationing_problem/evaluation/same_day/clean_evaluation/timewindow15/results_5000_df.pkl'\n",
    "df_lstm = pd.read_pickle(fp)\n",
    "df_lstm = df_lstm.query(\"y_pred > -1\")\n",
    "\n",
    "fp = '/home/jptalusan/mta_stationing_problem/evaluation/same_day/clean_evaluation/timewindow15/baseline_5000.pkl'\n",
    "df_baseline = pd.read_pickle(fp)\n",
    "df_baseline = df_baseline.query(\"y_pred_max > -1\").dropna(subset=['y_pred_mean'])"
   ]
  },
  {
   "cell_type": "code",
   "execution_count": null,
   "metadata": {},
   "outputs": [],
   "source": [
    "df_lstm.head()"
   ]
  },
  {
   "cell_type": "code",
   "execution_count": null,
   "metadata": {},
   "outputs": [],
   "source": [
    "df_baseline.head()"
   ]
  },
  {
   "cell_type": "code",
   "execution_count": null,
   "metadata": {},
   "outputs": [],
   "source": [
    "os.getcwd()"
   ]
  },
  {
   "cell_type": "code",
   "execution_count": null,
   "metadata": {},
   "outputs": [],
   "source": [
    "from sklearn.metrics import classification_report\n",
    "from sklearn.metrics import ConfusionMatrixDisplay\n",
    "\n",
    "# labels = [(0.0, 6.0), (7.0, 12.0), (13.0, 55.0), (56.0, 75.0), (76.0, 100.0)]\n",
    "labels = [\"0-6\", \"7-10\", \"13-55\", \"56-75\", \"76-100\"]\n",
    "\n",
    "ConfusionMatrixDisplay.from_predictions(df_lstm.groupby('trip_id').first()['y_class'], df_lstm.groupby('trip_id').first()['y_pred'], values_format = 'd', display_labels=labels)\n",
    "plt.savefig('../plots/simple_lstm_first_CM.png', dpi=200, bbox_inches='tight')\n",
    "ConfusionMatrixDisplay.from_predictions(df_baseline.groupby('trip_id').first()['y_class'], df_baseline.groupby('trip_id').first()['y_pred_max'], values_format = 'd', display_labels=labels)\n",
    "plt.savefig('../plots/baseline_max_first_CM.png', dpi=200, bbox_inches='tight')\n",
    "ConfusionMatrixDisplay.from_predictions(df_baseline.groupby('trip_id').first()['y_class'], df_baseline.groupby('trip_id').first()['y_pred_mean'], values_format = 'd', display_labels=labels)\n",
    "plt.savefig('../plots/baseline_mean_lstm_first_CM.png', dpi=200, bbox_inches='tight')\n",
    "ConfusionMatrixDisplay.from_predictions(df_baseline.groupby('trip_id').first()['y_class'], df_baseline.groupby('trip_id').first()['y_pred_roll'], values_format = 'd', display_labels=labels)\n",
    "plt.savefig('../plots/baseline_roll_first_CM.png', dpi=200, bbox_inches='tight')"
   ]
  },
  {
   "cell_type": "code",
   "execution_count": null,
   "metadata": {},
   "outputs": [],
   "source": [
    "fp = '/home/jptalusan/mta_stationing_problem/evaluation/same_day/clean_evaluation/new_simple_baseline_multi_stop_5P_xF_results_school_break.pkl'\n",
    "df = pd.read_pickle(fp)\n",
    "for k, v in df.iterrows():\n",
    "    print(k)\n",
    "    display(v.to_frame().T)\n",
    "    break"
   ]
  },
  {
   "cell_type": "markdown",
   "metadata": {},
   "source": [
    "# Plotting APC data status and noise"
   ]
  },
  {
   "cell_type": "code",
   "execution_count": null,
   "metadata": {},
   "outputs": [],
   "source": [
    "fp = '/home/jptalusan/mta_stationing_problem/data/processed/matched_raw_manual_check.pkl'\n",
    "mcd_df = pd.read_pickle(fp)"
   ]
  },
  {
   "cell_type": "code",
   "execution_count": null,
   "metadata": {},
   "outputs": [],
   "source": [
    "mcd_df['load_diff'] = mcd_df['load'] - mcd_df['apc_load']"
   ]
  },
  {
   "cell_type": "code",
   "execution_count": null,
   "metadata": {},
   "outputs": [],
   "source": [
    "mcd_df.query(\"remark == 'clean'\").sort_values(by=['scheduled_time'])"
   ]
  },
  {
   "cell_type": "code",
   "execution_count": null,
   "metadata": {},
   "outputs": [],
   "source": [
    "load_diff = mcd_df.query(\"remark == 'clean'\").sort_values(by=['scheduled_time']).load_diff.to_numpy()\n",
    "fig, ax = plt.subplots(figsize=(10, 5))\n",
    "ax.plot(load_diff)\n",
    "ax.set_xlabel('Stops across time')\n",
    "ax.set_ylabel('Diff. of Recorded APC\\ndata from Ground Truth')\n",
    "fp = '../plots/noisy_APC.png'\n",
    "plt.savefig(fp, dpi=200, bbox_inches='tight')"
   ]
  },
  {
   "cell_type": "code",
   "execution_count": null,
   "metadata": {},
   "outputs": [],
   "source": [
    "mcd_df['count'] = 1\n",
    "mcd_df['month'] = mcd_df['scheduled_time'].dt.month\n",
    "mcd_df['year'] = mcd_df['scheduled_time'].dt.year\n",
    "all_trips = mcd_df.groupby(['trip_id', 'transit_date']).agg({'month':'first', 'year':'first','count':'first', 'remark':pd.Series.mode})\n",
    "all_trips = mcd_df.groupby(['remark', 'month', 'year']).sum().reset_index()\n",
    "# all_trips = pd.pivot_table(data=mcd_df, index=['transit_date'], columns=['remark'], values='count')\n",
    "# all_trips = all_trips.fillna(0)\n",
    "# fig, ax = plt.subplots(figsize=(10, 5))\n",
    "# all_trips.plot.bar(stacked=True, ax=ax, rot=0)"
   ]
  },
  {
   "cell_type": "code",
   "execution_count": null,
   "metadata": {},
   "outputs": [],
   "source": [
    "all_trips = pd.pivot_table(data=all_trips, index=['year', 'month'], columns=['remark'], values='count').fillna(0)\n",
    "\n",
    "fig, ax = plt.subplots(figsize=(10, 5))\n",
    "all_trips.plot.bar(stacked=True, ax=ax, rot=0)"
   ]
  },
  {
   "cell_type": "code",
   "execution_count": null,
   "metadata": {},
   "outputs": [],
   "source": [
    "spark = SparkSession.builder.config('spark.executor.cores', '8').config('spark.executor.memory', '80g')\\\n",
    "        .config(\"spark.sql.session.timeZone\", \"UTC\").config('spark.driver.memory', '40g').master(\"local[26]\")\\\n",
    "        .appName(\"wego-daily\").config('spark.driver.extraJavaOptions', '-Duser.timezone=UTC').config('spark.executor.extraJavaOptions', '-Duser.timezone=UTC')\\\n",
    "        .config(\"spark.sql.datetime.java8API.enabled\", \"true\").config(\"spark.sql.execution.arrow.pyspark.enabled\", \"true\")\\\n",
    "        .config(\"spark.sql.autoBroadcastJoinThreshold\", -1)\\\n",
    "        .config(\"spark.driver.maxResultSize\", 0)\\\n",
    "        .config(\"spark.shuffle.spill\", \"true\")\\\n",
    "        .getOrCreate()\n",
    "        \n",
    "# /home/jptalusan/mta_stationing_problem/data/apc/complete-with-remark-wego-daily.apc.parquet\n",
    "f = os.path.join('../data', 'apc', 'complete-with-remark-wego-daily.apc.parquet')\n",
    "apcdata = spark.read.load(f)\n",
    "apcdata.createOrReplaceTempView(\"apc\")\n",
    "# filter subset\n",
    "query = f\"\"\"\n",
    "SELECT trip_id, \n",
    "       transit_date,\n",
    "       year,\n",
    "       remark\n",
    "FROM apc\n",
    "WHERE (transit_date >= '2020-01-01') AND (transit_date <= '2022-04-06')\n",
    "\"\"\"\n",
    "# print(query)\n",
    "\n",
    "apcdata = spark.sql(query)"
   ]
  },
  {
   "cell_type": "code",
   "execution_count": null,
   "metadata": {},
   "outputs": [],
   "source": [
    "df = apcdata.toPandas()"
   ]
  },
  {
   "cell_type": "code",
   "execution_count": null,
   "metadata": {},
   "outputs": [],
   "source": [
    "from copy import deepcopy\n",
    "remarks_df = deepcopy(df)\n",
    "remarks_df['count'] = 1\n",
    "remarks_df['month'] = remarks_df['transit_date'].dt.month\n",
    "# remarks_df = remarks_df.groupby(['trip_id', 'transit_date']).agg({'month':'first', 'year':'first','count':'first', 'remark':pd.Series.mode})\n",
    "remarks_df = remarks_df.groupby(['trip_id', 'transit_date']).first()\n",
    "remarks_df = remarks_df.groupby(['remark', 'month', 'year']).sum().reset_index()"
   ]
  },
  {
   "cell_type": "code",
   "execution_count": null,
   "metadata": {},
   "outputs": [],
   "source": [
    "p_remarks_df = pd.pivot_table(data=remarks_df, index=['year', 'month'], columns=['remark'], values='count').fillna(0)\n",
    "p_remarks_df = p_remarks_df[['clean', 'arrival_time_all_null', 'duplicates', 'load_lt_-5', 'offs_all_null', 'offs_on_error_gt_0.2', 'sync_issues']]\n",
    "fig, ax = plt.subplots(figsize=(15, 5))\n",
    "p_remarks_df.plot.bar(stacked=True, ax=ax, rot=0, color=['#7fc97f','#beaed4','#fdc086','#ffff99','#386cb0','#f0027f','#bf5b17'], edgecolor='black')\n",
    "\n",
    "loc = ticker.MultipleLocator(base=5.0) # this locator puts ticks at regular intervals\n",
    "ax.xaxis.set_major_locator(loc)\n",
    "ax.set_ylabel('counts')\n",
    "fp = '../plots/clean_vs_bad.png'\n",
    "plt.savefig(fp, dpi=200, bbox_inches='tight')\n"
   ]
  },
  {
   "cell_type": "code",
   "execution_count": null,
   "metadata": {},
   "outputs": [],
   "source": [
    "monthDict={1:'Jan', 2:'Feb', 3:'Mar', 4:'Apr', 5:'May', 6:'Jun', 7:'Jul', 8:'Aug', 9:'Sep', 10:'Oct', 11:'Nov', 12:'Dec'}\n",
    "a = p_remarks_df.reset_index(level=[0,1])\n",
    "a['month_str'] = a['month'].apply(lambda x: monthDict[x])"
   ]
  },
  {
   "cell_type": "markdown",
   "metadata": {},
   "source": [
    "# Plot comparisons"
   ]
  },
  {
   "cell_type": "code",
   "execution_count": 223,
   "metadata": {},
   "outputs": [
    {
     "data": {
      "text/html": [
       "<div>\n",
       "<style scoped>\n",
       "    .dataframe tbody tr th:only-of-type {\n",
       "        vertical-align: middle;\n",
       "    }\n",
       "\n",
       "    .dataframe tbody tr th {\n",
       "        vertical-align: top;\n",
       "    }\n",
       "\n",
       "    .dataframe thead th {\n",
       "        text-align: right;\n",
       "    }\n",
       "</style>\n",
       "<table border=\"1\" class=\"dataframe\">\n",
       "  <thead>\n",
       "    <tr style=\"text-align: right;\">\n",
       "      <th>y_error</th>\n",
       "      <th>0.0</th>\n",
       "      <th>1.0</th>\n",
       "      <th>2.0</th>\n",
       "      <th>3.0</th>\n",
       "      <th>4.0</th>\n",
       "      <th>sum</th>\n",
       "      <th>per_correct</th>\n",
       "    </tr>\n",
       "    <tr>\n",
       "      <th>model</th>\n",
       "      <th></th>\n",
       "      <th></th>\n",
       "      <th></th>\n",
       "      <th></th>\n",
       "      <th></th>\n",
       "      <th></th>\n",
       "      <th></th>\n",
       "    </tr>\n",
       "  </thead>\n",
       "  <tbody>\n",
       "    <tr>\n",
       "      <th>BASE</th>\n",
       "      <td>58644.0</td>\n",
       "      <td>48629.0</td>\n",
       "      <td>18512.0</td>\n",
       "      <td>165.0</td>\n",
       "      <td>20.0</td>\n",
       "      <td>125970.0</td>\n",
       "      <td>0.465539</td>\n",
       "    </tr>\n",
       "    <tr>\n",
       "      <th>LSTM</th>\n",
       "      <td>29704.0</td>\n",
       "      <td>17741.0</td>\n",
       "      <td>3044.0</td>\n",
       "      <td>19.0</td>\n",
       "      <td>3.0</td>\n",
       "      <td>50511.0</td>\n",
       "      <td>0.588070</td>\n",
       "    </tr>\n",
       "    <tr>\n",
       "      <th>MLP</th>\n",
       "      <td>60302.0</td>\n",
       "      <td>38159.0</td>\n",
       "      <td>11567.0</td>\n",
       "      <td>17.0</td>\n",
       "      <td>1.0</td>\n",
       "      <td>110046.0</td>\n",
       "      <td>0.547971</td>\n",
       "    </tr>\n",
       "    <tr>\n",
       "      <th>RF</th>\n",
       "      <td>63185.0</td>\n",
       "      <td>38684.0</td>\n",
       "      <td>8157.0</td>\n",
       "      <td>20.0</td>\n",
       "      <td>0.0</td>\n",
       "      <td>110046.0</td>\n",
       "      <td>0.574169</td>\n",
       "    </tr>\n",
       "    <tr>\n",
       "      <th>XGB</th>\n",
       "      <td>62193.0</td>\n",
       "      <td>38649.0</td>\n",
       "      <td>9191.0</td>\n",
       "      <td>10.0</td>\n",
       "      <td>3.0</td>\n",
       "      <td>110046.0</td>\n",
       "      <td>0.565155</td>\n",
       "    </tr>\n",
       "  </tbody>\n",
       "</table>\n",
       "</div>"
      ],
      "text/plain": [
       "y_error      0.0      1.0      2.0    3.0   4.0       sum  per_correct\n",
       "model                                                                 \n",
       "BASE     58644.0  48629.0  18512.0  165.0  20.0  125970.0     0.465539\n",
       "LSTM     29704.0  17741.0   3044.0   19.0   3.0   50511.0     0.588070\n",
       "MLP      60302.0  38159.0  11567.0   17.0   1.0  110046.0     0.547971\n",
       "RF       63185.0  38684.0   8157.0   20.0   0.0  110046.0     0.574169\n",
       "XGB      62193.0  38649.0   9191.0   10.0   3.0  110046.0     0.565155"
      ]
     },
     "execution_count": 223,
     "metadata": {},
     "output_type": "execute_result"
    },
    {
     "data": {
      "image/png": "[encoded data removed]",
      "text/plain": [
       "<Figure size 1080x360 with 1 Axes>"
      ]
     },
     "metadata": {
      "needs_background": "light"
     },
     "output_type": "display_data"
    }
   ],
   "source": [
    "fp = os.path.join('../evaluation', 'any_day_comparisons', 'RF_raw_results.pkl')\n",
    "rf_results = pd.read_pickle(fp)\n",
    "\n",
    "fp = os.path.join('../evaluation', 'any_day_comparisons', 'XGB_raw_results.pkl')\n",
    "xgb_results = pd.read_pickle(fp)\n",
    "\n",
    "fp = os.path.join('../evaluation', 'any_day_comparisons', 'MLP_raw_results.pkl')\n",
    "mlp_results = pd.read_pickle(fp)\n",
    "\n",
    "fp = os.path.join('../evaluation', 'any_day_comparisons', 'LSTM_raw_results.pkl')\n",
    "lstm_results = pd.read_pickle(fp)\n",
    "\n",
    "fp = os.path.join('../evaluation', 'any_day_comparisons', 'BASELINE_raw_results.pkl')\n",
    "baseline_results = pd.read_pickle(fp)\n",
    "\n",
    "# Rename duplicate columns\n",
    "cols=pd.Series(baseline_results.columns)\n",
    "for dup in cols[cols.duplicated()].unique(): \n",
    "    cols[cols[cols == dup].index.values.tolist()] = [dup + '.' + str(i) if i != 0 else dup for i in range(sum(cols == dup))]\n",
    "baseline_results.columns = cols\n",
    "baseline_results = baseline_results.rename({\"y_pred\":\"y_pred_load\", \"y_pred.1\":\"y_pred\"}, axis=1)\n",
    "kfold = 0\n",
    "past = 1\n",
    "n_lstm_units = 256\n",
    "xgb_results.kfold.unique()\n",
    "rf_results = rf_results.query(\"kfold == @kfold\")\n",
    "xgb_results = xgb_results.query(\"kfold == 1\")\n",
    "mlp_results = mlp_results.query(\"kfold == @kfold\")\n",
    "lstm_results = lstm_results.query(\"n_lstm_units == @n_lstm_units\")\n",
    "baseline_results = baseline_results.query(\"past == @past\")\n",
    "\n",
    "rf_results['y_error']        = abs(rf_results['y_true'] - rf_results['y_pred'])\n",
    "xgb_results['y_error']       = abs(xgb_results['y_true'] - xgb_results['y_pred'])\n",
    "mlp_results['y_error']       = abs(mlp_results['y_true'] - mlp_results['y_pred'])\n",
    "lstm_results['y_error']      = abs(lstm_results['y_true'] - lstm_results['y_pred'])\n",
    "baseline_results['y_error']  = abs(baseline_results['y_true'] - baseline_results['y_pred'])\n",
    "rf_results['model'] = 'RF'\n",
    "xgb_results['model'] = 'XGB'\n",
    "mlp_results['model'] = 'MLP'\n",
    "lstm_results['model'] = 'LSTM'\n",
    "baseline_results['model'] = 'BASE'\n",
    "cols = ['model', 'y_error']\n",
    "rf_results = rf_results[cols]\n",
    "xgb_results = xgb_results[cols]\n",
    "mlp_results = mlp_results[cols]\n",
    "lstm_results = lstm_results[cols]\n",
    "baseline_results = baseline_results[cols]\n",
    "all_comparisons = pd.concat([rf_results, xgb_results, mlp_results, lstm_results, baseline_results])\n",
    "all_comparisons['count'] = 1\n",
    "all_comparisons = all_comparisons.groupby(['model', 'y_error']).sum().reset_index()\n",
    "all_comparisons = pd.pivot_table(data=all_comparisons, index=['model'], columns=['y_error'], values='count').fillna(0)\n",
    "fig, ax = plt.subplots(figsize=(15, 5))\n",
    "all_comparisons.plot.bar(stacked=True, ax=ax, rot=0)\n",
    "all_comparisons['sum'] = all_comparisons.sum(axis=1)\n",
    "all_comparisons['per_correct'] = all_comparisons[0.0]/all_comparisons['sum']\n",
    "all_comparisons"
   ]
  },
  {
   "cell_type": "code",
   "execution_count": 4,
   "metadata": {},
   "outputs": [],
   "source": [
    "from sklearn.metrics import mean_squared_error\n",
    "\n",
    "# Define evaluator, requires some time information (merge testX, testY and pred)\n",
    "def generate_results_over_time_window(results_df_arr, grouper):\n",
    "    mse_df = pd.DataFrame()\n",
    "    for i, (k, v) in enumerate(results_df_arr.groupby(grouper)):\n",
    "        tdf = v[['time_window', 'y_pred', 'y_true']].groupby('time_window').agg({'y_pred': list, 'y_true': list})\n",
    "        tdf['mse'] = tdf.apply(lambda x: mean_squared_error(x.y_true, x.y_pred, squared=False), axis=1)\n",
    "        mse_df[i] = tdf['mse']\n",
    "    mse_df['min'] = mse_df.min(axis=1)\n",
    "    mse_df['max'] = mse_df.max(axis=1)\n",
    "    return mse_df"
   ]
  },
  {
   "cell_type": "code",
   "execution_count": 15,
   "metadata": {},
   "outputs": [
    {
     "data": {
      "image/png": "[encoded data removed]",
      "text/plain": [
       "<Figure size 720x360 with 1 Axes>"
      ]
     },
     "metadata": {
      "needs_background": "light"
     },
     "output_type": "display_data"
    }
   ],
   "source": [
    "fp = os.path.join('../evaluation', 'any_day_comparisons', 'RF_raw_results.pkl')\n",
    "rf_results = pd.read_pickle(fp)\n",
    "mse_rf = generate_results_over_time_window(rf_results, 'kfold')\n",
    "\n",
    "fp = os.path.join('../evaluation', 'any_day_comparisons', 'XGB_raw_results.pkl')\n",
    "xgb_results = pd.read_pickle(fp)\n",
    "mse_xgb = generate_results_over_time_window(xgb_results, 'kfold')\n",
    "\n",
    "fp = os.path.join('../evaluation', 'any_day_comparisons', 'MLP_raw_results.pkl')\n",
    "mlp_results = pd.read_pickle(fp)\n",
    "mse_mlp = generate_results_over_time_window(mlp_results, 'kfold')\n",
    "\n",
    "fp = os.path.join('../evaluation', 'any_day_comparisons', 'LSTM_raw_results.pkl')\n",
    "lstm_results = pd.read_pickle(fp)\n",
    "mse_lstm = generate_results_over_time_window(lstm_results, 'n_lstm_units')\n",
    "\n",
    "fp = os.path.join('../evaluation', 'any_day_comparisons', 'BASELINE_raw_results.pkl')\n",
    "baseline_results = pd.read_pickle(fp)\n",
    "# Rename duplicate columns\n",
    "cols=pd.Series(baseline_results.columns)\n",
    "for dup in cols[cols.duplicated()].unique(): \n",
    "    cols[cols[cols == dup].index.values.tolist()] = [dup + '.' + str(i) if i != 0 else dup for i in range(sum(cols == dup))]\n",
    "baseline_results.columns = cols\n",
    "baseline_results = baseline_results.rename({\"y_pred\":\"y_pred_load\", \"y_pred.1\":\"y_pred\"}, axis=1)\n",
    "mse_baseline = generate_results_over_time_window(baseline_results, 'past')\n",
    "\n",
    "fig, ax = plt.subplots(figsize=(10, 5))\n",
    "mse_rf[4:].plot(y='min', ax=ax, marker='o', label='RF')\n",
    "mse_xgb[4:].plot(y='min', ax=ax, marker='*', label='Xgboost')\n",
    "mse_mlp[4:].plot(y='max', ax=ax, marker='x', label='MLP')\n",
    "# mse_lstm[4:].plot(y='min', ax=ax, marker='^', label='LSTM')\n",
    "mse_baseline[4:].plot(y='min', ax=ax, marker='s', label='Baseline')\n",
    "\n",
    "ax.set_ylabel('RMSE')\n",
    "ax.set_xlabel('time windows')\n",
    "fp = '../plots/comparisons_triplevel.png'\n",
    "plt.savefig(fp, dpi=200, bbox_inches='tight')"
   ]
  },
  {
   "cell_type": "code",
   "execution_count": null,
   "metadata": {},
   "outputs": [],
   "source": [
    "fp = os.path.join('../evaluation', 'any_day_comparisons', 'RF_raw_results.pkl')\n",
    "rf_results = pd.read_pickle(fp)\n",
    "\n",
    "fp = os.path.join('../evaluation', 'any_day_comparisons', 'XGB_raw_results.pkl')\n",
    "xgb_results = pd.read_pickle(fp)\n",
    "\n",
    "fp = os.path.join('../evaluation', 'any_day_comparisons', 'MLP_raw_results.pkl')\n",
    "mlp_results = pd.read_pickle(fp)\n",
    "\n",
    "fp = os.path.join('../evaluation', 'any_day_comparisons', 'LSTM_raw_results.pkl')\n",
    "lstm_results = pd.read_pickle(fp)\n",
    "\n",
    "fp = os.path.join('../evaluation', 'any_day_comparisons', 'BASELINE_raw_results.pkl')\n",
    "baseline_results = pd.read_pickle(fp)\n",
    "\n",
    "# Rename duplicate columns\n",
    "cols=pd.Series(baseline_results.columns)\n",
    "for dup in cols[cols.duplicated()].unique(): \n",
    "    cols[cols[cols == dup].index.values.tolist()] = [dup + '.' + str(i) if i != 0 else dup for i in range(sum(cols == dup))]\n",
    "baseline_results.columns = cols\n",
    "baseline_results = baseline_results.rename({\"y_pred\":\"y_pred_load\", \"y_pred.1\":\"y_pred\"}, axis=1)"
   ]
  },
  {
   "cell_type": "code",
   "execution_count": null,
   "metadata": {},
   "outputs": [],
   "source": [
    "kfold = 0\n",
    "past = 1\n",
    "n_lstm_units = 256"
   ]
  },
  {
   "cell_type": "code",
   "execution_count": null,
   "metadata": {},
   "outputs": [],
   "source": [
    "xgb_results.kfold.unique()"
   ]
  },
  {
   "cell_type": "code",
   "execution_count": null,
   "metadata": {},
   "outputs": [],
   "source": [
    "rf_results = rf_results.query(\"kfold == @kfold\")\n",
    "xgb_results = xgb_results.query(\"kfold == 1\")\n",
    "mlp_results = mlp_results.query(\"kfold == @kfold\")\n",
    "lstm_results = lstm_results.query(\"n_lstm_units == @n_lstm_units\")\n",
    "baseline_results = baseline_results.query(\"past == @past\")\n",
    "\n",
    "rf_results['y_error']        = abs(rf_results['y_true'] - rf_results['y_pred'])\n",
    "xgb_results['y_error']       = abs(xgb_results['y_true'] - xgb_results['y_pred'])\n",
    "mlp_results['y_error']       = abs(mlp_results['y_true'] - mlp_results['y_pred'])\n",
    "lstm_results['y_error']      = abs(lstm_results['y_true'] - lstm_results['y_pred'])\n",
    "baseline_results['y_error']  = abs(baseline_results['y_true'] - baseline_results['y_pred'])"
   ]
  },
  {
   "cell_type": "code",
   "execution_count": null,
   "metadata": {},
   "outputs": [],
   "source": [
    "rf_results['model'] = 'RF'\n",
    "xgb_results['model'] = 'XGB'\n",
    "mlp_results['model'] = 'MLP'\n",
    "lstm_results['model'] = 'LSTM'\n",
    "baseline_results['model'] = 'BASE'\n",
    "cols = ['model', 'y_error']\n",
    "rf_results = rf_results[cols]\n",
    "xgb_results = xgb_results[cols]\n",
    "mlp_results = mlp_results[cols]\n",
    "lstm_results = lstm_results[cols]\n",
    "baseline_results = baseline_results[cols]"
   ]
  },
  {
   "cell_type": "code",
   "execution_count": null,
   "metadata": {},
   "outputs": [],
   "source": [
    "all_comparisons = pd.concat([rf_results, xgb_results, mlp_results, lstm_results, baseline_results])\n",
    "all_comparisons['count'] = 1"
   ]
  },
  {
   "cell_type": "code",
   "execution_count": null,
   "metadata": {},
   "outputs": [],
   "source": [
    "all_comparisons = all_comparisons.groupby(['model', 'y_error']).sum().reset_index()\n",
    "all_comparisons = pd.pivot_table(data=all_comparisons, index=['model'], columns=['y_error'], values='count').fillna(0)\n",
    "fig, ax = plt.subplots(figsize=(15, 5))\n",
    "all_comparisons.plot.bar(stacked=True, ax=ax, rot=0)"
   ]
  },
  {
   "cell_type": "code",
   "execution_count": null,
   "metadata": {},
   "outputs": [],
   "source": [
    "all_comparisons['sum'] = all_comparisons.sum(axis=1)"
   ]
  },
  {
   "cell_type": "code",
   "execution_count": null,
   "metadata": {},
   "outputs": [],
   "source": [
    "all_comparisons['per_correct'] = all_comparisons[0.0]/all_comparisons['sum']"
   ]
  },
  {
   "cell_type": "code",
   "execution_count": null,
   "metadata": {},
   "outputs": [],
   "source": [
    "all_comparisons"
   ]
  },
  {
   "cell_type": "code",
   "execution_count": null,
   "metadata": {},
   "outputs": [],
   "source": []
  }
 ],
 "metadata": {
  "kernelspec": {
   "display_name": "Python 3.9.13 ('py39')",
   "language": "python",
   "name": "python3"
  },
  "language_info": {
   "codemirror_mode": {
    "name": "ipython",
    "version": 3
   },
   "file_extension": ".py",
   "mimetype": "text/x-python",
   "name": "python",
   "nbconvert_exporter": "python",
   "pygments_lexer": "ipython3",
   "version": "3.9.13"
  },
  "orig_nbformat": 4,
  "vscode": {
   "interpreter": {
    "hash": "88d12193eb5d2fbe298f9bb9e457ac6a535b56551d0f537fc14a1636657a2895"
   }
  }
 },
 "nbformat": 4,
 "nbformat_minor": 2
}
