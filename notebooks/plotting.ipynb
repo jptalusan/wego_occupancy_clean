{
 "cells": [
  {
   "cell_type": "code",
   "execution_count": 165,
   "metadata": {},
   "outputs": [],
   "source": [
    "%matplotlib inline"
   ]
  },
  {
   "cell_type": "code",
   "execution_count": 166,
   "metadata": {},
   "outputs": [],
   "source": [
    "import os\n",
    "os.chdir(\"/home/jptalusan/mta_stationing_problem\")\n",
    "import pandas as pd\n",
    "import matplotlib.pyplot as plt\n",
    "import joblib\n",
    "from sklearn.metrics import mean_squared_error\n",
    "from ast import literal_eval"
   ]
  },
  {
   "cell_type": "markdown",
   "metadata": {},
   "source": [
    "# Plotting Same Day stop level evaluation"
   ]
  },
  {
   "cell_type": "code",
   "execution_count": 167,
   "metadata": {},
   "outputs": [],
   "source": [
    "## Separate mean and max from baseline\n",
    "fp = os.path.join('models', 'same_day', 'evaluation', 'baseline_multi_stop_10P_xF_results_max_mean.pkl')\n",
    "df = pd.read_pickle(fp)\n",
    "df = df.bfill()\n",
    "\n",
    "df_max = df[['trip_id', 'y_true', 'y_pred_max']]\n",
    "df_max = df_max.rename({'y_pred_max':'y_pred'}, axis=1)\n",
    "fp = os.path.join('models', 'same_day', 'evaluation', 'baseline_multi_stop_10P_xF_results_max.pkl')\n",
    "df_max.to_pickle(fp)\n",
    "\n",
    "df_mean = df[['trip_id', 'y_true', 'y_pred_ave']]\n",
    "df_mean = df_mean.rename({'y_pred_ave':'y_pred'}, axis=1)\n",
    "fp = os.path.join('models', 'same_day', 'evaluation', 'baseline_multi_stop_10P_xF_results_mean.pkl')\n",
    "df_mean.to_pickle(fp)"
   ]
  },
  {
   "cell_type": "code",
   "execution_count": null,
   "metadata": {},
   "outputs": [],
   "source": [
    "\n",
    "\n",
    "def get_mse(x, length=None):\n",
    "    if not length:\n",
    "        y_true = [int(float(y)) for y in x.y_true]\n",
    "        y_pred = [int(float(y)) for y in x.y_pred]\n",
    "    else:\n",
    "        if len(x.y_true) < length:\n",
    "            length = len(x.y_true)\n",
    "        y_true = [int(float(y)) for y in x.y_true[0:length]]\n",
    "        y_pred = [int(float(y)) for y in x.y_pred[0:length]]\n",
    "        \n",
    "    return mean_squared_error(y_true, y_pred)\n",
    "        \n",
    "res_df_arr = []\n",
    "multi_stop_results = ['SIMPLE_LSTM_multi_stop_5P_xF_results.pkl', 'baseline_multi_stop_10P_xF_results_max.pkl', 'baseline_multi_stop_10P_xF_results_mean.pkl']\n",
    "for ms_result in multi_stop_results:\n",
    "    fp = os.path.join('models/same_day/evaluation/', ms_result)\n",
    "    res_df = pd.read_pickle(fp)[:200].bfill()\n",
    "    res_df = res_df.groupby('trip_id').agg(list)\n",
    "    res_df['mse'] = res_df.apply(lambda x: get_mse(x), axis=1)\n",
    "    res_df['mse_1'] = res_df.apply(lambda x: get_mse(x, 1), axis=1)\n",
    "    res_df['mse_5'] = res_df.apply(lambda x: get_mse(x, 5), axis=1)\n",
    "    res_df['mse_10'] = res_df.apply(lambda x: get_mse(x, 10), axis=1)\n",
    "    res_df_arr.append(res_df)"
   ]
  },
  {
   "cell_type": "code",
   "execution_count": 170,
   "metadata": {},
   "outputs": [
    {
     "name": "stdout",
     "output_type": "stream",
     "text": [
      "['', 'mse_1', '', 'mse_5', '', 'mse_10', '', 'mse', '']\n"
     ]
    },
    {
     "data": {
      "image/png": "[encoded data removed]",
      "text/plain": [
       "<Figure size 720x360 with 1 Axes>"
      ]
     },
     "metadata": {
      "needs_background": "light"
     },
     "output_type": "display_data"
    }
   ],
   "source": [
    "import matplotlib.pyplot as plt\n",
    "# Plot ave MSE\n",
    "fig, ax = plt.subplots(figsize=(10, 5))\n",
    "\n",
    "marker = ['o', 's', '^', 'x']\n",
    "color = ['r', 'g', 'b', 'k']\n",
    "linestyle = ['-', '--', '-.', ':']\n",
    "for i, line in enumerate(res_df_arr):\n",
    "    \n",
    "    res_df_arr[i][['mse_1', 'mse_5', 'mse_10', 'mse']].mean().plot(ax=ax, marker=marker[i], color=color[i], linestyle=linestyle[i])\n",
    "    # line.set_marker(marker[i])\n",
    "    # line.set_color(color[i])\n",
    "#     # line.set_linestyle(linestyle[i])\n",
    "labels = [item.get_text() for item in ax.get_xticklabels()]\n",
    "print(labels)\n",
    "labels[1] = 1\n",
    "labels[3] = 5\n",
    "labels[5] = 10\n",
    "labels[7] = 'ALL'\n",
    "\n",
    "ax.set_xticklabels(labels)\n",
    "\n",
    "ax.set_ylabel('RMSE')\n",
    "ax.set_xlabel('# of stops in the future')\n",
    "from matplotlib.lines import Line2D\n",
    "custom_lines = [\n",
    "                Line2D([0], [0], color='red', lw=1, marker='o'),\n",
    "                Line2D([0], [0], color='green', lw=1, marker='s'),\n",
    "                Line2D([0], [0], color='blue', lw=1, marker='^'),\n",
    "                Line2D([0], [0], color='k', lw=1, marker='x'),\n",
    "               ]\n",
    "ax.set_ylim(-0.2, 2.5)\n",
    "ax.legend(custom_lines, ['lstm', 'baseline_max', 'baseline_mean'])\n",
    "ax.set_title(\"Same day prediction of 5 bins (2000 trips)\")\n",
    "fp = os.path.join('plots', 'stop_level_prediction.png')\n",
    "plt.savefig(fp, dpi=200, bbox_inches='tight')"
   ]
  },
  {
   "cell_type": "markdown",
   "metadata": {},
   "source": [
    "# Comparing Day Ahead and Any Day with baselines"
   ]
  },
  {
   "cell_type": "code",
   "execution_count": 77,
   "metadata": {},
   "outputs": [],
   "source": [
    "# Define evaluator, requires some time information (merge testX, testY and pred)\n",
    "def generate_results_over_time_window(results_df_arr):\n",
    "    mse_df = pd.DataFrame()\n",
    "    for i, results_df in enumerate(results_df_arr):\n",
    "        tdf = results_df[['time_window', 'y_pred', 'y_true']].groupby('time_window').agg({'y_pred': list, 'y_true': list})\n",
    "        tdf['mse'] = tdf.apply(lambda x: mean_squared_error(x.y_true, x.y_pred, squared=False), axis=1)\n",
    "        mse_df[i] = tdf['mse']\n",
    "    return mse_df"
   ]
  },
  {
   "cell_type": "code",
   "execution_count": 31,
   "metadata": {},
   "outputs": [
    {
     "name": "stdout",
     "output_type": "stream",
     "text": [
      "/media/seconddrive/mta_stationing_problem\n"
     ]
    }
   ],
   "source": [
    "import os\n",
    "# os.chdir(\"/media/seconddrive/mta_stationing_problem\")\n",
    "import sys\n",
    "sys.path.insert(0,'..')\n",
    "\n",
    "print(os.getcwd())\n",
    "from src.config import *\n",
    "from pandas.core.common import SettingWithCopyWarning\n",
    "from src import data_utils, triplevel_utils\n",
    "from src import day_ahead_prediction_utils, any_day_prediction_utils\n",
    "import warnings\n",
    "warnings.simplefilter(action=\"ignore\", category=SettingWithCopyWarning)\n",
    "warnings.simplefilter(action='ignore', category=FutureWarning)\n",
    "import pandas as pd\n",
    "pd.set_option('display.max_columns', None)\n",
    "import xgboost as xgb\n",
    "import importlib\n",
    "importlib.reload(data_utils)\n",
    "\n",
    "from sklearn.metrics import classification_report, confusion_matrix, mean_squared_error\n",
    "from sklearn.model_selection import train_test_split, StratifiedKFold, cross_val_score"
   ]
  },
  {
   "cell_type": "markdown",
   "metadata": {},
   "source": [
    "## Day Ahead"
   ]
  },
  {
   "cell_type": "code",
   "execution_count": 161,
   "metadata": {},
   "outputs": [
    {
     "name": "stdout",
     "output_type": "stream",
     "text": [
      "ohe_encoder is for the following column order: ['route_id_direction', 'is_holiday', 'dayofweek']\n"
     ]
    }
   ],
   "source": [
    "processed_triplevel = os.path.join('data', 'processed', 'triplevel_df.parquet')\n",
    "df = pd.read_parquet(processed_triplevel, engine='auto')\n",
    "df = df.dropna()\n",
    "# Removing time_window in case a different one will be used\n",
    "df = df.drop(['time_window', 'load'], axis=1)\n",
    "df = df.reset_index(drop=True)\n",
    "df = df.sort_values(['block_abbr', 'transit_date', 'arrival_time', 'route_id_direction'])\n",
    "\n",
    "FOLDS = 3\n",
    "RANDOM_SEED = 100\n",
    "WINDOW = 30\n",
    "PAST_TRIPS = 5\n",
    "TARGET = 'y_reg100'\n",
    "\n",
    "cat_features = ['route_id_direction', 'is_holiday', 'dayofweek']\n",
    "ord_features = ['year', 'month', 'hour', 'day']\n",
    "num_features = ['temperature', 'humidity', 'precipitation_intensity', 'avg_sched_headway', 'time_window', 'traffic_speed',\n",
    "                'load_pct_change', 'act_headway_pct_change', 'avg_past_act_headway', 'avg_past_trips_loads']\n",
    "\n",
    "tdf = triplevel_utils.generate_new_day_ahead_features(df, time_window=WINDOW, past_trips=PAST_TRIPS, target=TARGET)\n",
    "tdf = tdf.groupby(['transit_date', 'route_id_direction', 'time_window']).agg({\"year\":\"first\", \n",
    "                                                                              \"month\":\"first\",\n",
    "                                                                              \"day\": \"first\",\n",
    "                                                                              \"hour\":\"first\",\n",
    "                                                                              \"is_holiday\": \"first\",\n",
    "                                                                              \"dayofweek\":\"first\",\n",
    "                                                                              \"temperature\":\"mean\", \n",
    "                                                                              \"humidity\":\"mean\",\n",
    "                                                                              \"precipitation_intensity\": \"mean\",\n",
    "                                                                              \"traffic_speed\":\"mean\",\n",
    "                                                                              \"scheduled_headway\": \"max\",\n",
    "                                                                              \"load_pct_change\": \"max\",\n",
    "                                                                              \"act_headway_pct_change\": \"max\",\n",
    "                                                                              \"avg_past_act_headway\": \"max\",\n",
    "                                                                              \"avg_past_trips_loads\": \"max\",\n",
    "                                                                              TARGET: \"max\" })\n",
    "tdf = tdf.reset_index(level=[0,1,2])\n",
    "print(\"ohe_encoder is for the following column order:\", cat_features)\n",
    "rf_df, ix_map, ohe_encoder, percentiles = triplevel_utils.prepare_df_for_training(tdf, cat_features, ord_features, target=TARGET)\n",
    "target_load = rf_df[[TARGET]]\n",
    "drop_cols = ['route_id', 'route_direction_name', 'block_abbr', 'y_reg100', 'y_reg095', 'transit_date', 'is_holiday', 'route_id_direction', 'actual_headways', 'trip_id', 'arrival_time']\n",
    "drop_cols = [col for col in drop_cols if col in rf_df.columns]\n",
    "rf_df = rf_df.drop(drop_cols, axis=1)\n",
    "\n",
    "y = rf_df.pop('y_class')\n",
    "X = rf_df"
   ]
  },
  {
   "cell_type": "code",
   "execution_count": 162,
   "metadata": {},
   "outputs": [
    {
     "name": "stdout",
     "output_type": "stream",
     "text": [
      "{'n_estimators': 500, 'max_depth': 20, 'learning_rate': 0.05, 'gamma': 0.1}\n"
     ]
    }
   ],
   "source": [
    "# # Grid search results\n",
    "fp = os.path.join('models', 'day_ahead', 'XGBOOST_RANDSEARCHCV_Day_Ahead_012.pkl')\n",
    "search_results = joblib.load(fp)\n",
    "print(search_results.best_params_)"
   ]
  },
  {
   "cell_type": "code",
   "execution_count": 163,
   "metadata": {},
   "outputs": [],
   "source": [
    "columns = rf_df.columns\n",
    "\n",
    "n_estimators  = search_results.best_params_['n_estimators']\n",
    "max_depth     = search_results.best_params_['max_depth']\n",
    "learning_rate = search_results.best_params_['learning_rate']\n",
    "gamma         = search_results.best_params_['gamma']\n",
    "objective = 'multi:softmax'\n",
    "\n",
    "skf = StratifiedKFold(n_splits=FOLDS, random_state=RANDOM_SEED, shuffle=True)\n",
    "skf.get_n_splits(X, y)\n",
    "\n",
    "results_df_arr = []\n",
    "for train_index, test_index in skf.split(X, y):\n",
    "    _X_train, _X_test = X.iloc[train_index], X.iloc[test_index]\n",
    "    _y_train, _y_test = y.iloc[train_index], y.iloc[test_index]\n",
    "    \n",
    "    model = xgb.XGBClassifier(n_estimators=n_estimators, max_depth=max_depth,\n",
    "                              learning_rate=learning_rate, use_label_encoder=False, \n",
    "                              gamma=gamma, num_class=3,\n",
    "                              objective=objective, eval_metric='mlogloss')\n",
    "    # model = xgb.XGBClassifier(use_label_encoder=False, objective=objective, eval_metric='mlogloss', num_class=3)\n",
    "    model.fit(_X_train, _y_train, verbose=1)\n",
    "\n",
    "    preds = model.predict(_X_test)\n",
    "    _X_test = pd.DataFrame(_X_test, columns=columns)\n",
    "    _X_test['y_pred'] = preds\n",
    "    _X_test['y_true'] = _y_test\n",
    "    res_df = _X_test[['time_window', 'y_true', 'y_pred']]\n",
    "    results_df_arr.append(res_df)\n",
    "\n",
    "mse_df = generate_results_over_time_window(results_df_arr)\n",
    "fp = os.path.join('evaluation', 'day_ahead_012_results.pkl')\n",
    "mse_df.to_pickle(fp)"
   ]
  },
  {
   "cell_type": "code",
   "execution_count": 164,
   "metadata": {},
   "outputs": [
    {
     "data": {
      "image/png": "[encoded data removed]",
      "text/plain": [
       "<Figure size 1000x500 with 1 Axes>"
      ]
     },
     "metadata": {},
     "output_type": "display_data"
    }
   ],
   "source": [
    "import matplotlib as mpl\n",
    "mpl.rcParams.update(mpl.rcParamsDefault)\n",
    "\n",
    "fig, ax = plt.subplots(figsize=(10, 5))\n",
    "mse_df['time_window'] = mse_df.index\n",
    "mse_df['time_window'].to_numpy()\n",
    "mse_df['time_window'] = mse_df['time_window'].to_numpy().astype('int')\n",
    "mse_df = mse_df.reset_index(drop=True).set_index('time_window')\n",
    "\n",
    "mse_df.T.boxplot(ax=ax)\n",
    "\n",
    "ax.set_title(\"Day Ahead\")\n",
    "ax.set_ylabel(\"Root Mean Square Error\")\n",
    "ax.set_xlabel(\"30 minute time windows\")\n",
    "ax.set_ylim(0.0, 2.5)\n",
    "\n",
    "fp = os.path.join('plots', 'day_ahead_012.png')\n",
    "plt.savefig(fp, dpi=200, bbox_inches='tight')"
   ]
  },
  {
   "cell_type": "code",
   "execution_count": 99,
   "metadata": {},
   "outputs": [],
   "source": [
    "rf_df, ix_map, ohe_encoder, percentiles = triplevel_utils.prepare_df_for_training(tdf, cat_features, ord_features, target=TARGET)\n",
    "rf_df, percentiles = triplevel_utils.adjust_bins(rf_df, TARGET=TARGET, percentiles=percentiles)\n",
    "drop_cols = ['route_id', 'route_direction_name', 'block_abbr', 'y_reg100', 'y_reg095', 'transit_date', 'is_holiday', 'route_id_direction']\n",
    "drop_cols = [col for col in drop_cols if col in rf_df.columns]\n",
    "rf_df = rf_df.drop(drop_cols, axis=1)\n",
    "rf_df = rf_df[rf_df['y_class'] >= 2]\n",
    "\n",
    "y = rf_df.pop('y_class')\n",
    "y = y - 2\n",
    "X = rf_df"
   ]
  },
  {
   "cell_type": "code",
   "execution_count": 100,
   "metadata": {},
   "outputs": [
    {
     "data": {
      "image/png": "[encoded data removed]",
      "text/plain": [
       "<Figure size 1000x500 with 1 Axes>"
      ]
     },
     "metadata": {},
     "output_type": "display_data"
    }
   ],
   "source": [
    "columns = rf_df.columns\n",
    "\n",
    "# n_estimators  = search_results.best_params_['n_estimators']\n",
    "# max_depth     = search_results.best_params_['max_depth']\n",
    "# learning_rate = search_results.best_params_['learning_rate']\n",
    "# gamma         = search_results.best_params_['gamma']\n",
    "objective = 'multi:softmax'\n",
    "\n",
    "skf = StratifiedKFold(n_splits=FOLDS, random_state=RANDOM_SEED, shuffle=True)\n",
    "skf.get_n_splits(X, y)\n",
    "\n",
    "results_df_arr = []\n",
    "for train_index, test_index in skf.split(X, y):\n",
    "    _X_train, _X_test = X.iloc[train_index], X.iloc[test_index]\n",
    "    _y_train, _y_test = y.iloc[train_index], y.iloc[test_index]\n",
    "    \n",
    "    # model = xgb.XGBClassifier(n_estimators=n_estimators, max_depth=max_depth,\n",
    "    #                           learning_rate=learning_rate, use_label_encoder=False, \n",
    "    #                           gamma=gamma, num_class=3,\n",
    "    #                           objective=objective, eval_metric='mlogloss')\n",
    "    model = xgb.XGBClassifier(use_label_encoder=False, objective=objective, eval_metric='mlogloss', num_class=3)\n",
    "    model.fit(_X_train, _y_train, verbose=1)\n",
    "\n",
    "    preds = model.predict(_X_test)\n",
    "    _X_test = pd.DataFrame(_X_test, columns=columns)\n",
    "    _X_test['y_pred'] = preds\n",
    "    _X_test['y_true'] = _y_test\n",
    "    res_df = _X_test[['time_window', 'y_true', 'y_pred']]\n",
    "    results_df_arr.append(res_df)\n",
    "\n",
    "mse_df = generate_results_over_time_window(results_df_arr)\n",
    "fp = os.path.join('evaluation', 'day_ahead_234_results.pkl')\n",
    "mse_df.to_pickle(fp)\n",
    "\n",
    "fig, ax = plt.subplots(figsize=(10, 5))\n",
    "mse_df['time_window'] = mse_df.index\n",
    "mse_df['time_window'].to_numpy()\n",
    "mse_df['time_window'] = mse_df['time_window'].to_numpy().astype('int')\n",
    "mse_df = mse_df.reset_index(drop=True).set_index('time_window')\n",
    "\n",
    "mse_df.T.boxplot(ax=ax)\n",
    "\n",
    "ax.set_title(\"Day Ahead, bins: 234\")\n",
    "ax.set_ylabel(\"Root Mean Square Error\")\n",
    "ax.set_xlabel(\"30 minute time windows\")\n",
    "ax.set_ylim(0.0, 2.5)\n",
    "\n",
    "fp = os.path.join('plots', 'day_ahead_simple_234.png')\n",
    "plt.savefig(fp, dpi=200, bbox_inches='tight')"
   ]
  },
  {
   "cell_type": "markdown",
   "metadata": {},
   "source": [
    "## Any Ahead"
   ]
  },
  {
   "cell_type": "code",
   "execution_count": 101,
   "metadata": {},
   "outputs": [
    {
     "name": "stdout",
     "output_type": "stream",
     "text": [
      "ohe_encoder is for the following column order: ['route_id_direction', 'is_holiday', 'dayofweek']\n"
     ]
    }
   ],
   "source": [
    "processed_triplevel = os.path.join('data', 'processed', 'triplevel_df.parquet')\n",
    "df = pd.read_parquet(processed_triplevel, engine='auto')\n",
    "df = df.dropna()\n",
    "# Removing time_window in case a different one will be used\n",
    "df = df.drop(['time_window', 'load'], axis=1)\n",
    "df = df.reset_index(drop=True)\n",
    "df = df.sort_values(['block_abbr', 'transit_date', 'arrival_time', 'route_id_direction'])\n",
    "\n",
    "FOLDS = 3\n",
    "RANDOM_SEED = 100\n",
    "WINDOW = 30\n",
    "PAST_TRIPS = 5\n",
    "TARGET = 'y_reg100'\n",
    "\n",
    "cat_features = ['route_id_direction', 'is_holiday', 'dayofweek']\n",
    "ord_features = ['year', 'month', 'hour', 'day']\n",
    "num_features = ['temperature', 'humidity', 'precipitation_intensity', 'avg_sched_headway', 'time_window', 'traffic_speed']\n",
    "\n",
    "tdf = triplevel_utils.generate_new_day_ahead_features(df, time_window=WINDOW, past_trips=PAST_TRIPS, target=TARGET)\n",
    "tdf = tdf.groupby(['transit_date', 'route_id_direction', 'time_window']).agg({\"year\":\"first\", \n",
    "                                                                              \"month\":\"first\",\n",
    "                                                                              \"day\": \"first\",\n",
    "                                                                              \"hour\":\"first\",\n",
    "                                                                              \"is_holiday\": \"first\",\n",
    "                                                                              \"dayofweek\":\"first\",\n",
    "                                                                              \"temperature\":\"mean\", \n",
    "                                                                              \"humidity\":\"mean\",\n",
    "                                                                              \"precipitation_intensity\": \"mean\",\n",
    "                                                                              \"traffic_speed\":\"mean\",\n",
    "                                                                              \"scheduled_headway\": \"max\",\n",
    "                                                                              TARGET: \"max\" })\n",
    "tdf = tdf.reset_index(level=[0,1,2])\n",
    "print(\"ohe_encoder is for the following column order:\", cat_features)\n",
    "rf_df, ix_map, ohe_encoder, percentiles = triplevel_utils.prepare_df_for_training(tdf, cat_features, ord_features, target=TARGET)\n",
    "target_load = rf_df[[TARGET]]\n",
    "drop_cols = ['route_id', 'route_direction_name', 'block_abbr', 'y_reg100', 'y_reg095', 'transit_date', 'is_holiday', 'route_id_direction', 'actual_headways', 'trip_id', 'arrival_time']\n",
    "drop_cols = [col for col in drop_cols if col in rf_df.columns]\n",
    "rf_df = rf_df.drop(drop_cols, axis=1)\n",
    "\n",
    "y = rf_df.pop('y_class')\n",
    "X = rf_df"
   ]
  },
  {
   "cell_type": "code",
   "execution_count": 102,
   "metadata": {},
   "outputs": [
    {
     "name": "stdout",
     "output_type": "stream",
     "text": [
      "{'n_estimators': 500, 'max_depth': 20, 'learning_rate': 0.05, 'gamma': 0.1}\n"
     ]
    }
   ],
   "source": [
    "# Grid search results\n",
    "fp = os.path.join('models', 'day_ahead', 'XGBOOST_RANDSEARCHCV_Day_Ahead_012.pkl')\n",
    "search_results = joblib.load(fp)\n",
    "print(search_results.best_params_)"
   ]
  },
  {
   "cell_type": "code",
   "execution_count": 103,
   "metadata": {},
   "outputs": [],
   "source": [
    "columns = rf_df.columns\n",
    "\n",
    "n_estimators  = search_results.best_params_['n_estimators']\n",
    "max_depth     = search_results.best_params_['max_depth']\n",
    "learning_rate = search_results.best_params_['learning_rate']\n",
    "gamma         = search_results.best_params_['gamma']\n",
    "objective = 'multi:softmax'\n",
    "\n",
    "skf = StratifiedKFold(n_splits=FOLDS, random_state=RANDOM_SEED, shuffle=True)\n",
    "skf.get_n_splits(X, y)\n",
    "\n",
    "results_df_arr = []\n",
    "for train_index, test_index in skf.split(X, y):\n",
    "    _X_train, _X_test = X.iloc[train_index], X.iloc[test_index]\n",
    "    _y_train, _y_test = y.iloc[train_index], y.iloc[test_index]\n",
    "    \n",
    "    # model = xgb.XGBClassifier(n_estimators=n_estimators, max_depth=max_depth,\n",
    "    #                           learning_rate=learning_rate, use_label_encoder=False, \n",
    "    #                           gamma=gamma, num_class=3,\n",
    "    #                           objective=objective, eval_metric='mlogloss')\n",
    "    model = xgb.XGBClassifier(use_label_encoder=False, objective=objective, eval_metric='mlogloss', num_class=3)\n",
    "    model.fit(_X_train, _y_train, verbose=1)\n",
    "\n",
    "    preds = model.predict(_X_test)\n",
    "    _X_test = pd.DataFrame(_X_test, columns=columns)\n",
    "    _X_test['y_pred'] = preds\n",
    "    _X_test['y_true'] = _y_test\n",
    "    res_df = _X_test[['time_window', 'y_true', 'y_pred']]\n",
    "    results_df_arr.append(res_df)\n",
    "\n",
    "mse_df = generate_results_over_time_window(results_df_arr)\n",
    "fp = os.path.join('evaluation', 'any_day_012_results.pkl')\n",
    "mse_df.to_pickle(fp)"
   ]
  },
  {
   "cell_type": "code",
   "execution_count": 104,
   "metadata": {},
   "outputs": [
    {
     "data": {
      "image/png": "[encoded data removed]",
      "text/plain": [
       "<Figure size 1000x500 with 1 Axes>"
      ]
     },
     "metadata": {},
     "output_type": "display_data"
    }
   ],
   "source": [
    "import matplotlib as mpl\n",
    "mpl.rcParams.update(mpl.rcParamsDefault)\n",
    "\n",
    "fig, ax = plt.subplots(figsize=(10, 5))\n",
    "mse_df['time_window'] = mse_df.index\n",
    "mse_df['time_window'].to_numpy()\n",
    "mse_df['time_window'] = mse_df['time_window'].to_numpy().astype('int')\n",
    "mse_df = mse_df.reset_index(drop=True).set_index('time_window')\n",
    "\n",
    "mse_df.T.boxplot(ax=ax)\n",
    "\n",
    "ax.set_title(\"Any Day, bins:012\")\n",
    "ax.set_ylabel(\"Root Mean Square Error\")\n",
    "ax.set_xlabel(\"30 minute time windows\")\n",
    "ax.set_ylim(0.0, 2.5)\n",
    "\n",
    "fp = os.path.join('plots', 'any_day_simple_012.png')\n",
    "plt.savefig(fp, dpi=200, bbox_inches='tight')"
   ]
  },
  {
   "cell_type": "code",
   "execution_count": 112,
   "metadata": {},
   "outputs": [],
   "source": [
    "rf_df, ix_map, ohe_encoder, percentiles = triplevel_utils.prepare_df_for_training(tdf, cat_features, ord_features, target=TARGET)\n",
    "rf_df, percentiles = triplevel_utils.adjust_bins(rf_df, TARGET=TARGET, percentiles=percentiles)\n",
    "drop_cols = ['route_id', 'route_direction_name', 'block_abbr', 'y_reg100', 'y_reg095', 'transit_date', 'is_holiday', 'route_id_direction']\n",
    "drop_cols = [col for col in drop_cols if col in rf_df.columns]\n",
    "rf_df = rf_df.drop(drop_cols, axis=1)\n",
    "rf_df = rf_df[rf_df['y_class'] >= 2]\n",
    "\n",
    "y = rf_df.pop('y_class')\n",
    "y = y - 2\n",
    "X = rf_df"
   ]
  },
  {
   "cell_type": "code",
   "execution_count": 115,
   "metadata": {},
   "outputs": [
    {
     "data": {
      "image/png": "[encoded data removed]",
      "text/plain": [
       "<Figure size 1000x500 with 1 Axes>"
      ]
     },
     "metadata": {},
     "output_type": "display_data"
    }
   ],
   "source": [
    "columns = rf_df.columns\n",
    "\n",
    "# n_estimators  = search_results.best_params_['n_estimators']\n",
    "# max_depth     = search_results.best_params_['max_depth']\n",
    "# learning_rate = search_results.best_params_['learning_rate']\n",
    "# gamma         = search_results.best_params_['gamma']\n",
    "objective = 'multi:softmax'\n",
    "\n",
    "skf = StratifiedKFold(n_splits=FOLDS, random_state=RANDOM_SEED, shuffle=True)\n",
    "skf.get_n_splits(X, y)\n",
    "\n",
    "results_df_arr = []\n",
    "for train_index, test_index in skf.split(X, y):\n",
    "    _X_train, _X_test = X.iloc[train_index], X.iloc[test_index]\n",
    "    _y_train, _y_test = y.iloc[train_index], y.iloc[test_index]\n",
    "    \n",
    "    # model = xgb.XGBClassifier(n_estimators=n_estimators, max_depth=max_depth,\n",
    "    #                           learning_rate=learning_rate, use_label_encoder=False, \n",
    "    #                           gamma=gamma, num_class=3,\n",
    "    #                           objective=objective, eval_metric='mlogloss')\n",
    "    model = xgb.XGBClassifier(use_label_encoder=False, objective=objective, eval_metric='mlogloss', num_class=3)\n",
    "    model.fit(_X_train, _y_train, verbose=1)\n",
    "\n",
    "    preds = model.predict(_X_test)\n",
    "    _X_test = pd.DataFrame(_X_test, columns=columns)\n",
    "    _X_test['y_pred'] = preds\n",
    "    _X_test['y_true'] = _y_test\n",
    "    res_df = _X_test[['time_window', 'y_true', 'y_pred']]\n",
    "    results_df_arr.append(res_df)\n",
    "\n",
    "mse_df = generate_results_over_time_window(results_df_arr)\n",
    "fp = os.path.join('evaluation', 'any_day_234_results.pkl')\n",
    "mse_df.to_pickle(fp)\n",
    "\n",
    "fig, ax = plt.subplots(figsize=(10, 5))\n",
    "mse_df['time_window'] = mse_df.index\n",
    "mse_df['time_window'].to_numpy()\n",
    "mse_df['time_window'] = mse_df['time_window'].to_numpy().astype('int')\n",
    "mse_df = mse_df.reset_index(drop=True).set_index('time_window')\n",
    "\n",
    "mse_df.T.boxplot(ax=ax)\n",
    "\n",
    "ax.set_title(\"Any Day, bins: 234\")\n",
    "ax.set_ylabel(\"Root Mean Square Error\")\n",
    "ax.set_xlabel(\"30 minute time windows\")\n",
    "ax.set_ylim(0.0, 2.5)\n",
    "\n",
    "fp = os.path.join('plots', 'any_day_simple_234.png')\n",
    "plt.savefig(fp, dpi=200, bbox_inches='tight')"
   ]
  },
  {
   "cell_type": "markdown",
   "metadata": {},
   "source": [
    "## Baseline"
   ]
  },
  {
   "cell_type": "code",
   "execution_count": 119,
   "metadata": {},
   "outputs": [],
   "source": [
    "import numpy as np\n",
    "import swifter"
   ]
  },
  {
   "cell_type": "code",
   "execution_count": 144,
   "metadata": {},
   "outputs": [],
   "source": [
    "def get_statistical_prediction(row, percentile, lookback_duration, TARGET='y_reg100'):\n",
    "    trip_id = row.trip_id\n",
    "    transit_date = row.transit_date\n",
    "    route_id_direction = row.route_id_direction\n",
    "    lookback_date = transit_date - pd.Timedelta(lookback_duration)\n",
    "    tdf = df[(df['transit_date'] >= lookback_date) & \\\n",
    "             (df['transit_date'] < transit_date)]\n",
    "    tdf = tdf[(tdf['trip_id'] == trip_id) & \\\n",
    "              (tdf['route_id_direction'] == route_id_direction)]\n",
    "    if tdf.empty:\n",
    "        return -1\n",
    "    return np.percentile(tdf[TARGET].to_numpy(), percentile)"
   ]
  },
  {
   "cell_type": "code",
   "execution_count": 145,
   "metadata": {},
   "outputs": [
    {
     "data": {
      "application/vnd.jupyter.widget-view+json": {
       "model_id": "5ab3356fbdf84d06b17a3054317a5bd9",
       "version_major": 2,
       "version_minor": 0
      },
      "text/plain": [
       "Pandas Apply:   0%|          | 0/430404 [00:00<?, ?it/s]"
      ]
     },
     "metadata": {},
     "output_type": "display_data"
    },
    {
     "data": {
      "text/html": [
       "<div>\n",
       "<style scoped>\n",
       "    .dataframe tbody tr th:only-of-type {\n",
       "        vertical-align: middle;\n",
       "    }\n",
       "\n",
       "    .dataframe tbody tr th {\n",
       "        vertical-align: top;\n",
       "    }\n",
       "\n",
       "    .dataframe thead th {\n",
       "        text-align: right;\n",
       "    }\n",
       "</style>\n",
       "<table border=\"1\" class=\"dataframe\">\n",
       "  <thead>\n",
       "    <tr style=\"text-align: right;\">\n",
       "      <th></th>\n",
       "      <th>trip_id</th>\n",
       "      <th>transit_date</th>\n",
       "      <th>arrival_time</th>\n",
       "      <th>year</th>\n",
       "      <th>month</th>\n",
       "      <th>route_id</th>\n",
       "      <th>route_direction_name</th>\n",
       "      <th>block_abbr</th>\n",
       "      <th>dayofweek</th>\n",
       "      <th>hour</th>\n",
       "      <th>temperature</th>\n",
       "      <th>humidity</th>\n",
       "      <th>precipitation_intensity</th>\n",
       "      <th>scheduled_headway</th>\n",
       "      <th>actual_headways</th>\n",
       "      <th>y_reg100</th>\n",
       "      <th>y_reg095</th>\n",
       "      <th>route_id_direction</th>\n",
       "      <th>is_holiday</th>\n",
       "      <th>traffic_speed</th>\n",
       "      <th>y_class</th>\n",
       "      <th>time_window</th>\n",
       "    </tr>\n",
       "  </thead>\n",
       "  <tbody>\n",
       "    <tr>\n",
       "      <th>392045</th>\n",
       "      <td>195842</td>\n",
       "      <td>2020-01-01</td>\n",
       "      <td>2020-01-01 10:27:12</td>\n",
       "      <td>2020</td>\n",
       "      <td>1</td>\n",
       "      <td>3</td>\n",
       "      <td>FROM DOWNTOWN</td>\n",
       "      <td>300</td>\n",
       "      <td>4</td>\n",
       "      <td>10</td>\n",
       "      <td>40.150002</td>\n",
       "      <td>0.616000</td>\n",
       "      <td>0.000000</td>\n",
       "      <td>4800.000000</td>\n",
       "      <td>4811.800000</td>\n",
       "      <td>8.0</td>\n",
       "      <td>8.0</td>\n",
       "      <td>3_FROM DOWNTOWN</td>\n",
       "      <td>True</td>\n",
       "      <td>18.639604</td>\n",
       "      <td>0</td>\n",
       "      <td>20</td>\n",
       "    </tr>\n",
       "    <tr>\n",
       "      <th>286072</th>\n",
       "      <td>195844</td>\n",
       "      <td>2020-01-01</td>\n",
       "      <td>2020-01-01 11:50:51</td>\n",
       "      <td>2020</td>\n",
       "      <td>1</td>\n",
       "      <td>3</td>\n",
       "      <td>FROM DOWNTOWN</td>\n",
       "      <td>300</td>\n",
       "      <td>4</td>\n",
       "      <td>11</td>\n",
       "      <td>45.149673</td>\n",
       "      <td>0.519065</td>\n",
       "      <td>0.000000</td>\n",
       "      <td>2400.000000</td>\n",
       "      <td>2636.369565</td>\n",
       "      <td>3.0</td>\n",
       "      <td>2.0</td>\n",
       "      <td>3_FROM DOWNTOWN</td>\n",
       "      <td>True</td>\n",
       "      <td>17.891478</td>\n",
       "      <td>0</td>\n",
       "      <td>23</td>\n",
       "    </tr>\n",
       "    <tr>\n",
       "      <th>392046</th>\n",
       "      <td>195850</td>\n",
       "      <td>2020-01-01</td>\n",
       "      <td>2020-01-01 15:48:28</td>\n",
       "      <td>2020</td>\n",
       "      <td>1</td>\n",
       "      <td>3</td>\n",
       "      <td>FROM DOWNTOWN</td>\n",
       "      <td>300</td>\n",
       "      <td>4</td>\n",
       "      <td>15</td>\n",
       "      <td>52.428334</td>\n",
       "      <td>0.364667</td>\n",
       "      <td>0.000000</td>\n",
       "      <td>2400.000000</td>\n",
       "      <td>2410.222222</td>\n",
       "      <td>7.0</td>\n",
       "      <td>7.0</td>\n",
       "      <td>3_FROM DOWNTOWN</td>\n",
       "      <td>True</td>\n",
       "      <td>17.727612</td>\n",
       "      <td>0</td>\n",
       "      <td>31</td>\n",
       "    </tr>\n",
       "    <tr>\n",
       "      <th>301301</th>\n",
       "      <td>195852</td>\n",
       "      <td>2020-01-01</td>\n",
       "      <td>2020-01-01 17:20:28</td>\n",
       "      <td>2020</td>\n",
       "      <td>1</td>\n",
       "      <td>3</td>\n",
       "      <td>FROM DOWNTOWN</td>\n",
       "      <td>300</td>\n",
       "      <td>4</td>\n",
       "      <td>17</td>\n",
       "      <td>49.563932</td>\n",
       "      <td>0.461733</td>\n",
       "      <td>0.000000</td>\n",
       "      <td>2400.000000</td>\n",
       "      <td>2124.422222</td>\n",
       "      <td>5.0</td>\n",
       "      <td>4.8</td>\n",
       "      <td>3_FROM DOWNTOWN</td>\n",
       "      <td>True</td>\n",
       "      <td>17.823639</td>\n",
       "      <td>0</td>\n",
       "      <td>34</td>\n",
       "    </tr>\n",
       "    <tr>\n",
       "      <th>256070</th>\n",
       "      <td>195743</td>\n",
       "      <td>2020-01-02</td>\n",
       "      <td>2020-01-02 07:03:44</td>\n",
       "      <td>2020</td>\n",
       "      <td>1</td>\n",
       "      <td>3</td>\n",
       "      <td>FROM DOWNTOWN</td>\n",
       "      <td>300</td>\n",
       "      <td>5</td>\n",
       "      <td>7</td>\n",
       "      <td>47.708799</td>\n",
       "      <td>0.632378</td>\n",
       "      <td>0.000224</td>\n",
       "      <td>4703.733333</td>\n",
       "      <td>4720.133333</td>\n",
       "      <td>14.0</td>\n",
       "      <td>13.8</td>\n",
       "      <td>3_FROM DOWNTOWN</td>\n",
       "      <td>False</td>\n",
       "      <td>18.014706</td>\n",
       "      <td>1</td>\n",
       "      <td>14</td>\n",
       "    </tr>\n",
       "  </tbody>\n",
       "</table>\n",
       "</div>"
      ],
      "text/plain": [
       "       trip_id transit_date        arrival_time  year  month  route_id  \\\n",
       "392045  195842   2020-01-01 2020-01-01 10:27:12  2020      1         3   \n",
       "286072  195844   2020-01-01 2020-01-01 11:50:51  2020      1         3   \n",
       "392046  195850   2020-01-01 2020-01-01 15:48:28  2020      1         3   \n",
       "301301  195852   2020-01-01 2020-01-01 17:20:28  2020      1         3   \n",
       "256070  195743   2020-01-02 2020-01-02 07:03:44  2020      1         3   \n",
       "\n",
       "       route_direction_name  block_abbr  dayofweek  hour  temperature  \\\n",
       "392045        FROM DOWNTOWN         300          4    10    40.150002   \n",
       "286072        FROM DOWNTOWN         300          4    11    45.149673   \n",
       "392046        FROM DOWNTOWN         300          4    15    52.428334   \n",
       "301301        FROM DOWNTOWN         300          4    17    49.563932   \n",
       "256070        FROM DOWNTOWN         300          5     7    47.708799   \n",
       "\n",
       "        humidity  precipitation_intensity  scheduled_headway  actual_headways  \\\n",
       "392045  0.616000                 0.000000        4800.000000      4811.800000   \n",
       "286072  0.519065                 0.000000        2400.000000      2636.369565   \n",
       "392046  0.364667                 0.000000        2400.000000      2410.222222   \n",
       "301301  0.461733                 0.000000        2400.000000      2124.422222   \n",
       "256070  0.632378                 0.000224        4703.733333      4720.133333   \n",
       "\n",
       "        y_reg100  y_reg095 route_id_direction  is_holiday  traffic_speed  \\\n",
       "392045       8.0       8.0    3_FROM DOWNTOWN        True      18.639604   \n",
       "286072       3.0       2.0    3_FROM DOWNTOWN        True      17.891478   \n",
       "392046       7.0       7.0    3_FROM DOWNTOWN        True      17.727612   \n",
       "301301       5.0       4.8    3_FROM DOWNTOWN        True      17.823639   \n",
       "256070      14.0      13.8    3_FROM DOWNTOWN       False      18.014706   \n",
       "\n",
       "        y_class  time_window  \n",
       "392045        0           20  \n",
       "286072        0           23  \n",
       "392046        0           31  \n",
       "301301        0           34  \n",
       "256070        1           14  "
      ]
     },
     "execution_count": 145,
     "metadata": {},
     "output_type": "execute_result"
    }
   ],
   "source": [
    "processed_triplevel = os.path.join('data', 'processed', 'triplevel_df.parquet')\n",
    "df = pd.read_parquet(processed_triplevel, engine='auto')\n",
    "df = df.dropna()\n",
    "# Removing time_window in case a different one will be used\n",
    "df = df.drop(['time_window', 'load'], axis=1)\n",
    "df = df.reset_index(drop=True)\n",
    "df = df.sort_values(['block_abbr', 'transit_date', 'arrival_time', 'route_id_direction'])\n",
    "\n",
    "FOLDS = 3\n",
    "RANDOM_SEED = 100\n",
    "WINDOW = 30\n",
    "PAST_TRIPS = 5\n",
    "TARGET = 'y_reg100'\n",
    "\n",
    "percentiles = [(0.0, 9.0), (10.0, 16.0), (17.0, 100.0)]\n",
    "df['y_class'] = df[TARGET].swifter.apply(lambda x: data_utils.get_class(x, percentiles))\n",
    "df['y_class'] = df['y_class'].astype('int')\n",
    "\n",
    "df['minute'] = df['arrival_time'].dt.minute\n",
    "df['minuteByWindow'] = df['minute'] // WINDOW\n",
    "df['temp'] = df['minuteByWindow'] + (df['hour'] * 60 / WINDOW)\n",
    "df['time_window'] = np.floor(df['temp']).astype('int')\n",
    "df = df.drop(columns=['minute', 'minuteByWindow', 'temp'], axis=1)\n",
    "df.head()"
   ]
  },
  {
   "cell_type": "code",
   "execution_count": null,
   "metadata": {},
   "outputs": [],
   "source": [
    "skf = StratifiedKFold(n_splits=FOLDS, random_state=RANDOM_SEED, shuffle=True)\n",
    "X, y = df[['transit_date', 'trip_id', 'arrival_time', 'route_id_direction', 'time_window', TARGET]], df['y_class']\n",
    "skf.get_n_splits(X, y)\n",
    "\n",
    "lookback_distances = ['4W', '2W', '1W']\n",
    "percentile = 1.0\n",
    "results_df_arr = []\n",
    "for _, test_index in skf.split(X, y):\n",
    "    for lookback_distance in lookback_distances:\n",
    "        baseline_X = X.iloc[test_index]\n",
    "        baseline_Y = y.iloc[test_index]\n",
    "        \n",
    "        baseline_X['y_pred'] = baseline_X.swifter.apply(lambda x: get_statistical_prediction(x, percentile, lookback_distance, TARGET=TARGET), axis=1)\n",
    "        baseline_X['y_true'] = baseline_Y.to_numpy()\n",
    "        res_df = baseline_X[['time_window', 'y_true', 'y_pred']]\n",
    "        results_df_arr.append(res_df)\n",
    "    break"
   ]
  },
  {
   "cell_type": "code",
   "execution_count": 152,
   "metadata": {},
   "outputs": [],
   "source": [
    "results_df_arr[0]['y_pred_class'] = results_df_arr[0]['y_pred'].apply(lambda x: data_utils.get_class(x, percentiles))\n",
    "results_df_arr[1]['y_pred_class'] = results_df_arr[1]['y_pred'].apply(lambda x: data_utils.get_class(x, percentiles))\n",
    "results_df_arr[2]['y_pred_class'] = results_df_arr[2]['y_pred'].apply(lambda x: data_utils.get_class(x, percentiles))\n",
    "df1 = results_df_arr[0].dropna()\n",
    "df2 = results_df_arr[1].dropna()\n",
    "df3 = results_df_arr[2].dropna()\n",
    "df1 = df1[['time_window', 'y_true', 'y_pred_class']]\n",
    "df2 = df2[['time_window', 'y_true', 'y_pred_class']]\n",
    "df3 = df3[['time_window', 'y_true', 'y_pred_class']]\n",
    "df1 = df1.rename(columns={'y_pred_class': 'y_pred'})\n",
    "df2 = df2.rename(columns={'y_pred_class': 'y_pred'})\n",
    "df3 = df3.rename(columns={'y_pred_class': 'y_pred'})\n",
    "mse_df = generate_results_over_time_window([df1, df2, df3])\n",
    "fp = os.path.join('evaluation', 'baseline_012_results.pkl')\n",
    "mse_df.to_pickle(fp)"
   ]
  },
  {
   "cell_type": "code",
   "execution_count": 155,
   "metadata": {},
   "outputs": [
    {
     "data": {
      "image/png": "[encoded data removed]",
      "text/plain": [
       "<Figure size 1000x500 with 1 Axes>"
      ]
     },
     "metadata": {},
     "output_type": "display_data"
    }
   ],
   "source": [
    "fig, ax = plt.subplots(figsize=(10, 5))\n",
    "mse_df['time_window'] = mse_df.index\n",
    "mse_df['time_window'].to_numpy()\n",
    "mse_df['time_window'] = mse_df['time_window'].to_numpy().astype('int')\n",
    "mse_df = mse_df.reset_index(drop=True).set_index('time_window')\n",
    "\n",
    "mse_df.T.boxplot(ax=ax)\n",
    "\n",
    "ax.set_title(\"Baseline\")\n",
    "ax.set_ylabel(\"Root Mean Square Error\")\n",
    "ax.set_xlabel(\"30 minute time windows\")\n",
    "ax.set_ylim(0.0, 2.5)\n",
    "\n",
    "fp = os.path.join('plots', 'day_ahead_baseline_012.png')\n",
    "plt.savefig(fp, dpi=200, bbox_inches='tight')"
   ]
  },
  {
   "cell_type": "markdown",
   "metadata": {},
   "source": [
    "### Baseline 234"
   ]
  },
  {
   "cell_type": "code",
   "execution_count": 157,
   "metadata": {},
   "outputs": [
    {
     "data": {
      "application/vnd.jupyter.widget-view+json": {
       "model_id": "c0d4f513cf7f4fe8aeb3107daab083d1",
       "version_major": 2,
       "version_minor": 0
      },
      "text/plain": [
       "Pandas Apply:   0%|          | 0/128118 [00:00<?, ?it/s]"
      ]
     },
     "metadata": {},
     "output_type": "display_data"
    },
    {
     "data": {
      "text/html": [
       "<div>\n",
       "<style scoped>\n",
       "    .dataframe tbody tr th:only-of-type {\n",
       "        vertical-align: middle;\n",
       "    }\n",
       "\n",
       "    .dataframe tbody tr th {\n",
       "        vertical-align: top;\n",
       "    }\n",
       "\n",
       "    .dataframe thead th {\n",
       "        text-align: right;\n",
       "    }\n",
       "</style>\n",
       "<table border=\"1\" class=\"dataframe\">\n",
       "  <thead>\n",
       "    <tr style=\"text-align: right;\">\n",
       "      <th></th>\n",
       "      <th>trip_id</th>\n",
       "      <th>transit_date</th>\n",
       "      <th>arrival_time</th>\n",
       "      <th>year</th>\n",
       "      <th>month</th>\n",
       "      <th>route_id</th>\n",
       "      <th>route_direction_name</th>\n",
       "      <th>block_abbr</th>\n",
       "      <th>dayofweek</th>\n",
       "      <th>hour</th>\n",
       "      <th>temperature</th>\n",
       "      <th>humidity</th>\n",
       "      <th>precipitation_intensity</th>\n",
       "      <th>scheduled_headway</th>\n",
       "      <th>actual_headways</th>\n",
       "      <th>y_reg100</th>\n",
       "      <th>y_reg095</th>\n",
       "      <th>route_id_direction</th>\n",
       "      <th>is_holiday</th>\n",
       "      <th>traffic_speed</th>\n",
       "      <th>y_class</th>\n",
       "      <th>time_window</th>\n",
       "    </tr>\n",
       "  </thead>\n",
       "  <tbody>\n",
       "    <tr>\n",
       "      <th>301336</th>\n",
       "      <td>195743</td>\n",
       "      <td>2020-01-03</td>\n",
       "      <td>2020-01-03 07:03:16</td>\n",
       "      <td>2020</td>\n",
       "      <td>1</td>\n",
       "      <td>3</td>\n",
       "      <td>FROM DOWNTOWN</td>\n",
       "      <td>300</td>\n",
       "      <td>6</td>\n",
       "      <td>7</td>\n",
       "      <td>52.718066</td>\n",
       "      <td>0.959467</td>\n",
       "      <td>0.000000</td>\n",
       "      <td>4703.733333</td>\n",
       "      <td>4775.977778</td>\n",
       "      <td>18.0</td>\n",
       "      <td>18.00</td>\n",
       "      <td>3_FROM DOWNTOWN</td>\n",
       "      <td>False</td>\n",
       "      <td>17.331706</td>\n",
       "      <td>0</td>\n",
       "      <td>14</td>\n",
       "    </tr>\n",
       "    <tr>\n",
       "      <th>316472</th>\n",
       "      <td>195738</td>\n",
       "      <td>2020-01-03</td>\n",
       "      <td>2020-01-03 08:40:30</td>\n",
       "      <td>2020</td>\n",
       "      <td>1</td>\n",
       "      <td>3</td>\n",
       "      <td>FROM DOWNTOWN</td>\n",
       "      <td>300</td>\n",
       "      <td>6</td>\n",
       "      <td>8</td>\n",
       "      <td>53.563000</td>\n",
       "      <td>0.953000</td>\n",
       "      <td>0.000500</td>\n",
       "      <td>1300.717391</td>\n",
       "      <td>735.456522</td>\n",
       "      <td>18.0</td>\n",
       "      <td>17.75</td>\n",
       "      <td>3_FROM DOWNTOWN</td>\n",
       "      <td>False</td>\n",
       "      <td>17.761048</td>\n",
       "      <td>0</td>\n",
       "      <td>17</td>\n",
       "    </tr>\n",
       "    <tr>\n",
       "      <th>135589</th>\n",
       "      <td>195775</td>\n",
       "      <td>2020-01-03</td>\n",
       "      <td>2020-01-03 09:28:04</td>\n",
       "      <td>2020</td>\n",
       "      <td>1</td>\n",
       "      <td>3</td>\n",
       "      <td>TO DOWNTOWN</td>\n",
       "      <td>300</td>\n",
       "      <td>6</td>\n",
       "      <td>9</td>\n",
       "      <td>54.412660</td>\n",
       "      <td>0.957900</td>\n",
       "      <td>0.000010</td>\n",
       "      <td>5275.380000</td>\n",
       "      <td>5285.440000</td>\n",
       "      <td>21.0</td>\n",
       "      <td>18.00</td>\n",
       "      <td>3_TO DOWNTOWN</td>\n",
       "      <td>False</td>\n",
       "      <td>17.401242</td>\n",
       "      <td>0</td>\n",
       "      <td>18</td>\n",
       "    </tr>\n",
       "    <tr>\n",
       "      <th>286104</th>\n",
       "      <td>195732</td>\n",
       "      <td>2020-01-03</td>\n",
       "      <td>2020-01-03 11:30:46</td>\n",
       "      <td>2020</td>\n",
       "      <td>1</td>\n",
       "      <td>3</td>\n",
       "      <td>FROM DOWNTOWN</td>\n",
       "      <td>300</td>\n",
       "      <td>6</td>\n",
       "      <td>11</td>\n",
       "      <td>56.139999</td>\n",
       "      <td>0.960000</td>\n",
       "      <td>0.000200</td>\n",
       "      <td>5400.000000</td>\n",
       "      <td>5667.913043</td>\n",
       "      <td>24.0</td>\n",
       "      <td>23.00</td>\n",
       "      <td>3_FROM DOWNTOWN</td>\n",
       "      <td>False</td>\n",
       "      <td>16.189918</td>\n",
       "      <td>0</td>\n",
       "      <td>23</td>\n",
       "    </tr>\n",
       "    <tr>\n",
       "      <th>407034</th>\n",
       "      <td>195769</td>\n",
       "      <td>2020-01-03</td>\n",
       "      <td>2020-01-03 12:20:19</td>\n",
       "      <td>2020</td>\n",
       "      <td>1</td>\n",
       "      <td>3</td>\n",
       "      <td>TO DOWNTOWN</td>\n",
       "      <td>300</td>\n",
       "      <td>6</td>\n",
       "      <td>12</td>\n",
       "      <td>56.868139</td>\n",
       "      <td>0.956080</td>\n",
       "      <td>0.009118</td>\n",
       "      <td>5400.000000</td>\n",
       "      <td>5432.640000</td>\n",
       "      <td>20.0</td>\n",
       "      <td>20.00</td>\n",
       "      <td>3_TO DOWNTOWN</td>\n",
       "      <td>False</td>\n",
       "      <td>16.019135</td>\n",
       "      <td>0</td>\n",
       "      <td>24</td>\n",
       "    </tr>\n",
       "  </tbody>\n",
       "</table>\n",
       "</div>"
      ],
      "text/plain": [
       "       trip_id transit_date        arrival_time  year  month  route_id  \\\n",
       "301336  195743   2020-01-03 2020-01-03 07:03:16  2020      1         3   \n",
       "316472  195738   2020-01-03 2020-01-03 08:40:30  2020      1         3   \n",
       "135589  195775   2020-01-03 2020-01-03 09:28:04  2020      1         3   \n",
       "286104  195732   2020-01-03 2020-01-03 11:30:46  2020      1         3   \n",
       "407034  195769   2020-01-03 2020-01-03 12:20:19  2020      1         3   \n",
       "\n",
       "       route_direction_name  block_abbr  dayofweek  hour  temperature  \\\n",
       "301336        FROM DOWNTOWN         300          6     7    52.718066   \n",
       "316472        FROM DOWNTOWN         300          6     8    53.563000   \n",
       "135589          TO DOWNTOWN         300          6     9    54.412660   \n",
       "286104        FROM DOWNTOWN         300          6    11    56.139999   \n",
       "407034          TO DOWNTOWN         300          6    12    56.868139   \n",
       "\n",
       "        humidity  precipitation_intensity  scheduled_headway  actual_headways  \\\n",
       "301336  0.959467                 0.000000        4703.733333      4775.977778   \n",
       "316472  0.953000                 0.000500        1300.717391       735.456522   \n",
       "135589  0.957900                 0.000010        5275.380000      5285.440000   \n",
       "286104  0.960000                 0.000200        5400.000000      5667.913043   \n",
       "407034  0.956080                 0.009118        5400.000000      5432.640000   \n",
       "\n",
       "        y_reg100  y_reg095 route_id_direction  is_holiday  traffic_speed  \\\n",
       "301336      18.0     18.00    3_FROM DOWNTOWN       False      17.331706   \n",
       "316472      18.0     17.75    3_FROM DOWNTOWN       False      17.761048   \n",
       "135589      21.0     18.00      3_TO DOWNTOWN       False      17.401242   \n",
       "286104      24.0     23.00    3_FROM DOWNTOWN       False      16.189918   \n",
       "407034      20.0     20.00      3_TO DOWNTOWN       False      16.019135   \n",
       "\n",
       "        y_class  time_window  \n",
       "301336        0           14  \n",
       "316472        0           17  \n",
       "135589        0           18  \n",
       "286104        0           23  \n",
       "407034        0           24  "
      ]
     },
     "execution_count": 157,
     "metadata": {},
     "output_type": "execute_result"
    }
   ],
   "source": [
    "processed_triplevel = os.path.join('data', 'processed', 'triplevel_df.parquet')\n",
    "df = pd.read_parquet(processed_triplevel, engine='auto')\n",
    "df = df.dropna()\n",
    "# Removing time_window in case a different one will be used\n",
    "df = df.drop(['time_window', 'load'], axis=1)\n",
    "df = df.reset_index(drop=True)\n",
    "df = df.sort_values(['block_abbr', 'transit_date', 'arrival_time', 'route_id_direction'])\n",
    "\n",
    "FOLDS = 3\n",
    "RANDOM_SEED = 100\n",
    "WINDOW = 30\n",
    "PAST_TRIPS = 5\n",
    "TARGET = 'y_reg100'\n",
    "df = df[df[TARGET] >= 17]\n",
    "\n",
    "percentiles = [(16.0, 55.0), (56.0, 75.0), (76.0, 100.0)]\n",
    "df['y_class'] = df[TARGET].swifter.apply(lambda x: data_utils.get_class(x, percentiles))\n",
    "df['y_class'] = df['y_class'].astype('int')\n",
    "\n",
    "df['minute'] = df['arrival_time'].dt.minute\n",
    "df['minuteByWindow'] = df['minute'] // WINDOW\n",
    "df['temp'] = df['minuteByWindow'] + (df['hour'] * 60 / WINDOW)\n",
    "df['time_window'] = np.floor(df['temp']).astype('int')\n",
    "df = df.drop(columns=['minute', 'minuteByWindow', 'temp'], axis=1)\n",
    "df.head()"
   ]
  },
  {
   "cell_type": "code",
   "execution_count": 158,
   "metadata": {},
   "outputs": [
    {
     "data": {
      "application/vnd.jupyter.widget-view+json": {
       "model_id": "cf4d9b94ff8e415f9bcecf5847b6514e",
       "version_major": 2,
       "version_minor": 0
      },
      "text/plain": [
       "Pandas Apply:   0%|          | 0/42706 [00:00<?, ?it/s]"
      ]
     },
     "metadata": {},
     "output_type": "display_data"
    },
    {
     "data": {
      "application/vnd.jupyter.widget-view+json": {
       "model_id": "e7d2e30556084645a0f650f6657e2b40",
       "version_major": 2,
       "version_minor": 0
      },
      "text/plain": [
       "Pandas Apply:   0%|          | 0/42706 [00:00<?, ?it/s]"
      ]
     },
     "metadata": {},
     "output_type": "display_data"
    },
    {
     "data": {
      "application/vnd.jupyter.widget-view+json": {
       "model_id": "25203b20844a40cfab5be8dbe2490a6c",
       "version_major": 2,
       "version_minor": 0
      },
      "text/plain": [
       "Pandas Apply:   0%|          | 0/42706 [00:00<?, ?it/s]"
      ]
     },
     "metadata": {},
     "output_type": "display_data"
    }
   ],
   "source": [
    "skf = StratifiedKFold(n_splits=FOLDS, random_state=RANDOM_SEED, shuffle=True)\n",
    "X, y = df[['transit_date', 'trip_id', 'arrival_time', 'route_id_direction', 'time_window', TARGET]], df['y_class']\n",
    "skf.get_n_splits(X, y)\n",
    "\n",
    "lookback_distances = ['4W', '2W', '1W']\n",
    "percentile = 1.0\n",
    "results_df_arr = []\n",
    "for _, test_index in skf.split(X, y):\n",
    "    for lookback_distance in lookback_distances:\n",
    "        baseline_X = X.iloc[test_index]\n",
    "        baseline_Y = y.iloc[test_index]\n",
    "        \n",
    "        baseline_X['y_pred'] = baseline_X.swifter.apply(lambda x: get_statistical_prediction(x, percentile, lookback_distance, TARGET=TARGET), axis=1)\n",
    "        baseline_X['y_true'] = baseline_Y.to_numpy()\n",
    "        res_df = baseline_X[['time_window', 'y_true', 'y_pred']]\n",
    "        results_df_arr.append(res_df)\n",
    "    break"
   ]
  },
  {
   "cell_type": "code",
   "execution_count": 159,
   "metadata": {},
   "outputs": [],
   "source": [
    "results_df_arr[0]['y_pred_class'] = results_df_arr[0]['y_pred'].apply(lambda x: data_utils.get_class(x, percentiles))\n",
    "results_df_arr[1]['y_pred_class'] = results_df_arr[1]['y_pred'].apply(lambda x: data_utils.get_class(x, percentiles))\n",
    "results_df_arr[2]['y_pred_class'] = results_df_arr[2]['y_pred'].apply(lambda x: data_utils.get_class(x, percentiles))\n",
    "df1 = results_df_arr[0].dropna()\n",
    "df2 = results_df_arr[1].dropna()\n",
    "df3 = results_df_arr[2].dropna()\n",
    "df1 = df1[['time_window', 'y_true', 'y_pred_class']]\n",
    "df2 = df2[['time_window', 'y_true', 'y_pred_class']]\n",
    "df3 = df3[['time_window', 'y_true', 'y_pred_class']]\n",
    "df1 = df1.rename(columns={'y_pred_class': 'y_pred'})\n",
    "df2 = df2.rename(columns={'y_pred_class': 'y_pred'})\n",
    "df3 = df3.rename(columns={'y_pred_class': 'y_pred'})\n",
    "mse_df = generate_results_over_time_window([df1, df2, df3])\n",
    "fp = os.path.join('evaluation', 'baseline_234_results.pkl')\n",
    "mse_df.to_pickle(fp)"
   ]
  },
  {
   "cell_type": "code",
   "execution_count": 160,
   "metadata": {},
   "outputs": [
    {
     "data": {
      "image/png": "[encoded data removed]",
      "text/plain": [
       "<Figure size 1000x500 with 1 Axes>"
      ]
     },
     "metadata": {},
     "output_type": "display_data"
    }
   ],
   "source": [
    "fig, ax = plt.subplots(figsize=(10, 5))\n",
    "mse_df['time_window'] = mse_df.index\n",
    "mse_df['time_window'].to_numpy()\n",
    "mse_df['time_window'] = mse_df['time_window'].to_numpy().astype('int')\n",
    "mse_df = mse_df.reset_index(drop=True).set_index('time_window')\n",
    "\n",
    "mse_df.T.boxplot(ax=ax)\n",
    "\n",
    "ax.set_title(\"Baseline, bins:234\")\n",
    "ax.set_ylabel(\"Root Mean Square Error\")\n",
    "ax.set_xlabel(\"30 minute time windows\")\n",
    "ax.set_ylim(0.0, 2.5)\n",
    "\n",
    "fp = os.path.join('plots', 'day_ahead_baseline_234.png')\n",
    "plt.savefig(fp, dpi=200, bbox_inches='tight')"
   ]
  }
 ],
 "metadata": {
  "kernelspec": {
   "display_name": "Python 3.9.13 ('py39')",
   "language": "python",
   "name": "python3"
  },
  "language_info": {
   "codemirror_mode": {
    "name": "ipython",
    "version": 3
   },
   "file_extension": ".py",
   "mimetype": "text/x-python",
   "name": "python",
   "nbconvert_exporter": "python",
   "pygments_lexer": "ipython3",
   "version": "3.9.13"
  },
  "orig_nbformat": 4,
  "vscode": {
   "interpreter": {
    "hash": "88d12193eb5d2fbe298f9bb9e457ac6a535b56551d0f537fc14a1636657a2895"
   }
  }
 },
 "nbformat": 4,
 "nbformat_minor": 2
}
