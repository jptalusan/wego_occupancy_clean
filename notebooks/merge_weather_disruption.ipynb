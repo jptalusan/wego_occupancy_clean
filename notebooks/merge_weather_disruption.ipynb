{
 "cells": [
  {
   "cell_type": "code",
   "execution_count": 1,
   "metadata": {},
   "outputs": [
    {
     "name": "stderr",
     "output_type": "stream",
     "text": [
      "/home/jptalusan/anaconda3/envs/py39/lib/python3.9/site-packages/geopandas/_compat.py:112: UserWarning: The Shapely GEOS version (3.10.2-CAPI-1.16.0) is incompatible with the GEOS version PyGEOS was compiled with (3.10.1-CAPI-1.16.0). Conversions between both will be slow.\n",
      "  warnings.warn(\n"
     ]
    },
    {
     "name": "stdout",
     "output_type": "stream",
     "text": [
      "22/09/06 17:55:01 WARN Utils: Your hostname, scope-vanderbilt resolves to a loopback address: 127.0.1.1; using 10.2.218.69 instead (on interface enp8s0)\n",
      "22/09/06 17:55:01 WARN Utils: Set SPARK_LOCAL_IP if you need to bind to another address\n"
     ]
    },
    {
     "name": "stderr",
     "output_type": "stream",
     "text": [
      "Setting default log level to \"WARN\".\n",
      "To adjust logging level use sc.setLogLevel(newLevel). For SparkR, use setLogLevel(newLevel).\n"
     ]
    },
    {
     "name": "stdout",
     "output_type": "stream",
     "text": [
      "22/09/06 17:55:02 WARN NativeCodeLoader: Unable to load native-hadoop library for your platform... using builtin-java classes where applicable\n",
      "22/09/06 17:55:02 WARN Utils: Service 'SparkUI' could not bind on port 4040. Attempting port 4041.\n"
     ]
    }
   ],
   "source": [
    "import pandas as pd\n",
    "import os\n",
    "os.chdir(\"/media/seconddrive/mta_stationing_problem\")\n",
    "import gtfs_kit as gk\n",
    "from pyspark import SparkContext,SparkConf\n",
    "from pyspark.sql import SQLContext\n",
    "from pyspark.sql import Row, SparkSession\n",
    "from pyspark.sql.types import IntegerType\n",
    "from pyspark.sql import functions as F\n",
    "from pyspark import SparkConf\n",
    "import pandas as pd\n",
    "import matplotlib.pyplot as plt\n",
    "import plotly.express as px\n",
    "import plotly.graph_objects as go\n",
    "import osmnx as ox\n",
    "import geopandas as gpd\n",
    "import pickle\n",
    "import numpy as np\n",
    "from tqdm import tqdm\n",
    "from src import data_utils, triplevel_utils\n",
    "import warnings\n",
    "from shapely.errors import ShapelyDeprecationWarning\n",
    "warnings.filterwarnings(\"ignore\", category=ShapelyDeprecationWarning) \n",
    "\n",
    "pd.set_option('display.max_columns', None)\n",
    "spark = SparkSession.builder.master(\"local[*]\")\\\n",
    "                                    .config(\"spark.sql.session.timeZone\", \"UTC\")\\\n",
    "                                    .config('spark.driver.extraJavaOptions', '-Duser.timezone=UTC')\\\n",
    "                                    .config('spark.driver.memory', '2g')\\\n",
    "                                    .config('spark.executor.memory', '2g')\\\n",
    "                                    .config(\"spark.ui.showConsoleProgress\", \"false\")\\\n",
    "                                    .appName(\"app\").getOrCreate()\n",
    "\n",
    "spark.sparkContext.setLogLevel(\"ERROR\")"
   ]
  },
  {
   "cell_type": "code",
   "execution_count": 7,
   "metadata": {},
   "outputs": [],
   "source": [
    "filepath = os.path.join(\"data\", \"weather\", \"darksky_nashville_20220406.csv\")\n",
    "darksky = pd.read_csv(filepath)\n",
    "# GMT-5\n",
    "darksky['datetime'] = darksky['time'] - 18000\n",
    "darksky['datetime'] = pd.to_datetime(darksky['datetime'], infer_datetime_format=True, unit='s')\n",
    "darksky = darksky.set_index(darksky['datetime'])\n",
    "# darksky = darksky.sort_index().loc[date_range[0]:date_range[1]]\n",
    "darksky['year'] = darksky['datetime'].dt.year\n",
    "darksky['month'] = darksky['datetime'].dt.month\n",
    "darksky['day'] = darksky['datetime'].dt.day\n",
    "darksky['hour'] = darksky['datetime'].dt.hour\n",
    "val_cols= ['temperature', 'humidity', 'nearest_storm_distance', 'precipitation_intensity', 'precipitation_probability', 'pressure', 'wind_gust', 'wind_speed']\n",
    "join_cols = ['year', 'month', 'day', 'hour']\n",
    "darksky = darksky[val_cols+join_cols]\n",
    "renamed_cols = {k: f\"darksky_{k}\" for k in val_cols}\n",
    "darksky = darksky.rename(columns=renamed_cols)\n",
    "darksky = darksky.groupby(['year', 'month', 'day', 'hour']).mean().reset_index()\n",
    "darksky=spark.createDataFrame(darksky)\n",
    "darksky.createOrReplaceTempView(\"darksky\")"
   ]
  },
  {
   "cell_type": "code",
   "execution_count": 9,
   "metadata": {},
   "outputs": [
    {
     "name": "stdout",
     "output_type": "stream",
     "text": [
      "Shape: (5066, 10)\n"
     ]
    }
   ],
   "source": [
    "# Get service disruption dataset\n",
    "fp = os.path.join('data', 'others', 'Service Disruptions_07_2019_08_2022.csv')\n",
    "disruptions_df = pd.read_csv(fp)\n",
    "disruptions_df.head()\n",
    "disruptions_df['DATETIME'] = disruptions_df['DATE'] + ' ' + disruptions_df['TIME']\n",
    "disruptions_df['DATE'] = pd.to_datetime(disruptions_df['DATE'], format='%m/%d/%y', errors='coerce')\n",
    "disruptions_df['TIME'] = pd.to_datetime(disruptions_df['TIME'], format='%H:%M:%S', errors='coerce')\n",
    "disruptions_df['DATETIME'] = pd.to_datetime(disruptions_df['DATETIME'], format='%m/%d/%y %H:%M:%S', errors='coerce')\n",
    "\n",
    "# Remove weather related disruptions\n",
    "# disruptions_df = disruptions_df[(disruptions_df['REASON'] != 'Weather')].sort_values(by=['DATETIME']).reset_index(drop=True)\n",
    "print('Shape:', disruptions_df.shape)\n",
    "# disruptions_df = disruptions_df.drop(columns=['COMMENTS'])\n",
    "disruptions_df['BLOCK'] = disruptions_df['BLOCK'].astype('int32')\n",
    "\n",
    "# Convert to spark dataframe for merging\n",
    "# disruptions_sp = disruptions_sp.withColumn(\"BLOCK\", F.col(\"BLOCK\").cast(IntegerType()))\n",
    "\n",
    "disruptions_df['year'] = disruptions_df['DATETIME'].dt.year\n",
    "disruptions_df['month'] = disruptions_df['DATETIME'].dt.month\n",
    "disruptions_df['day'] = disruptions_df['DATETIME'].dt.day\n",
    "disruptions_df['hour'] = disruptions_df['DATETIME'].dt.hour\n",
    "\n",
    "disruptions_sp = spark.createDataFrame(disruptions_df)"
   ]
  },
  {
   "cell_type": "code",
   "execution_count": 10,
   "metadata": {},
   "outputs": [],
   "source": [
    "\n",
    "# join apc and darksky\n",
    "disruptions_sp = disruptions_sp.join(darksky,on=['year', 'month', 'day', 'hour'], how='left')"
   ]
  },
  {
   "cell_type": "code",
   "execution_count": 12,
   "metadata": {},
   "outputs": [],
   "source": [
    "# load weatherbit\n",
    "filepath = os.path.join(\"data\", \"weather\", \"weatherbit_weather_2010_2022.parquet\")\n",
    "weatherbit = spark.read.load(filepath)\n",
    "\n",
    "weatherbit = weatherbit.filter(\"(spatial_id = 'Berry Hill') OR (spatial_id = 'Belle Meade')\")\n",
    "weatherbit.createOrReplaceTempView(\"weatherbit\")\n",
    "query = f\"\"\"\n",
    "SELECT *\n",
    "FROM weatherbit\n",
    "\"\"\"\n",
    "weatherbit = spark.sql(query)\n",
    "\n",
    "weatherbit = weatherbit.withColumn('year', F.year(weatherbit.timestamp_local))\n",
    "weatherbit = weatherbit.withColumn('month', F.month(weatherbit.timestamp_local))\n",
    "weatherbit = weatherbit.withColumn('day', F.dayofmonth(weatherbit.timestamp_local))\n",
    "weatherbit = weatherbit.withColumn('hour', F.hour(weatherbit.timestamp_local))\n",
    "weatherbit = weatherbit.select('year', 'month', 'day', 'hour', 'rh', 'wind_spd', 'slp', 'app_temp', 'temp', 'snow', 'precip')\n",
    "weatherbit = weatherbit.groupBy('year', 'month', 'day', 'hour').agg(F.mean('rh').alias('weatherbit_rh'), \\\n",
    "                                                                    F.mean('wind_spd').alias('weatherbit_wind_spd'), \\\n",
    "                                                                    F.mean('app_temp').alias('weatherbit_app_temp'), \\\n",
    "                                                                    F.mean('temp').alias('weatherbit_temp'), \\\n",
    "                                                                    F.mean('snow').alias('weatherbit_snow'), \\\n",
    "                                                                    F.mean('precip').alias('weatherbit_precip')\n",
    "                                                                   )\n",
    "weatherbit = weatherbit.sort(['year', 'month', 'day', 'hour'])\n",
    "\n",
    "# join apc and weatherbit\n",
    "disruptions_sp = disruptions_sp.join(weatherbit,on=['year', 'month', 'day', 'hour'], how='left')"
   ]
  },
  {
   "cell_type": "code",
   "execution_count": 13,
   "metadata": {},
   "outputs": [],
   "source": [
    "disruptions_df = disruptions_sp.toPandas()"
   ]
  },
  {
   "cell_type": "code",
   "execution_count": 18,
   "metadata": {},
   "outputs": [
    {
     "data": {
      "text/plain": [
       "<AxesSubplot:>"
      ]
     },
     "execution_count": 18,
     "metadata": {},
     "output_type": "execute_result"
    },
    {
     "data": {
      "image/png": "[encoded data removed]",
      "text/plain": [
       "<Figure size 432x288 with 1 Axes>"
      ]
     },
     "metadata": {
      "needs_background": "light"
     },
     "output_type": "display_data"
    }
   ],
   "source": [
    "disruptions_df.query(\"month == 1\")['weatherbit_snow'].plot()"
   ]
  },
  {
   "cell_type": "code",
   "execution_count": 17,
   "metadata": {},
   "outputs": [
    {
     "data": {
      "text/plain": [
       "<AxesSubplot:>"
      ]
     },
     "execution_count": 17,
     "metadata": {},
     "output_type": "execute_result"
    },
    {
     "data": {
      "image/png": "[encoded data removed]",
      "text/plain": [
       "<Figure size 432x288 with 1 Axes>"
      ]
     },
     "metadata": {
      "needs_background": "light"
     },
     "output_type": "display_data"
    }
   ],
   "source": [
    "disruptions_df.query(\"month == 7\")['weatherbit_snow'].plot()"
   ]
  },
  {
   "cell_type": "code",
   "execution_count": 22,
   "metadata": {},
   "outputs": [
    {
     "data": {
      "text/plain": [
       "(5066, 28)"
      ]
     },
     "execution_count": 22,
     "metadata": {},
     "output_type": "execute_result"
    }
   ],
   "source": [
    "disruptions_df.shape"
   ]
  },
  {
   "cell_type": "code",
   "execution_count": 24,
   "metadata": {},
   "outputs": [],
   "source": [
    "fp = 'data/processed/service_disruptions_with_weather.pkl'\n",
    "disruptions_df.to_pickle(fp)"
   ]
  },
  {
   "cell_type": "code",
   "execution_count": null,
   "metadata": {},
   "outputs": [],
   "source": []
  }
 ],
 "metadata": {
  "kernelspec": {
   "display_name": "Python 3.9.13 ('py39')",
   "language": "python",
   "name": "python3"
  },
  "language_info": {
   "codemirror_mode": {
    "name": "ipython",
    "version": 3
   },
   "file_extension": ".py",
   "mimetype": "text/x-python",
   "name": "python",
   "nbconvert_exporter": "python",
   "pygments_lexer": "ipython3",
   "version": "3.9.13"
  },
  "orig_nbformat": 4,
  "vscode": {
   "interpreter": {
    "hash": "88d12193eb5d2fbe298f9bb9e457ac6a535b56551d0f537fc14a1636657a2895"
   }
  }
 },
 "nbformat": 4,
 "nbformat_minor": 2
}
